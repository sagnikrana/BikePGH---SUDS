{
 "cells": [
  {
   "cell_type": "code",
   "execution_count": 89,
   "metadata": {},
   "outputs": [],
   "source": [
    "import pandas as pd\n",
    "import numpy as np\n",
    "import matplotlib.pyplot as plt\n",
    "import statsmodels.api as sm\n",
    "import seaborn as sns\n",
    "from pandas.io.sas.sas7bdat import _column\n",
    "from sklearn.linear_model import LinearRegression\n",
    "from sklearn.model_selection import train_test_split\n",
    "from sklearn import linear_model\n",
    "from sklearn.metrics import mean_squared_error\n",
    "import sys\n",
    "import seaborn as sns\n",
    "\n",
    "pd.set_option('display.max_rows',10000)\n",
    "pd.set_option('display.max_columns',100)\n",
    "pd.set_option('display.max_colwidth',100)\n",
    "pd.set_option('display.width',None)"
   ]
  },
  {
   "cell_type": "code",
   "execution_count": 90,
   "metadata": {},
   "outputs": [],
   "source": [
    "df = pd.read_excel(\"SUDS.xlsx\")"
   ]
  },
  {
   "cell_type": "code",
   "execution_count": 91,
   "metadata": {},
   "outputs": [],
   "source": [
    "df = df.rename(columns = {'X1..What.do.you.like.best.about..OpenStreetsPGH....check.all.that.apply.':'Best_about_BikePGH'})\n",
    "df = df.rename(columns = {'X2..Have.you.attended.OpenStreetsPGH.before...check.one.':'Attended_Before'})\n",
    "df = df.rename(columns = {'X3..How.did.you.hear.about.OpenStreetsPGH...check.all.that.apply.':'How_you_heard'})\n",
    "df = df.rename(columns = {'X4..What.are.your.primary.activities.at.OpenStreetsPGH..check.up.to.2.':'Primary_activities'})\n",
    "df = df.rename(columns = {'X5..How.long.will.you.spend.at.OSP.today.':'Time_you_will_spend'})\n",
    "df = df.rename(columns = {'X6..Do.you.typically.walk.for.exercise..not.including.OpenStreetsPGH..':'Walking_tendency'})\n",
    "df = df.rename(columns = {'X7..Do.you.typically.bike.for.exercise..not.including.OpenStreetsPGH..':'Biking_tendency'})\n",
    "df = df.rename(columns = {'X8..What.s.your.likelihood.of.walking.for.exercise.in.the.future.':'Likelihood_walking_exercise'})\n",
    "df = df.rename(columns = {'X9..What.s.your.likelihood.of.biking.for.exercise.in.the.future.':'Likelihood_biking_exercise'})\n",
    "df = df.rename(columns = {'X10..Do.you.typically.walk.for.transportation.trips..e.g..commute..errands..shop..visiting.friends..etc..':'Do_you_walk'})\n",
    "df = df.rename(columns = {'X11..Do.you.typically.Bike.for.transportation.trips.':'Do_you_bike'})\n",
    "df = df.rename(columns = {'X12..What.s.your.likelihood.of.walking.for.transportation...trips.in.the.future.':'Likelihood_walking_transportation'})\n",
    "df = df.rename(columns = {'X13..What.s.your.likelihood.of.biking.for.transportation...trips.in.the.future.':'Likelihood_biking_transportation'})\n",
    "df = df.rename(columns = {'X14..What.would.get.you.riding.a.bike.more.often.':'Reasons_for_biking'})\n",
    "df = df.rename(columns = {'X15..Yes.or.no..did.you.know.that.the.nonprofit.organization..Bike.Pittsburgh..organizes.OpenstreetsPGH..':'BikePGH_organizes_OSPGH'})\n",
    "df = df.rename(columns = {'Did.you.bring.any.children.to.OSP..if.so.write.the.number.of.childres.next.to.the.corresponding.age.range....0.3.year.old.':'Children_0-3'})\n",
    "df = df.rename(columns = {'Did.you.bring.any.children.to.OSP..if.so.write.the.number.of.childres.next.to.the.corresponding.age.range....4.8.year.old..':'Children_4-8'})\n",
    "df = df.rename(columns = {'Did.you.bring.any.children.to.OSP..if.so.write.the.number.of.childres.next.to.the.corresponding.age.range....9.13.year.old.':'Children_9-13'})\n",
    "df = df.rename(columns = {'Did.you.bring.any.children.to.OSP..if.so.write.the.number.of.childres.next.to.the.corresponding.age.range....14.17.year.old.':'Children_14-17'})\n",
    "df = df.rename(columns = {'X17..Did.you.your.family.spend.any.money.or.do.you.plan.on.spending.any.money.today.at.OpenStreetsPGH.':'Money_spent_in_OSP'})\n",
    "df = df.rename(columns = {'X18.Would.you.attend.another.OpenStreetsPGH.in.the.future.':'Attend_in_future'})\n",
    "\n",
    "df = df.rename(columns = {'Race.or.Ethnicity' : 'Race'})\n",
    "\n",
    "\n",
    "df = df.rename(columns = {'Gender.Identity':'Gender'})\n",
    "df = df.rename(columns = {'Zip.Code':'ZipCode'})\n",
    "df = df.rename(columns = {'Household.Income':'Income'})\n",
    "df = df.rename(columns = {'city':'City'})\n",
    "df = df.rename(columns = {'state':'State'})\n",
    "df = df.rename(columns = {'latitude':'Latitude'})\n",
    "df = df.rename(columns = {'longitude':'Longitude'})"
   ]
  },
  {
   "cell_type": "code",
   "execution_count": 92,
   "metadata": {},
   "outputs": [],
   "source": [
    "df['Attended_Before'] = df['Attended_Before'].map({'This is my first time':0,\n",
    "                                                   'once before':1,\n",
    "                                                   '2-3 times':2,\n",
    "                                                   '4-5 times':4})"
   ]
  },
  {
   "cell_type": "code",
   "execution_count": 93,
   "metadata": {},
   "outputs": [
    {
     "name": "stdout",
     "output_type": "stream",
     "text": [
      "[nan 20. 40. 10.]\n"
     ]
    }
   ],
   "source": [
    "\n",
    "df['Money_spent_in_OSP'] = df['Money_spent_in_OSP'].map({'Between $10 and $25':20,\n",
    "                                                         'Between $25 and $50':40,\n",
    "                                                         'Less than $10':10,\n",
    "                                                         'More than $50:':60})\n",
    "\n",
    "print(df['Money_spent_in_OSP'].unique())"
   ]
  },
  {
   "cell_type": "code",
   "execution_count": 94,
   "metadata": {},
   "outputs": [
    {
     "name": "stdout",
     "output_type": "stream",
     "text": [
      "[nan 'Caucasian' 'African American' 'Irish Italian' 'Hispanic' 'Asian'\n",
      " 'Latina' 'Black']\n"
     ]
    }
   ],
   "source": [
    "df['Race'] = df['Race'].map({'Caucasian ':'Caucasian',\n",
    "                             'Irish Italan': 'Irish Italian',\n",
    "                             'African-American ': 'African American',\n",
    "                             'African American ':'African American',\n",
    "                             'African-American': 'African American',\n",
    "                             'Caucasian / non hispanic':'Caucasian',\n",
    "                             'Asian ':'Asian',\n",
    "                             'European mixed':'Hispanic',\n",
    "                             'Aftican-Indian-American':'African American',\n",
    "                             'Hispanic':'Hispanic',\n",
    "                             'Latina':'Latina',\n",
    "                             'Asian':'Asian',\n",
    "                             'Black':'Black',\n",
    "                             'African American/ caribbean': 'African American',\n",
    "                             'White':'Hispanic',\n",
    "                             })\n",
    "\n",
    "print(df['Race'].unique())"
   ]
  },
  {
   "cell_type": "code",
   "execution_count": 95,
   "metadata": {},
   "outputs": [
    {
     "name": "stdout",
     "output_type": "stream",
     "text": [
      "[12. 15. 16. 17. 19. 20. 21. 22. 23. 24. 25. 26. 27. 28. 29. 30. 31. 32.\n",
      " 33. 34. 35. 36. 37. 38. 39. 40. 41. 42. 43. 45. 46. 47. 48. 49. 50. 52.\n",
      " 53. 54. 55. 56. 57. 58. 59. 60. 61. 62. 63. 64. 65. 66. 67. 69. 72. 75.\n",
      " 86. 87. nan]\n"
     ]
    }
   ],
   "source": [
    "df['Age'] = df['Age'].replace(199,19)\n",
    "\n",
    "print(df['Age'].unique())"
   ]
  },
  {
   "cell_type": "code",
   "execution_count": 96,
   "metadata": {},
   "outputs": [
    {
     "name": "stdout",
     "output_type": "stream",
     "text": [
      "['Male' 'Female' nan 'Other']\n"
     ]
    }
   ],
   "source": [
    "df['Gender'] = df['Gender'].replace('Non-binary/ other','Other')\n",
    "\n",
    "print(df['Gender'].unique())"
   ]
  },
  {
   "cell_type": "code",
   "execution_count": 97,
   "metadata": {},
   "outputs": [
    {
     "name": "stdout",
     "output_type": "stream",
     "text": [
      "[    nan  40000.  20000.  85000.  65000. 135000. 115000. 170000.]\n",
      "[nan 'PA' 'OH' 'NY']\n"
     ]
    }
   ],
   "source": [
    "df['Income'] = df['Income'].map({'25,000 - 49,999': 40000,\n",
    "                                 '<25,000':20000,\n",
    "                                 '75,000 - 99,999': 85000,\n",
    "                                 '50,000 - 74,999': 65000,\n",
    "                                 '125,000 - 149,000': 135000,\n",
    "                                 '100,000 - 124,999': 115000,\n",
    "                                 '>150,000': 170000})\n",
    "\n",
    "print(df['Income'].unique())\n",
    "\n",
    "print(df['State'].unique())"
   ]
  },
  {
   "cell_type": "code",
   "execution_count": 98,
   "metadata": {},
   "outputs": [
    {
     "name": "stderr",
     "output_type": "stream",
     "text": [
      "C:\\Users\\maitr\\Anaconda3\\lib\\site-packages\\ipykernel_launcher.py:10: SettingWithCopyWarning: \n",
      "A value is trying to be set on a copy of a slice from a DataFrame.\n",
      "Try using .loc[row_indexer,col_indexer] = value instead\n",
      "\n",
      "See the caveats in the documentation: http://pandas.pydata.org/pandas-docs/stable/indexing.html#indexing-view-versus-copy\n",
      "  # Remove the CWD from sys.path while we load stuff.\n"
     ]
    }
   ],
   "source": [
    "activity_dataframe = pd.DataFrame([df['Race'], df['Walking_tendency'],\n",
    "                                     df['Biking_tendency']])\n",
    "\n",
    "activity_dataframe = activity_dataframe.transpose()\n",
    "activity_df_NoNull = activity_dataframe.dropna()\n",
    "activity_df_NoNull['Race'].unique()\n",
    "\n",
    "activity_df_NoNull['Race'] = activity_df_NoNull['Race'].map({'Caucasian': 'White', 'African American': 'Black'\n",
    "                           ,'Asian':'Asian','Hispanic':'Hispanic',\n",
    "                           'Latina':'Latina', 'Irish Italian':'White', 'Black': 'Black'})\n",
    "\n",
    "df['Race'] = df['Race'].map({'Caucasian': 'White', 'African American': 'Black'\n",
    "                           ,'Asian':'Asian','Hispanic':'Hispanic',\n",
    "                           'Latina':'Latina', 'Irish Italian':'White', 'Black': 'Black'})"
   ]
  },
  {
   "cell_type": "code",
   "execution_count": 99,
   "metadata": {},
   "outputs": [
    {
     "name": "stdout",
     "output_type": "stream",
     "text": [
      "Lets draw some insights about the race and how often they like to walk\n"
     ]
    },
    {
     "data": {
      "image/png": "[encoded data removed]",
      "text/plain": [
       "<Figure size 576x576 with 1 Axes>"
      ]
     },
     "metadata": {},
     "output_type": "display_data"
    }
   ],
   "source": [
    "print(\"Lets draw some insights about the race and how often they like to walk\")\n",
    "\n",
    "#Normalizing the counts\n",
    "allRaces = activity_df_NoNull['Race'].unique()\n",
    "race_people_count = {}\n",
    "for i in range(0, len(allRaces)):\n",
    "    race_people_count[allRaces[i]] = len(activity_df_NoNull[activity_df_NoNull['Race'] == allRaces[i]])\n",
    "    \n",
    "wwhite = activity_df_NoNull[activity_df_NoNull['Race']=='White']['Walking_tendency'].value_counts(sort=False)\n",
    "#normalizing\n",
    "for i,v in wwhite.iteritems():\n",
    "    wwhite[i] = v/race_people_count['White'] * 100\n",
    "    \n",
    "wblack = activity_df_NoNull[activity_df_NoNull['Race']=='Black']['Walking_tendency'].value_counts(sort=False)\n",
    "#normalizing\n",
    "for i,v in wblack.iteritems():\n",
    "    wblack[i] = v/race_people_count['Black'] * 100\n",
    "    \n",
    "wasian = activity_df_NoNull[activity_df_NoNull['Race']=='Asian']['Walking_tendency'].value_counts(sort=False)\n",
    "#normalizing\n",
    "for i,v in wasian.iteritems():\n",
    "    wasian[i] = v/race_people_count['Asian'] * 100\n",
    "    \n",
    "whisp = activity_df_NoNull[activity_df_NoNull['Race']=='Hispanic']['Walking_tendency'].value_counts(sort=False)\n",
    "#normalizing\n",
    "for i,v in whisp.iteritems():\n",
    "    whisp[i] = v/race_people_count['Hispanic'] * 100\n",
    "    \n",
    "wlatina = activity_df_NoNull[activity_df_NoNull['Race']=='Latina']['Walking_tendency'].value_counts(sort=False)\n",
    "#normalizing\n",
    "for i,v in wlatina.iteritems():\n",
    "    wlatina[i] = v/race_people_count['Latina'] * 100\n",
    "\n",
    "uf_race_df = pd.DataFrame({'White':wwhite, 'Black':wblack, 'Asian':wasian,'Hispanic':whisp,'Latina':wlatina})\n",
    "plt.style.use('seaborn')\n",
    "uf_race_df.plot(kind='bar', stacked=False, figsize = (8,8))\n",
    "plt.show()"
   ]
  },
  {
   "cell_type": "code",
   "execution_count": 100,
   "metadata": {},
   "outputs": [
    {
     "name": "stdout",
     "output_type": "stream",
     "text": [
      "Lets draw some insights about the race and how often they like to walk\n"
     ]
    },
    {
     "data": {
      "text/plain": [
       "Text(0, 0.5, '% of people who WALK')"
      ]
     },
     "execution_count": 100,
     "metadata": {},
     "output_type": "execute_result"
    },
    {
     "data": {
      "image/png": "[encoded data removed]",
      "text/plain": [
       "<Figure size 576x576 with 1 Axes>"
      ]
     },
     "metadata": {},
     "output_type": "display_data"
    }
   ],
   "source": [
    "print(\"Lets draw some insights about the race and how often they like to walk\")\n",
    "\n",
    "#Normalizing the counts\n",
    "allRaces = activity_df_NoNull['Race'].unique()\n",
    "race_people_count = {}\n",
    "for i in range(0, len(allRaces)):\n",
    "    race_people_count[allRaces[i]] = len(activity_df_NoNull[activity_df_NoNull['Race'] == allRaces[i]])\n",
    "    \n",
    "wnever = activity_df_NoNull[activity_df_NoNull['Walking_tendency']=='Never']['Race'].value_counts(sort=False)\n",
    "#normalizing\n",
    "for i,v in wnever.iteritems():\n",
    "    wnever[i] = v/race_people_count[i] * 100\n",
    "\n",
    "woccas = activity_df_NoNull[activity_df_NoNull['Walking_tendency']=='Occasionally']['Race'].value_counts(sort=False)\n",
    "#normalizing\n",
    "for i,v in woccas.iteritems():\n",
    "    woccas[i] = v/race_people_count[i] * 100\n",
    "    \n",
    "wrare = activity_df_NoNull[activity_df_NoNull['Walking_tendency']=='Rarely']['Race'].value_counts(sort=False)\n",
    "#normalizing\n",
    "for i,v in wrare.iteritems():\n",
    "    wrare[i] = v/race_people_count[i] * 100\n",
    "    \n",
    "wregular = activity_df_NoNull[activity_df_NoNull['Walking_tendency']=='Regularly']['Race'].value_counts(sort=False)\n",
    "#normalizing\n",
    "for i,v in wregular.iteritems():\n",
    "    wregular[i] = v/race_people_count[i] * 100\n",
    "\n",
    "uf_race_df = pd.DataFrame({'Never':wnever, 'Occasionally':woccas, 'Rarely':wrare,'Regularly':wregular})\n",
    "plt.style.use('seaborn')\n",
    "ax = uf_race_df.plot(kind='bar', stacked=False, figsize = (8,8))\n",
    "\n",
    "ax.legend(bbox_to_anchor=(1, 1.02))\n",
    "\n",
    "plt.title(\"How often do all the races WALK\")\n",
    "plt.xlabel(\"Race\")\n",
    "plt.ylabel(\"% of people who WALK\")"
   ]
  },
  {
   "cell_type": "markdown",
   "metadata": {},
   "source": [
    "From the graph, we can see that the proportion of Whites who WALK regularly is much higher than other races. At the same time, the proportion of Hispanics who walk NEVER is higher compared to that of Whites. Also, all of the Latinas chose to walk Rarely."
   ]
  },
  {
   "cell_type": "code",
   "execution_count": 101,
   "metadata": {},
   "outputs": [
    {
     "name": "stdout",
     "output_type": "stream",
     "text": [
      "Lets draw some insights about the race and how often they like to Bike\n"
     ]
    },
    {
     "data": {
      "text/plain": [
       "Text(0, 0.5, '% of people who BIKE')"
      ]
     },
     "execution_count": 101,
     "metadata": {},
     "output_type": "execute_result"
    },
    {
     "data": {
      "image/png": "[encoded data removed]",
      "text/plain": [
       "<Figure size 576x576 with 1 Axes>"
      ]
     },
     "metadata": {},
     "output_type": "display_data"
    }
   ],
   "source": [
    "print(\"Lets draw some insights about the race and how often they like to Bike\")\n",
    "\n",
    "\n",
    "#Normalizing the counts\n",
    "allRaces = activity_df_NoNull['Race'].unique()\n",
    "race_people_count = {}\n",
    "for i in range(0, len(allRaces)):\n",
    "    race_people_count[allRaces[i]] = len(activity_df_NoNull[activity_df_NoNull['Race'] == allRaces[i]])\n",
    "    \n",
    "bnever = activity_df_NoNull[activity_df_NoNull['Biking_tendency']=='Never']['Race'].value_counts(sort=False)\n",
    "#normalizing\n",
    "for i,v in bnever.iteritems():\n",
    "    bnever[i] = v/race_people_count[i] * 100\n",
    "\n",
    "boccas = activity_df_NoNull[activity_df_NoNull['Biking_tendency']=='Occasionally']['Race'].value_counts(sort=False)\n",
    "#normalizing\n",
    "for i,v in boccas.iteritems():\n",
    "    boccas[i] = v/race_people_count[i] * 100\n",
    "\n",
    "brare = activity_df_NoNull[activity_df_NoNull['Biking_tendency']=='Rarely']['Race'].value_counts(sort=False)\n",
    "#normalizing\n",
    "for i,v in brare.iteritems():\n",
    "    brare[i] = v/race_people_count[i] * 100\n",
    "\n",
    "bregular = activity_df_NoNull[activity_df_NoNull['Biking_tendency']=='Regularly']['Race'].value_counts(sort=False)\n",
    "#normalizing\n",
    "for i,v in bregular.iteritems():\n",
    "    bregular[i] = v/race_people_count[i] * 100\n",
    "\n",
    "\n",
    "uf_race_df = pd.DataFrame({'Never':bnever, 'Occasionally':boccas, 'Rarely':brare,'Regularly':bregular})\n",
    "plt.style.use('seaborn')\n",
    "ax = uf_race_df.plot(kind='bar', stacked=False, figsize = (8,8))\n",
    "ax.legend(bbox_to_anchor=(1, 1.02))\n",
    "\n",
    "plt.title(\"How often do all the races BIKE\")\n",
    "plt.xlabel(\"Race\")\n",
    "plt.ylabel(\"% of people who BIKE\")"
   ]
  },
  {
   "cell_type": "markdown",
   "metadata": {},
   "source": [
    "From the graph, we can see that the proportion of Blacks who BIKE regularly is higher than other races. At the same time, there are these other set of White people who like to BIKE Occasionally."
   ]
  },
  {
   "cell_type": "code",
   "execution_count": 102,
   "metadata": {},
   "outputs": [],
   "source": [
    "copyDf = activity_df_NoNull\n",
    "isBlack = copyDf['Race'] == 'Black'\n",
    "asianDf = copyDf[isBlack]"
   ]
  },
  {
   "cell_type": "code",
   "execution_count": 103,
   "metadata": {},
   "outputs": [
    {
     "name": "stdout",
     "output_type": "stream",
     "text": [
      "Lets draw some insights about the race and how 'Regularly' they like to walk\n"
     ]
    },
    {
     "data": {
      "image/png": "[encoded data removed]",
      "text/plain": [
       "<Figure size 576x396 with 1 Axes>"
      ]
     },
     "metadata": {},
     "output_type": "display_data"
    }
   ],
   "source": [
    "isWalkRegular = copyDf['Walking_tendency'] == 'Regularly'\n",
    "reg_walking_Df = copyDf[isWalkRegular]\n",
    "\n",
    "\n",
    "print(\"Lets draw some insights about the race and how 'Regularly' they like to walk\")\n",
    "\n",
    "allRaces = copyDf['Race'].unique()\n",
    "\n",
    "races = reg_walking_Df['Race'].unique()\n",
    "sums = reg_walking_Df['Race'].value_counts()\n",
    "\n",
    "#Normalizing the counts\n",
    "race_people_count = {}\n",
    "for i in range(0, len(allRaces)):\n",
    "    race_people_count[allRaces[i]] = len(activity_df_NoNull[activity_df_NoNull['Race']== allRaces[i]])\n",
    "\n",
    "for i,v in sums.iteritems():\n",
    "    sums[i] = v/race_people_count[i] * 100\n",
    "\n",
    "for race in allRaces:\n",
    "    if race not in races:\n",
    "        races = np.append(races, race)\n",
    "        sums[race] = 0\n",
    "\n",
    "#total_count = sums.sum()\n",
    "        \n",
    "rects = plt.bar(races,sums)\n",
    "plt.xticks(rotation='vertical')\n",
    "plt.title(\"How often do you WALK Regularly?\")\n",
    "plt.xlabel(\"Race\")\n",
    "plt.ylabel(\"% of people\")\n",
    "\n",
    "# for rect in rects:\n",
    "#     height = rect.get_height()\n",
    "#     plt.text(rect.get_x() + rect.get_width()/2., 0.99*height,\n",
    "#              str(round(height/total_count*100, 2)) + \"%\", ha='center', va='bottom')\n",
    "plt.show()"
   ]
  },
  {
   "cell_type": "code",
   "execution_count": 104,
   "metadata": {},
   "outputs": [],
   "source": [
    "# We can see that the percentage of Whites who walk regularly is much higher than other races\n",
    "# At the same time, we don't have any Latinos who even walk\n",
    "\n",
    "#AFTER CHANGES --, insight changes slightly\n",
    "\n",
    "# We can see that the percentage of Whites who walk regularly is relatively higher than the other races.\n",
    "# At the same time, we don't have any Latinos who even walk"
   ]
  },
  {
   "cell_type": "code",
   "execution_count": 105,
   "metadata": {},
   "outputs": [
    {
     "name": "stdout",
     "output_type": "stream",
     "text": [
      "Lets draw some insights about the race and how 'Regularly' they like to Bike\n"
     ]
    },
    {
     "data": {
      "image/png": "[encoded data removed]",
      "text/plain": [
       "<Figure size 576x396 with 1 Axes>"
      ]
     },
     "metadata": {},
     "output_type": "display_data"
    }
   ],
   "source": [
    "isBikeRegular = copyDf['Biking_tendency'] == 'Regularly'\n",
    "reg_biking_Df = copyDf[isBikeRegular]\n",
    "#reg_walking_Df\n",
    "\n",
    "print(\"Lets draw some insights about the race and how 'Regularly' they like to Bike\")\n",
    "\n",
    "allRaces = copyDf['Race'].unique()\n",
    "\n",
    "races = reg_biking_Df['Race'].unique()\n",
    "sums = reg_biking_Df['Race'].value_counts()\n",
    "\n",
    "#Normalizing the counts\n",
    "race_people_count = {}\n",
    "for i in range(0, len(allRaces)):\n",
    "    race_people_count[allRaces[i]] = len(activity_df_NoNull[activity_df_NoNull['Race']== allRaces[i]])\n",
    "\n",
    "for i,v in sums.iteritems():\n",
    "    sums[i] = v/race_people_count[i] * 100\n",
    "    \n",
    "for race in allRaces:\n",
    "    if race not in races:\n",
    "        races = np.append(races, race)\n",
    "        sums[race] = 0\n",
    "        \n",
    "#total_count = sums.sum()\n",
    "        \n",
    "rects = plt.bar(races,sums)\n",
    "plt.xticks(rotation='vertical')\n",
    "plt.title(\"How often do you Bike Regularly?\")\n",
    "plt.xlabel(\"Race\")\n",
    "plt.ylabel(\"% of people\")\n",
    "\n",
    "# for rect in rects:\n",
    "#     height = rect.get_height()\n",
    "#     plt.text(rect.get_x() + rect.get_width()/2., 0.99*height,\n",
    "#              str(round(height/total_count*100, 2)) + \"%\", ha='center', va='bottom')\n",
    "plt.show()\n"
   ]
  },
  {
   "cell_type": "code",
   "execution_count": 106,
   "metadata": {},
   "outputs": [],
   "source": [
    "# We can see that the percentage of Whites who bike regularly is much higher than other races. \n",
    "# Out of the total respondents, Asians and Blacks seem to have similar Biking tendency \n",
    "# with a frequency of being 'regular'.\n",
    "\n",
    "#AFTER CHANGES --, insight changes slightly\n",
    "\n",
    "# We can see that the percentage of Hispanics who attend the event bike regularly than other races. \n",
    "# Out of the total respondents, Whites and Asians seem to have similar Biking tendency \n",
    "# with a frequency of being 'regular'."
   ]
  },
  {
   "cell_type": "markdown",
   "metadata": {},
   "source": [
    "Conclusion:\n",
    "\n",
    "Our target group seems like Asians and Blacks when it comes to biking and walking.\n",
    "We need to understand why do they dont bike or walk regularly\n",
    "We can get additional information such as their dietary habits, exercising habits etc."
   ]
  },
  {
   "cell_type": "code",
   "execution_count": 107,
   "metadata": {},
   "outputs": [
    {
     "data": {
      "image/png": "[encoded data removed]",
      "text/plain": [
       "<Figure size 576x396 with 1 Axes>"
      ]
     },
     "metadata": {},
     "output_type": "display_data"
    }
   ],
   "source": [
    "# df1_count = copyDf[(copyDf['Race'] == 'White') & (copyDf['Walking_tendency'] == 'Regularly')].shape[0]\n",
    "# df2_count = copyDf[(copyDf['Race'] != 'White') & (copyDf['Walking_tendency'] == 'Regularly')].shape[0]\n",
    "# df3_count = copyDf[(copyDf['Race'] == 'White') & (copyDf['Walking_tendency'] == 'Never')].shape[0]\n",
    "# df4_count = copyDf[(copyDf['Race'] != 'White') & (copyDf['Walking_tendency'] == 'Never')].shape[0]\n",
    "\n",
    "# df5_count = copyDf[(copyDf['Race'] == 'White') & (copyDf['Biking_tendency'] == 'Regularly')].shape[0]\n",
    "# df6_count = copyDf[(copyDf['Race'] != 'White') & (copyDf['Biking_tendency'] == 'Regularly')].shape[0]\n",
    "# df7_count = copyDf[(copyDf['Race'] == 'White') & (copyDf['Biking_tendency'] == 'Never')].shape[0]\n",
    "# df8_count = copyDf[(copyDf['Race'] != 'White') & (copyDf['Biking_tendency'] == 'Never')].shape[0]\n",
    "\n",
    "#---after normalizing---\n",
    "white = len(activity_df_NoNull[activity_df_NoNull['Race']== 'White'])\n",
    "others = len(activity_df_NoNull[activity_df_NoNull['Race']!= 'White'])\n",
    "                    \n",
    "df1_count = copyDf[(copyDf['Race'] == 'White') & (copyDf['Walking_tendency'] == 'Regularly')].shape[0]/white*100\n",
    "df2_count = copyDf[(copyDf['Race'] != 'White') & (copyDf['Walking_tendency'] == 'Regularly')].shape[0]/others*100\n",
    "df3_count = copyDf[(copyDf['Race'] == 'White') & (copyDf['Walking_tendency'] == 'Never')].shape[0]/white*100\n",
    "df4_count = copyDf[(copyDf['Race'] != 'White') & (copyDf['Walking_tendency'] == 'Never')].shape[0]/others*100\n",
    "\n",
    "df5_count = copyDf[(copyDf['Race'] == 'White') & (copyDf['Biking_tendency'] == 'Regularly')].shape[0]/white*100\n",
    "df6_count = copyDf[(copyDf['Race'] != 'White') & (copyDf['Biking_tendency'] == 'Regularly')].shape[0]/others*100\n",
    "df7_count = copyDf[(copyDf['Race'] == 'White') & (copyDf['Biking_tendency'] == 'Never')].shape[0]/white*100\n",
    "df8_count = copyDf[(copyDf['Race'] != 'White') & (copyDf['Biking_tendency'] == 'Never')].shape[0]/others*100\n",
    "\n",
    "N = 4\n",
    "\n",
    "men_means = (df1_count, df3_count, df5_count, df7_count)\n",
    "women_means = (df2_count, df4_count, df6_count, df8_count)\n",
    "\n",
    "ind = np.arange(N) \n",
    "width = 0.2   \n",
    "\n",
    "plt.bar(ind, men_means, width, label='Whites')\n",
    "plt.bar(ind + width, women_means, width, label='Others')\n",
    "\n",
    "plt.ylabel('Count')\n",
    "plt.title('Count by race and frequency')\n",
    "\n",
    "plt.xticks(ind + width / 2, ('Walk Regularly', 'Walk Never', 'Bike Regularly', 'Bike Never'))\n",
    "plt.legend(loc='best')\n",
    "plt.show()"
   ]
  },
  {
   "cell_type": "markdown",
   "metadata": {},
   "source": [
    "As we can see from this graph, clearly, Whites have a very high tendency to walk regularly compared to all other races. Similarly, out of the total respondents who voted for 'Bike Regularly', the count is greater for Whites as compared to other races."
   ]
  }
 ],
 "metadata": {
  "kernelspec": {
   "display_name": "Python 3",
   "language": "python",
   "name": "python3"
  },
  "language_info": {
   "codemirror_mode": {
    "name": "ipython",
    "version": 3
   },
   "file_extension": ".py",
   "mimetype": "text/x-python",
   "name": "python",
   "nbconvert_exporter": "python",
   "pygments_lexer": "ipython3",
   "version": "3.6.8"
  }
 },
 "nbformat": 4,
 "nbformat_minor": 2
}
