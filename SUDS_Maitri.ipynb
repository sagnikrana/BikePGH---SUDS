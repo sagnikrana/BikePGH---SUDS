{
 "cells": [
  {
   "cell_type": "code",
   "execution_count": 63,
   "metadata": {},
   "outputs": [],
   "source": [
    "import pandas as pd\n",
    "import numpy as np\n",
    "import matplotlib.pyplot as plt\n",
    "# import statsmodels.api as sm\n",
    "import seaborn as sns\n",
    "from pandas.io.sas.sas7bdat import _column\n",
    "from sklearn.linear_model import LinearRegression\n",
    "from sklearn.model_selection import train_test_split\n",
    "from sklearn import linear_model\n",
    "from sklearn.metrics import mean_squared_error\n",
    "import sys\n",
    "\n",
    "pd.set_option('display.max_rows',10000)\n",
    "pd.set_option('display.max_columns',100)\n",
    "pd.set_option('display.max_colwidth',100)\n",
    "pd.set_option('display.width',None)"
   ]
  },
  {
   "cell_type": "code",
   "execution_count": 64,
   "metadata": {
    "scrolled": true
   },
   "outputs": [],
   "source": [
    "df = pd.read_excel(\"SUDS.xlsx\")"
   ]
  },
  {
   "cell_type": "code",
   "execution_count": 65,
   "metadata": {},
   "outputs": [],
   "source": [
    "df = df.rename(columns = {'X1..What.do.you.like.best.about..OpenStreetsPGH....check.all.that.apply.':'Best_about_BikePGH'})\n",
    "df = df.rename(columns = {'X2..Have.you.attended.OpenStreetsPGH.before...check.one.':'Attended_Before'})\n",
    "df = df.rename(columns = {'X3..How.did.you.hear.about.OpenStreetsPGH...check.all.that.apply.':'How_you_heard'})\n",
    "df = df.rename(columns = {'X4..What.are.your.primary.activities.at.OpenStreetsPGH..check.up.to.2.':'Primary_activities'})\n",
    "df = df.rename(columns = {'X5..How.long.will.you.spend.at.OSP.today.':'Time_you_will_spend'})\n",
    "df = df.rename(columns = {'X6..Do.you.typically.walk.for.exercise..not.including.OpenStreetsPGH..':'Walking_tendency'})\n",
    "df = df.rename(columns = {'X7..Do.you.typically.bike.for.exercise..not.including.OpenStreetsPGH..':'Biking_tendency'})\n",
    "df = df.rename(columns = {'X8..What.s.your.likelihood.of.walking.for.exercise.in.the.future.':'Likelihood_walking_exercise'})\n",
    "df = df.rename(columns = {'X9..What.s.your.likelihood.of.biking.for.exercise.in.the.future.':'Likelihood_biking_exercise'})\n",
    "df = df.rename(columns = {'X10..Do.you.typically.walk.for.transportation.trips..e.g..commute..errands..shop..visiting.friends..etc..':'Do_you_walk'})\n",
    "df = df.rename(columns = {'X11..Do.you.typically.Bike.for.transportation.trips.':'Do_you_bike'})\n",
    "df = df.rename(columns = {'X12..What.s.your.likelihood.of.walking.for.transportation...trips.in.the.future.':'Likelihood_walking_transportation'})\n",
    "df = df.rename(columns = {'X13..What.s.your.likelihood.of.biking.for.transportation...trips.in.the.future.':'Likelihood_biking_transportation'})\n",
    "df = df.rename(columns = {'X14..What.would.get.you.riding.a.bike.more.often.':'Reasons_for_biking'})\n",
    "df = df.rename(columns = {'X15..Yes.or.no..did.you.know.that.the.nonprofit.organization..Bike.Pittsburgh..organizes.OpenstreetsPGH..':'BikePGH_organizes_OSPGH'})\n",
    "df = df.rename(columns = {'Did.you.bring.any.children.to.OSP..if.so.write.the.number.of.childres.next.to.the.corresponding.age.range....0.3.year.old.':'Children_0-3'})\n",
    "df = df.rename(columns = {'Did.you.bring.any.children.to.OSP..if.so.write.the.number.of.childres.next.to.the.corresponding.age.range....4.8.year.old..':'Children_4-8'})\n",
    "df = df.rename(columns = {'Did.you.bring.any.children.to.OSP..if.so.write.the.number.of.childres.next.to.the.corresponding.age.range....9.13.year.old.':'Children_9-13'})\n",
    "df = df.rename(columns = {'Did.you.bring.any.children.to.OSP..if.so.write.the.number.of.childres.next.to.the.corresponding.age.range....14.17.year.old.':'Children_14-17'})\n",
    "df = df.rename(columns = {'X17..Did.you.your.family.spend.any.money.or.do.you.plan.on.spending.any.money.today.at.OpenStreetsPGH.':'Money_spent_in_OSP'})\n",
    "df = df.rename(columns = {'X18.Would.you.attend.another.OpenStreetsPGH.in.the.future.':'Attend_in_future'})"
   ]
  },
  {
   "cell_type": "code",
   "execution_count": 66,
   "metadata": {},
   "outputs": [],
   "source": [
    "df = df.rename(columns = {'Race.or.Ethnicity' : 'Race'})"
   ]
  },
  {
   "cell_type": "code",
   "execution_count": 67,
   "metadata": {},
   "outputs": [],
   "source": [
    "df = df.rename(columns = {'Gender.Identity':'Gender'})\n",
    "df = df.rename(columns = {'Zip.Code':'ZipCode'})\n",
    "df = df.rename(columns = {'Household.Income':'Income'})\n",
    "df = df.rename(columns = {'city':'City'})\n",
    "df = df.rename(columns = {'state':'State'})\n",
    "df = df.rename(columns = {'latitude':'Latitude'})\n",
    "df = df.rename(columns = {'longitude':'Longitude'})"
   ]
  },
  {
   "cell_type": "code",
   "execution_count": 68,
   "metadata": {},
   "outputs": [],
   "source": [
    "df['Attended_Before'] = df['Attended_Before'].map({'This is my first time':0,\n",
    "                                                   'once before':1,\n",
    "                                                   '2-3 times':2,\n",
    "                                                   '4-5 times':4})"
   ]
  },
  {
   "cell_type": "code",
   "execution_count": 69,
   "metadata": {},
   "outputs": [
    {
     "name": "stdout",
     "output_type": "stream",
     "text": [
      "[nan 20. 40. 10.]\n"
     ]
    }
   ],
   "source": [
    "\n",
    "df['Money_spent_in_OSP'] = df['Money_spent_in_OSP'].map({'Between $10 and $25':20,\n",
    "                                                         'Between $25 and $50':40,\n",
    "                                                         'Less than $10':10,\n",
    "                                                         'More than $50:':60})\n",
    "\n",
    "print(df['Money_spent_in_OSP'].unique())"
   ]
  },
  {
   "cell_type": "code",
   "execution_count": 70,
   "metadata": {},
   "outputs": [
    {
     "name": "stdout",
     "output_type": "stream",
     "text": [
      "[nan 'Caucasian' 'African American' 'Irish Italian' 'Hispanic' 'Asian'\n",
      " 'Latina' 'Black']\n"
     ]
    }
   ],
   "source": [
    "df['Race'] = df['Race'].map({'Caucasian ':'Caucasian',\n",
    "                             'Irish Italan': 'Irish Italian',\n",
    "                             'African-American ': 'African American',\n",
    "                             'African American ':'African American',\n",
    "                             'African-American': 'African American',\n",
    "                             'Caucasian / non hispanic':'Caucasian',\n",
    "                             'Asian ':'Asian',\n",
    "                             'European mixed':'Hispanic',\n",
    "                             'Aftican-Indian-American':'African American',\n",
    "                             'Hispanic':'Hispanic',\n",
    "                             'Latina':'Latina',\n",
    "                             'Asian':'Asian',\n",
    "                             'Black':'Black',\n",
    "                             'African American/ caribbean': 'African American',\n",
    "                             'White':'Hispanic',\n",
    "                             })\n",
    "\n",
    "print(df['Race'].unique())"
   ]
  },
  {
   "cell_type": "code",
   "execution_count": 71,
   "metadata": {},
   "outputs": [
    {
     "name": "stdout",
     "output_type": "stream",
     "text": [
      "[12. 15. 16. 17. 19. 20. 21. 22. 23. 24. 25. 26. 27. 28. 29. 30. 31. 32.\n",
      " 33. 34. 35. 36. 37. 38. 39. 40. 41. 42. 43. 45. 46. 47. 48. 49. 50. 52.\n",
      " 53. 54. 55. 56. 57. 58. 59. 60. 61. 62. 63. 64. 65. 66. 67. 69. 72. 75.\n",
      " 86. 87. nan]\n"
     ]
    }
   ],
   "source": [
    "df['Age'] = df['Age'].replace(199,19)\n",
    "\n",
    "print(df['Age'].unique())"
   ]
  },
  {
   "cell_type": "code",
   "execution_count": 72,
   "metadata": {},
   "outputs": [
    {
     "name": "stdout",
     "output_type": "stream",
     "text": [
      "['Male' 'Female' nan 'Other']\n"
     ]
    }
   ],
   "source": [
    "df['Gender'] = df['Gender'].replace('Non-binary/ other','Other')\n",
    "\n",
    "print(df['Gender'].unique())"
   ]
  },
  {
   "cell_type": "code",
   "execution_count": 73,
   "metadata": {},
   "outputs": [
    {
     "name": "stdout",
     "output_type": "stream",
     "text": [
      "[    nan  40000.  20000.  85000.  65000. 135000. 115000. 170000.]\n",
      "[nan 'PA' 'OH' 'NY']\n"
     ]
    }
   ],
   "source": [
    "df['Income'] = df['Income'].map({'25,000 - 49,999': 40000,\n",
    "                                 '<25,000':20000,\n",
    "                                 '75,000 - 99,999': 85000,\n",
    "                                 '50,000 - 74,999': 65000,\n",
    "                                 '125,000 - 149,000': 135000,\n",
    "                                 '100,000 - 124,999': 115000,\n",
    "                                 '>150,000': 170000})\n",
    "\n",
    "print(df['Income'].unique())\n",
    "\n",
    "print(df['State'].unique())"
   ]
  },
  {
   "cell_type": "code",
   "execution_count": 74,
   "metadata": {},
   "outputs": [],
   "source": [
    "activity_dataframe = pd.DataFrame([df['Race'], df['Walking_tendency'],\n",
    "                                     df['Biking_tendency']])"
   ]
  },
  {
   "cell_type": "code",
   "execution_count": 75,
   "metadata": {},
   "outputs": [],
   "source": [
    "activity_dataframe = activity_dataframe.transpose()"
   ]
  },
  {
   "cell_type": "code",
   "execution_count": 76,
   "metadata": {},
   "outputs": [],
   "source": [
    "activity_df_NoNull = activity_dataframe.dropna()"
   ]
  },
  {
   "cell_type": "code",
   "execution_count": 77,
   "metadata": {},
   "outputs": [
    {
     "data": {
      "text/plain": [
       "array(['Caucasian', 'African American', 'Irish Italian', 'Hispanic',\n",
       "       'Asian', 'Latina', 'Black'], dtype=object)"
      ]
     },
     "execution_count": 77,
     "metadata": {},
     "output_type": "execute_result"
    }
   ],
   "source": [
    "activity_df_NoNull['Race'].unique()"
   ]
  },
  {
   "cell_type": "code",
   "execution_count": 78,
   "metadata": {},
   "outputs": [
    {
     "name": "stderr",
     "output_type": "stream",
     "text": [
      "/home/sagnikrana/my_project_dir/my_project_env/lib/python3.5/site-packages/ipykernel_launcher.py:3: SettingWithCopyWarning: \n",
      "A value is trying to be set on a copy of a slice from a DataFrame.\n",
      "Try using .loc[row_indexer,col_indexer] = value instead\n",
      "\n",
      "See the caveats in the documentation: http://pandas.pydata.org/pandas-docs/stable/indexing.html#indexing-view-versus-copy\n",
      "  This is separate from the ipykernel package so we can avoid doing imports until\n"
     ]
    }
   ],
   "source": [
    "activity_df_NoNull['Race'] = activity_df_NoNull['Race'].map({'Caucasian': 'White', 'African American': 'Black'\n",
    "                           ,'Asian':'Asian','Hispanic':'Hispanic',\n",
    "                           'Latina':'Latina', 'Irish Italian':'White', 'Black': 'Black'})"
   ]
  },
  {
   "cell_type": "code",
   "execution_count": 79,
   "metadata": {},
   "outputs": [],
   "source": [
    "df['Race'] = df['Race'].map({'Caucasian': 'White', 'African American': 'Black'\n",
    "                           ,'Asian':'Asian','Hispanic':'Hispanic',\n",
    "                           'Latina':'Latina', 'Irish Italian':'White', 'Black': 'Black'})"
   ]
  },
  {
   "cell_type": "code",
   "execution_count": 80,
   "metadata": {},
   "outputs": [
    {
     "data": {
      "text/plain": [
       "array([nan, 'White', 'Black', 'Hispanic', 'Asian', 'Latina'], dtype=object)"
      ]
     },
     "execution_count": 80,
     "metadata": {},
     "output_type": "execute_result"
    }
   ],
   "source": [
    "df['Race'].unique()"
   ]
  },
  {
   "cell_type": "code",
   "execution_count": 81,
   "metadata": {},
   "outputs": [
    {
     "data": {
      "text/plain": [
       "array(['White', 'Black', 'Hispanic', 'Asian', 'Latina'], dtype=object)"
      ]
     },
     "execution_count": 81,
     "metadata": {},
     "output_type": "execute_result"
    }
   ],
   "source": [
    "activity_df_NoNull['Race'].unique()"
   ]
  },
  {
   "cell_type": "code",
   "execution_count": 82,
   "metadata": {},
   "outputs": [
    {
     "data": {
      "text/plain": [
       "array([    nan,  40000.,  20000.,  85000.,  65000., 135000., 115000.,\n",
       "       170000.])"
      ]
     },
     "execution_count": 82,
     "metadata": {},
     "output_type": "execute_result"
    }
   ],
   "source": [
    "df['Income'].unique()"
   ]
  },
  {
   "cell_type": "code",
   "execution_count": 83,
   "metadata": {},
   "outputs": [
    {
     "name": "stdout",
     "output_type": "stream",
     "text": [
      "Lets draw some insights about the race and how often they like to walk\n"
     ]
    },
    {
     "data": {
      "image/png": "[encoded data removed]",
      "text/plain": [
       "<Figure size 576x576 with 1 Axes>"
      ]
     },
     "metadata": {},
     "output_type": "display_data"
    }
   ],
   "source": [
    "print(\"Lets draw some insights about the race and how often they like to walk\")\n",
    "\n",
    "#under_fourty = df[(df['Age'])<40]\n",
    "wwhite = activity_df_NoNull[activity_df_NoNull['Race']=='White']['Walking_tendency'].value_counts(sort=False)\n",
    "wblack = activity_df_NoNull[activity_df_NoNull['Race']=='Black']['Walking_tendency'].value_counts(sort=False)\n",
    "wasian = activity_df_NoNull[activity_df_NoNull['Race']=='Asian']['Walking_tendency'].value_counts(sort=False)\n",
    "whisp = activity_df_NoNull[activity_df_NoNull['Race']=='Hispanic']['Walking_tendency'].value_counts(sort=False)\n",
    "wlatina = activity_df_NoNull[activity_df_NoNull['Race']=='Latina']['Walking_tendency'].value_counts(sort=False)\n",
    "\n",
    "uf_race_df = pd.DataFrame({'White':wwhite, 'Black':wblack, 'Asian':wasian,'Hispanic':whisp,'Latina':wlatina})\n",
    "\n",
    "plt.style.use('seaborn')\n",
    "uf_race_df.plot(kind='bar', stacked=False, figsize = (8,8))\n",
    "plt.show()"
   ]
  },
  {
   "cell_type": "code",
   "execution_count": 90,
   "metadata": {},
   "outputs": [
    {
     "name": "stdout",
     "output_type": "stream",
     "text": [
      "Lets draw some insights about the race and how often they like to walk\n"
     ]
    },
    {
     "data": {
      "image/png": "[encoded data removed]",
      "text/plain": [
       "<Figure size 576x576 with 1 Axes>"
      ]
     },
     "metadata": {},
     "output_type": "display_data"
    }
   ],
   "source": [
    "print(\"Lets draw some insights about the race and how often they like to walk\")\n",
    "\n",
    "wnever = activity_df_NoNull[activity_df_NoNull['Walking_tendency']=='Never']['Race'].value_counts(sort=False)\n",
    "woccas = activity_df_NoNull[activity_df_NoNull['Walking_tendency']=='Occasionally']['Race'].value_counts(sort=False)\n",
    "wrare = activity_df_NoNull[activity_df_NoNull['Walking_tendency']=='Rarely']['Race'].value_counts(sort=False)\n",
    "wregular = activity_df_NoNull[activity_df_NoNull['Walking_tendency']=='Regularly']['Race'].value_counts(sort=False)\n",
    "\n",
    "\n",
    "uf_race_df = pd.DataFrame({'Never':wnever, 'Occasionally':woccas, 'Rarely':wrare,'Regularly':wregular})\n",
    "plt.style.use('seaborn')\n",
    "uf_race_df.plot(kind='bar', stacked=False, figsize = (8,8))\n",
    "plt.show()"
   ]
  },
  {
   "cell_type": "markdown",
   "metadata": {},
   "source": [
    "From the graph, we can see that the number of Whites who WALK regularly is much higher than other races. At the same time, more number of Hispanics seem to be walking NEVER compared to the Whites "
   ]
  },
  {
   "cell_type": "code",
   "execution_count": 85,
   "metadata": {
    "scrolled": false
   },
   "outputs": [
    {
     "name": "stdout",
     "output_type": "stream",
     "text": [
      "Lets draw some insights about the race and how often they like to Bike\n"
     ]
    },
    {
     "data": {
      "image/png": "[encoded data removed]",
      "text/plain": [
       "<Figure size 576x576 with 1 Axes>"
      ]
     },
     "metadata": {},
     "output_type": "display_data"
    }
   ],
   "source": [
    "print(\"Lets draw some insights about the race and how often they like to Bike\")\n",
    "\n",
    "bnever = activity_df_NoNull[activity_df_NoNull['Biking_tendency']=='Never']['Race'].value_counts(sort=False)\n",
    "boccas = activity_df_NoNull[activity_df_NoNull['Biking_tendency']=='Occasionally']['Race'].value_counts(sort=False)\n",
    "brare = activity_df_NoNull[activity_df_NoNull['Biking_tendency']=='Rarely']['Race'].value_counts(sort=False)\n",
    "bregular = activity_df_NoNull[activity_df_NoNull['Biking_tendency']=='Regularly']['Race'].value_counts(sort=False)\n",
    "\n",
    "\n",
    "uf_race_df = pd.DataFrame({'Never':bnever, 'Occasionally':boccas, 'Rarely':brare,'Regularly':bregular})\n",
    "plt.style.use('seaborn')\n",
    "uf_race_df.plot(kind='bar', stacked=False, figsize = (8,8))\n",
    "plt.show()"
   ]
  },
  {
   "cell_type": "markdown",
   "metadata": {},
   "source": [
    "From the graph, we can see that the number of Whites who BIKE regularly is much higher than other races. \n",
    "At the same time, there are these other set of White people who NEVER like to BIKE."
   ]
  },
  {
   "cell_type": "code",
   "execution_count": 86,
   "metadata": {},
   "outputs": [],
   "source": [
    "copyDf = activity_df_NoNull\n",
    "isBlack = copyDf['Race'] == 'Black'\n",
    "asianDf = copyDf[isBlack]"
   ]
  },
  {
   "cell_type": "code",
   "execution_count": 93,
   "metadata": {},
   "outputs": [
    {
     "name": "stdout",
     "output_type": "stream",
     "text": [
      "Lets draw some insights about the race and how 'Regularly' they like to walk\n"
     ]
    },
    {
     "data": {
      "image/png": "[encoded data removed]",
      "text/plain": [
       "<Figure size 576x396 with 1 Axes>"
      ]
     },
     "metadata": {},
     "output_type": "display_data"
    }
   ],
   "source": [
    "isWalkRegular = copyDf['Walking_tendency'] == 'Regularly'\n",
    "reg_walking_Df = copyDf[isWalkRegular]\n",
    "#reg_walking_Df\n",
    "\n",
    "print(\"Lets draw some insights about the race and how 'Regularly' they like to walk\")\n",
    "\n",
    "allRaces = copyDf['Race'].unique()\n",
    "\n",
    "races = reg_walking_Df['Race'].unique()\n",
    "sums = reg_walking_Df['Race'].value_counts()\n",
    "\n",
    "\n",
    "for race in allRaces:\n",
    "    if race not in races:\n",
    "        races = np.append(races, race)\n",
    "        sums[race] = 0\n",
    "\n",
    "total_count = sums.sum()\n",
    "        \n",
    "rects = plt.bar(races,sums)\n",
    "plt.xticks(rotation='vertical')\n",
    "plt.title(\"How often do you WALK Regularly?\")\n",
    "\n",
    "for rect in rects:\n",
    "    height = rect.get_height()\n",
    "    plt.text(rect.get_x() + rect.get_width()/2., 0.99*height,\n",
    "             str(round(height/total_count*100, 2)) + \"%\", ha='center', va='bottom')\n",
    "plt.show()\n"
   ]
  },
  {
   "cell_type": "markdown",
   "metadata": {},
   "source": [
    "We can see that the percentage of Whites who walk regularly is much higher than other races\n",
    "At the same time, we don't have any Latinos who even walk"
   ]
  },
  {
   "cell_type": "code",
   "execution_count": 88,
   "metadata": {},
   "outputs": [
    {
     "name": "stdout",
     "output_type": "stream",
     "text": [
      "Lets draw some insights about the race and how 'Regularly' they like to Bike\n"
     ]
    },
    {
     "data": {
      "image/png": "[encoded data removed]",
      "text/plain": [
       "<Figure size 576x396 with 1 Axes>"
      ]
     },
     "metadata": {},
     "output_type": "display_data"
    }
   ],
   "source": [
    "isBikeRegular = copyDf['Biking_tendency'] == 'Regularly'\n",
    "reg_biking_Df = copyDf[isBikeRegular]\n",
    "#reg_walking_Df\n",
    "\n",
    "print(\"Lets draw some insights about the race and how 'Regularly' they like to Bike\")\n",
    "\n",
    "allRaces = copyDf['Race'].unique()\n",
    "\n",
    "races = reg_biking_Df['Race'].unique()\n",
    "sums = reg_biking_Df['Race'].value_counts()\n",
    "\n",
    "\n",
    "for race in allRaces:\n",
    "    if race not in races:\n",
    "        races = np.append(races, race)\n",
    "        sums[race] = 0\n",
    "        \n",
    "total_count = sums.sum()\n",
    "        \n",
    "rects = plt.bar(races,sums)\n",
    "plt.xticks(rotation='vertical')\n",
    "plt.title(\"How often do you Bike Regularly?\")\n",
    "\n",
    "for rect in rects:\n",
    "    height = rect.get_height()\n",
    "    plt.text(rect.get_x() + rect.get_width()/2., 0.99*height,\n",
    "             str(round(height/total_count*100, 2)) + \"%\", ha='center', va='bottom')\n",
    "plt.show()\n"
   ]
  },
  {
   "cell_type": "markdown",
   "metadata": {},
   "source": [
    "We can see that the percentage of Whites who bike regularly is much higher than other races. Out of the total respondents, Asians and Blacks seem to have similar Biking tendency with a frequency of being 'regular'."
   ]
  },
  {
   "cell_type": "markdown",
   "metadata": {},
   "source": [
    "Conclusion: \n",
    "- Our target group seems like Asians and Blacks when it comes to biking and walking. \n",
    "- We need to understand why do they dont bike or walk regularly \n",
    "- We can get additional information such as their dietary habits, exercising habits etc."
   ]
  },
  {
   "cell_type": "code",
   "execution_count": 96,
   "metadata": {},
   "outputs": [
    {
     "data": {
      "image/png": "[encoded data removed]",
      "text/plain": [
       "<Figure size 576x396 with 1 Axes>"
      ]
     },
     "metadata": {},
     "output_type": "display_data"
    }
   ],
   "source": [
    "df1_count = copyDf[(copyDf['Race'] == 'White') & (copyDf['Walking_tendency'] == 'Regularly')].shape[0]\n",
    "df2_count = copyDf[(copyDf['Race'] != 'White') & (copyDf['Walking_tendency'] == 'Regularly')].shape[0]\n",
    "df3_count = copyDf[(copyDf['Race'] == 'White') & (copyDf['Walking_tendency'] == 'Never')].shape[0]\n",
    "df4_count = copyDf[(copyDf['Race'] != 'White') & (copyDf['Walking_tendency'] == 'Never')].shape[0]\n",
    "\n",
    "df5_count = copyDf[(copyDf['Race'] == 'White') & (copyDf['Biking_tendency'] == 'Regularly')].shape[0]\n",
    "df6_count = copyDf[(copyDf['Race'] != 'White') & (copyDf['Biking_tendency'] == 'Regularly')].shape[0]\n",
    "df7_count = copyDf[(copyDf['Race'] == 'White') & (copyDf['Biking_tendency'] == 'Never')].shape[0]\n",
    "df8_count = copyDf[(copyDf['Race'] != 'White') & (copyDf['Biking_tendency'] == 'Never')].shape[0]\n",
    "\n",
    "N = 4\n",
    "\n",
    "men_means = (df1_count, df3_count, df5_count, df7_count)\n",
    "women_means = (df2_count, df4_count, df6_count, df8_count)\n",
    "\n",
    "ind = np.arange(N) \n",
    "width = 0.2   \n",
    "\n",
    "plt.bar(ind, men_means, width, label='Whites')\n",
    "plt.bar(ind + width, women_means, width, label='Others')\n",
    "\n",
    "plt.ylabel('Count')\n",
    "plt.title('Count by race and frequency')\n",
    "\n",
    "plt.xticks(ind + width / 2, ('Walk Regularly', 'Walk Never', 'Bike Regularly', 'Bike Never'))\n",
    "plt.legend(loc='best')\n",
    "plt.show()"
   ]
  },
  {
   "cell_type": "markdown",
   "metadata": {},
   "source": [
    "As we can see from this graph, clearly, Whites have a very high tendency to walk regularly compared to all other races.\n",
    "Similarly, out of the total respondents who voted for 'Bike Regularly', the count is greater for Whites as compared to other races."
   ]
  }
 ],
 "metadata": {
  "kernelspec": {
   "display_name": "Python 3",
   "language": "python",
   "name": "python3"
  },
  "language_info": {
   "codemirror_mode": {
    "name": "ipython",
    "version": 3
   },
   "file_extension": ".py",
   "mimetype": "text/x-python",
   "name": "python",
   "nbconvert_exporter": "python",
   "pygments_lexer": "ipython3",
   "version": "3.5.2"
  }
 },
 "nbformat": 4,
 "nbformat_minor": 2
}
