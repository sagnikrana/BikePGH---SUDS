{
 "cells": [
  {
   "cell_type": "code",
   "execution_count": 3,
   "metadata": {},
   "outputs": [
    {
     "data": {
      "text/html": [
       "\n",
       "    <div class=\"bk-root\">\n",
       "        <a href=\"https://bokeh.pydata.org\" target=\"_blank\" class=\"bk-logo bk-logo-small bk-logo-notebook\"></a>\n",
       "        <span id=\"1002\">Loading BokehJS ...</span>\n",
       "    </div>"
      ]
     },
     "metadata": {},
     "output_type": "display_data"
    },
    {
     "data": {
      "application/javascript": [
       "\n",
       "(function(root) {\n",
       "  function now() {\n",
       "    return new Date();\n",
       "  }\n",
       "\n",
       "  var force = true;\n",
       "\n",
       "  if (typeof (root._bokeh_onload_callbacks) === \"undefined\" || force === true) {\n",
       "    root._bokeh_onload_callbacks = [];\n",
       "    root._bokeh_is_loading = undefined;\n",
       "  }\n",
       "\n",
       "  var JS_MIME_TYPE = 'application/javascript';\n",
       "  var HTML_MIME_TYPE = 'text/html';\n",
       "  var EXEC_MIME_TYPE = 'application/vnd.bokehjs_exec.v0+json';\n",
       "  var CLASS_NAME = 'output_bokeh rendered_html';\n",
       "\n",
       "  /**\n",
       "   * Render data to the DOM node\n",
       "   */\n",
       "  function render(props, node) {\n",
       "    var script = document.createElement(\"script\");\n",
       "    node.appendChild(script);\n",
       "  }\n",
       "\n",
       "  /**\n",
       "   * Handle when an output is cleared or removed\n",
       "   */\n",
       "  function handleClearOutput(event, handle) {\n",
       "    var cell = handle.cell;\n",
       "\n",
       "    var id = cell.output_area._bokeh_element_id;\n",
       "    var server_id = cell.output_area._bokeh_server_id;\n",
       "    // Clean up Bokeh references\n",
       "    if (id != null && id in Bokeh.index) {\n",
       "      Bokeh.index[id].model.document.clear();\n",
       "      delete Bokeh.index[id];\n",
       "    }\n",
       "\n",
       "    if (server_id !== undefined) {\n",
       "      // Clean up Bokeh references\n",
       "      var cmd = \"from bokeh.io.state import curstate; print(curstate().uuid_to_server['\" + server_id + \"'].get_sessions()[0].document.roots[0]._id)\";\n",
       "      cell.notebook.kernel.execute(cmd, {\n",
       "        iopub: {\n",
       "          output: function(msg) {\n",
       "            var id = msg.content.text.trim();\n",
       "            if (id in Bokeh.index) {\n",
       "              Bokeh.index[id].model.document.clear();\n",
       "              delete Bokeh.index[id];\n",
       "            }\n",
       "          }\n",
       "        }\n",
       "      });\n",
       "      // Destroy server and session\n",
       "      var cmd = \"import bokeh.io.notebook as ion; ion.destroy_server('\" + server_id + \"')\";\n",
       "      cell.notebook.kernel.execute(cmd);\n",
       "    }\n",
       "  }\n",
       "\n",
       "  /**\n",
       "   * Handle when a new output is added\n",
       "   */\n",
       "  function handleAddOutput(event, handle) {\n",
       "    var output_area = handle.output_area;\n",
       "    var output = handle.output;\n",
       "\n",
       "    // limit handleAddOutput to display_data with EXEC_MIME_TYPE content only\n",
       "    if ((output.output_type != \"display_data\") || (!output.data.hasOwnProperty(EXEC_MIME_TYPE))) {\n",
       "      return\n",
       "    }\n",
       "\n",
       "    var toinsert = output_area.element.find(\".\" + CLASS_NAME.split(' ')[0]);\n",
       "\n",
       "    if (output.metadata[EXEC_MIME_TYPE][\"id\"] !== undefined) {\n",
       "      toinsert[toinsert.length - 1].firstChild.textContent = output.data[JS_MIME_TYPE];\n",
       "      // store reference to embed id on output_area\n",
       "      output_area._bokeh_element_id = output.metadata[EXEC_MIME_TYPE][\"id\"];\n",
       "    }\n",
       "    if (output.metadata[EXEC_MIME_TYPE][\"server_id\"] !== undefined) {\n",
       "      var bk_div = document.createElement(\"div\");\n",
       "      bk_div.innerHTML = output.data[HTML_MIME_TYPE];\n",
       "      var script_attrs = bk_div.children[0].attributes;\n",
       "      for (var i = 0; i < script_attrs.length; i++) {\n",
       "        toinsert[toinsert.length - 1].firstChild.setAttribute(script_attrs[i].name, script_attrs[i].value);\n",
       "      }\n",
       "      // store reference to server id on output_area\n",
       "      output_area._bokeh_server_id = output.metadata[EXEC_MIME_TYPE][\"server_id\"];\n",
       "    }\n",
       "  }\n",
       "\n",
       "  function register_renderer(events, OutputArea) {\n",
       "\n",
       "    function append_mime(data, metadata, element) {\n",
       "      // create a DOM node to render to\n",
       "      var toinsert = this.create_output_subarea(\n",
       "        metadata,\n",
       "        CLASS_NAME,\n",
       "        EXEC_MIME_TYPE\n",
       "      );\n",
       "      this.keyboard_manager.register_events(toinsert);\n",
       "      // Render to node\n",
       "      var props = {data: data, metadata: metadata[EXEC_MIME_TYPE]};\n",
       "      render(props, toinsert[toinsert.length - 1]);\n",
       "      element.append(toinsert);\n",
       "      return toinsert\n",
       "    }\n",
       "\n",
       "    /* Handle when an output is cleared or removed */\n",
       "    events.on('clear_output.CodeCell', handleClearOutput);\n",
       "    events.on('delete.Cell', handleClearOutput);\n",
       "\n",
       "    /* Handle when a new output is added */\n",
       "    events.on('output_added.OutputArea', handleAddOutput);\n",
       "\n",
       "    /**\n",
       "     * Register the mime type and append_mime function with output_area\n",
       "     */\n",
       "    OutputArea.prototype.register_mime_type(EXEC_MIME_TYPE, append_mime, {\n",
       "      /* Is output safe? */\n",
       "      safe: true,\n",
       "      /* Index of renderer in `output_area.display_order` */\n",
       "      index: 0\n",
       "    });\n",
       "  }\n",
       "\n",
       "  // register the mime type if in Jupyter Notebook environment and previously unregistered\n",
       "  if (root.Jupyter !== undefined) {\n",
       "    var events = require('base/js/events');\n",
       "    var OutputArea = require('notebook/js/outputarea').OutputArea;\n",
       "\n",
       "    if (OutputArea.prototype.mime_types().indexOf(EXEC_MIME_TYPE) == -1) {\n",
       "      register_renderer(events, OutputArea);\n",
       "    }\n",
       "  }\n",
       "\n",
       "  \n",
       "  if (typeof (root._bokeh_timeout) === \"undefined\" || force === true) {\n",
       "    root._bokeh_timeout = Date.now() + 5000;\n",
       "    root._bokeh_failed_load = false;\n",
       "  }\n",
       "\n",
       "  var NB_LOAD_WARNING = {'data': {'text/html':\n",
       "     \"<div style='background-color: #fdd'>\\n\"+\n",
       "     \"<p>\\n\"+\n",
       "     \"BokehJS does not appear to have successfully loaded. If loading BokehJS from CDN, this \\n\"+\n",
       "     \"may be due to a slow or bad network connection. Possible fixes:\\n\"+\n",
       "     \"</p>\\n\"+\n",
       "     \"<ul>\\n\"+\n",
       "     \"<li>re-rerun `output_notebook()` to attempt to load from CDN again, or</li>\\n\"+\n",
       "     \"<li>use INLINE resources instead, as so:</li>\\n\"+\n",
       "     \"</ul>\\n\"+\n",
       "     \"<code>\\n\"+\n",
       "     \"from bokeh.resources import INLINE\\n\"+\n",
       "     \"output_notebook(resources=INLINE)\\n\"+\n",
       "     \"</code>\\n\"+\n",
       "     \"</div>\"}};\n",
       "\n",
       "  function display_loaded() {\n",
       "    var el = document.getElementById(\"1002\");\n",
       "    if (el != null) {\n",
       "      el.textContent = \"BokehJS is loading...\";\n",
       "    }\n",
       "    if (root.Bokeh !== undefined) {\n",
       "      if (el != null) {\n",
       "        el.textContent = \"BokehJS \" + root.Bokeh.version + \" successfully loaded.\";\n",
       "      }\n",
       "    } else if (Date.now() < root._bokeh_timeout) {\n",
       "      setTimeout(display_loaded, 100)\n",
       "    }\n",
       "  }\n",
       "\n",
       "\n",
       "  function run_callbacks() {\n",
       "    try {\n",
       "      root._bokeh_onload_callbacks.forEach(function(callback) { callback() });\n",
       "    }\n",
       "    finally {\n",
       "      delete root._bokeh_onload_callbacks\n",
       "    }\n",
       "    console.info(\"Bokeh: all callbacks have finished\");\n",
       "  }\n",
       "\n",
       "  function load_libs(js_urls, callback) {\n",
       "    root._bokeh_onload_callbacks.push(callback);\n",
       "    if (root._bokeh_is_loading > 0) {\n",
       "      console.log(\"Bokeh: BokehJS is being loaded, scheduling callback at\", now());\n",
       "      return null;\n",
       "    }\n",
       "    if (js_urls == null || js_urls.length === 0) {\n",
       "      run_callbacks();\n",
       "      return null;\n",
       "    }\n",
       "    console.log(\"Bokeh: BokehJS not loaded, scheduling load and callback at\", now());\n",
       "    root._bokeh_is_loading = js_urls.length;\n",
       "    for (var i = 0; i < js_urls.length; i++) {\n",
       "      var url = js_urls[i];\n",
       "      var s = document.createElement('script');\n",
       "      s.src = url;\n",
       "      s.async = false;\n",
       "      s.onreadystatechange = s.onload = function() {\n",
       "        root._bokeh_is_loading--;\n",
       "        if (root._bokeh_is_loading === 0) {\n",
       "          console.log(\"Bokeh: all BokehJS libraries loaded\");\n",
       "          run_callbacks()\n",
       "        }\n",
       "      };\n",
       "      s.onerror = function() {\n",
       "        console.warn(\"failed to load library \" + url);\n",
       "      };\n",
       "      console.log(\"Bokeh: injecting script tag for BokehJS library: \", url);\n",
       "      document.getElementsByTagName(\"head\")[0].appendChild(s);\n",
       "    }\n",
       "  };var element = document.getElementById(\"1002\");\n",
       "  if (element == null) {\n",
       "    console.log(\"Bokeh: ERROR: autoload.js configured with elementid '1002' but no matching script tag was found. \")\n",
       "    return false;\n",
       "  }\n",
       "\n",
       "  var js_urls = [\"https://cdn.pydata.org/bokeh/release/bokeh-1.0.4.min.js\", \"https://cdn.pydata.org/bokeh/release/bokeh-widgets-1.0.4.min.js\", \"https://cdn.pydata.org/bokeh/release/bokeh-tables-1.0.4.min.js\", \"https://cdn.pydata.org/bokeh/release/bokeh-gl-1.0.4.min.js\"];\n",
       "\n",
       "  var inline_js = [\n",
       "    function(Bokeh) {\n",
       "      Bokeh.set_log_level(\"info\");\n",
       "    },\n",
       "    \n",
       "    function(Bokeh) {\n",
       "      \n",
       "    },\n",
       "    function(Bokeh) {\n",
       "      console.log(\"Bokeh: injecting CSS: https://cdn.pydata.org/bokeh/release/bokeh-1.0.4.min.css\");\n",
       "      Bokeh.embed.inject_css(\"https://cdn.pydata.org/bokeh/release/bokeh-1.0.4.min.css\");\n",
       "      console.log(\"Bokeh: injecting CSS: https://cdn.pydata.org/bokeh/release/bokeh-widgets-1.0.4.min.css\");\n",
       "      Bokeh.embed.inject_css(\"https://cdn.pydata.org/bokeh/release/bokeh-widgets-1.0.4.min.css\");\n",
       "      console.log(\"Bokeh: injecting CSS: https://cdn.pydata.org/bokeh/release/bokeh-tables-1.0.4.min.css\");\n",
       "      Bokeh.embed.inject_css(\"https://cdn.pydata.org/bokeh/release/bokeh-tables-1.0.4.min.css\");\n",
       "    }\n",
       "  ];\n",
       "\n",
       "  function run_inline_js() {\n",
       "    \n",
       "    if ((root.Bokeh !== undefined) || (force === true)) {\n",
       "      for (var i = 0; i < inline_js.length; i++) {\n",
       "        inline_js[i].call(root, root.Bokeh);\n",
       "      }if (force === true) {\n",
       "        display_loaded();\n",
       "      }} else if (Date.now() < root._bokeh_timeout) {\n",
       "      setTimeout(run_inline_js, 100);\n",
       "    } else if (!root._bokeh_failed_load) {\n",
       "      console.log(\"Bokeh: BokehJS failed to load within specified timeout.\");\n",
       "      root._bokeh_failed_load = true;\n",
       "    } else if (force !== true) {\n",
       "      var cell = $(document.getElementById(\"1002\")).parents('.cell').data().cell;\n",
       "      cell.output_area.append_execute_result(NB_LOAD_WARNING)\n",
       "    }\n",
       "\n",
       "  }\n",
       "\n",
       "  if (root._bokeh_is_loading === 0) {\n",
       "    console.log(\"Bokeh: BokehJS loaded, going straight to plotting\");\n",
       "    run_inline_js();\n",
       "  } else {\n",
       "    load_libs(js_urls, function() {\n",
       "      console.log(\"Bokeh: BokehJS plotting callback run at\", now());\n",
       "      run_inline_js();\n",
       "    });\n",
       "  }\n",
       "}(window));"
      ],
      "application/vnd.bokehjs_load.v0+json": "\n(function(root) {\n  function now() {\n    return new Date();\n  }\n\n  var force = true;\n\n  if (typeof (root._bokeh_onload_callbacks) === \"undefined\" || force === true) {\n    root._bokeh_onload_callbacks = [];\n    root._bokeh_is_loading = undefined;\n  }\n\n  \n\n  \n  if (typeof (root._bokeh_timeout) === \"undefined\" || force === true) {\n    root._bokeh_timeout = Date.now() + 5000;\n    root._bokeh_failed_load = false;\n  }\n\n  var NB_LOAD_WARNING = {'data': {'text/html':\n     \"<div style='background-color: #fdd'>\\n\"+\n     \"<p>\\n\"+\n     \"BokehJS does not appear to have successfully loaded. If loading BokehJS from CDN, this \\n\"+\n     \"may be due to a slow or bad network connection. Possible fixes:\\n\"+\n     \"</p>\\n\"+\n     \"<ul>\\n\"+\n     \"<li>re-rerun `output_notebook()` to attempt to load from CDN again, or</li>\\n\"+\n     \"<li>use INLINE resources instead, as so:</li>\\n\"+\n     \"</ul>\\n\"+\n     \"<code>\\n\"+\n     \"from bokeh.resources import INLINE\\n\"+\n     \"output_notebook(resources=INLINE)\\n\"+\n     \"</code>\\n\"+\n     \"</div>\"}};\n\n  function display_loaded() {\n    var el = document.getElementById(\"1002\");\n    if (el != null) {\n      el.textContent = \"BokehJS is loading...\";\n    }\n    if (root.Bokeh !== undefined) {\n      if (el != null) {\n        el.textContent = \"BokehJS \" + root.Bokeh.version + \" successfully loaded.\";\n      }\n    } else if (Date.now() < root._bokeh_timeout) {\n      setTimeout(display_loaded, 100)\n    }\n  }\n\n\n  function run_callbacks() {\n    try {\n      root._bokeh_onload_callbacks.forEach(function(callback) { callback() });\n    }\n    finally {\n      delete root._bokeh_onload_callbacks\n    }\n    console.info(\"Bokeh: all callbacks have finished\");\n  }\n\n  function load_libs(js_urls, callback) {\n    root._bokeh_onload_callbacks.push(callback);\n    if (root._bokeh_is_loading > 0) {\n      console.log(\"Bokeh: BokehJS is being loaded, scheduling callback at\", now());\n      return null;\n    }\n    if (js_urls == null || js_urls.length === 0) {\n      run_callbacks();\n      return null;\n    }\n    console.log(\"Bokeh: BokehJS not loaded, scheduling load and callback at\", now());\n    root._bokeh_is_loading = js_urls.length;\n    for (var i = 0; i < js_urls.length; i++) {\n      var url = js_urls[i];\n      var s = document.createElement('script');\n      s.src = url;\n      s.async = false;\n      s.onreadystatechange = s.onload = function() {\n        root._bokeh_is_loading--;\n        if (root._bokeh_is_loading === 0) {\n          console.log(\"Bokeh: all BokehJS libraries loaded\");\n          run_callbacks()\n        }\n      };\n      s.onerror = function() {\n        console.warn(\"failed to load library \" + url);\n      };\n      console.log(\"Bokeh: injecting script tag for BokehJS library: \", url);\n      document.getElementsByTagName(\"head\")[0].appendChild(s);\n    }\n  };var element = document.getElementById(\"1002\");\n  if (element == null) {\n    console.log(\"Bokeh: ERROR: autoload.js configured with elementid '1002' but no matching script tag was found. \")\n    return false;\n  }\n\n  var js_urls = [\"https://cdn.pydata.org/bokeh/release/bokeh-1.0.4.min.js\", \"https://cdn.pydata.org/bokeh/release/bokeh-widgets-1.0.4.min.js\", \"https://cdn.pydata.org/bokeh/release/bokeh-tables-1.0.4.min.js\", \"https://cdn.pydata.org/bokeh/release/bokeh-gl-1.0.4.min.js\"];\n\n  var inline_js = [\n    function(Bokeh) {\n      Bokeh.set_log_level(\"info\");\n    },\n    \n    function(Bokeh) {\n      \n    },\n    function(Bokeh) {\n      console.log(\"Bokeh: injecting CSS: https://cdn.pydata.org/bokeh/release/bokeh-1.0.4.min.css\");\n      Bokeh.embed.inject_css(\"https://cdn.pydata.org/bokeh/release/bokeh-1.0.4.min.css\");\n      console.log(\"Bokeh: injecting CSS: https://cdn.pydata.org/bokeh/release/bokeh-widgets-1.0.4.min.css\");\n      Bokeh.embed.inject_css(\"https://cdn.pydata.org/bokeh/release/bokeh-widgets-1.0.4.min.css\");\n      console.log(\"Bokeh: injecting CSS: https://cdn.pydata.org/bokeh/release/bokeh-tables-1.0.4.min.css\");\n      Bokeh.embed.inject_css(\"https://cdn.pydata.org/bokeh/release/bokeh-tables-1.0.4.min.css\");\n    }\n  ];\n\n  function run_inline_js() {\n    \n    if ((root.Bokeh !== undefined) || (force === true)) {\n      for (var i = 0; i < inline_js.length; i++) {\n        inline_js[i].call(root, root.Bokeh);\n      }if (force === true) {\n        display_loaded();\n      }} else if (Date.now() < root._bokeh_timeout) {\n      setTimeout(run_inline_js, 100);\n    } else if (!root._bokeh_failed_load) {\n      console.log(\"Bokeh: BokehJS failed to load within specified timeout.\");\n      root._bokeh_failed_load = true;\n    } else if (force !== true) {\n      var cell = $(document.getElementById(\"1002\")).parents('.cell').data().cell;\n      cell.output_area.append_execute_result(NB_LOAD_WARNING)\n    }\n\n  }\n\n  if (root._bokeh_is_loading === 0) {\n    console.log(\"Bokeh: BokehJS loaded, going straight to plotting\");\n    run_inline_js();\n  } else {\n    load_libs(js_urls, function() {\n      console.log(\"Bokeh: BokehJS plotting callback run at\", now());\n      run_inline_js();\n    });\n  }\n}(window));"
     },
     "metadata": {},
     "output_type": "display_data"
    }
   ],
   "source": [
    "# importing the necessary modules\n",
    "\n",
    "import pandas as pd\n",
    "import numpy as np\n",
    "import matplotlib.pyplot as plt\n",
    "# import statsmodels.api as sm\n",
    "import seaborn as sns\n",
    "from pandas.io.sas.sas7bdat import _column\n",
    "from sklearn.linear_model import LinearRegression\n",
    "from sklearn.model_selection import train_test_split\n",
    "from sklearn import linear_model\n",
    "from sklearn.metrics import mean_squared_error\n",
    "from bokeh.plotting import figure, show\n",
    "from bokeh.io import output_notebook\n",
    "from bokeh.models import Legend\n",
    "output_notebook()\n",
    "\n",
    "pd.set_option('display.max_rows',99999999)\n",
    "pd.set_option('display.max_columns',100)\n",
    "pd.set_option('display.max_colwidth',100)\n",
    "pd.set_option('display.width',None)\n",
    "\n",
    "def plot_insight(categorical_col_name):\n",
    "    third_time = attending_3rd_time[categorical_col_name].value_counts()\n",
    "    first_time = attending_1st_time[categorical_col_name].value_counts()\n",
    "    third_time = pd.DataFrame(third_time)\n",
    "    third_time = third_time.rename(columns = {categorical_col_name:'Count'})\n",
    "    third_time.index.names = [categorical_col_name]\n",
    "\n",
    "\n",
    "    first_time = pd.DataFrame(first_time)\n",
    "    first_time = first_time.rename(columns = {categorical_col_name:'Count'})\n",
    "    first_time.index.names = [categorical_col_name]\n",
    "\n",
    "    p1 = figure(x_range = list(first_time.index),plot_width=400, plot_height=300,\n",
    "           background_fill_color = \"honeydew\", border_fill_color = 'honeydew')\n",
    "    p2 = figure(x_range = list(third_time.index),plot_width=400, plot_height=300,\n",
    "           background_fill_color = \"honeydew\", border_fill_color = 'honeydew')\n",
    "\n",
    "    f1 = p1.vbar(x=list(first_time.index), bottom=0,width = 0.3,\n",
    "       top=list(first_time.Count), color=\"limegreen\")\n",
    "\n",
    "    f2 = p2.vbar(x=list(third_time.index), bottom=0,width = 0.3,\n",
    "       top=list(third_time.Count), color=\"mediumslateblue\")\n",
    "    \n",
    "    legend = Legend(items=[(\"Visiting first time\",[f1])], location=(0, -30))\n",
    "    legend_1 = Legend(items=[(\"Visiting third time\" ,[f2])], location=(0, -30))\n",
    "    \n",
    "    p1.add_layout(legend, 'right')\n",
    "    p2.add_layout(legend_1, 'right')\n",
    "    show(p1)\n",
    "    show(p2)"
   ]
  },
  {
   "cell_type": "markdown",
   "metadata": {},
   "source": [
    "Cleaning the data. Removing the first two columns because they are blank and contains index and timestamp, which are not required for the analysis"
   ]
  },
  {
   "cell_type": "code",
   "execution_count": 4,
   "metadata": {},
   "outputs": [],
   "source": [
    "\n",
    "df = pd.read_excel(\"SUDS.xlsx\")\n",
    "\n",
    "col = df.columns[0]\n",
    "\n",
    "df.drop(columns=col, inplace = True)"
   ]
  },
  {
   "cell_type": "markdown",
   "metadata": {},
   "source": [
    "Renaming the columns."
   ]
  },
  {
   "cell_type": "code",
   "execution_count": 5,
   "metadata": {},
   "outputs": [],
   "source": [
    "df = df.rename(columns = {'X1..What.do.you.like.best.about..OpenStreetsPGH....check.all.that.apply.':'Best_about_BikePGH'})\n",
    "df = df.rename(columns = {'X2..Have.you.attended.OpenStreetsPGH.before...check.one.':'Attended_Before'})\n",
    "df = df.rename(columns = {'X3..How.did.you.hear.about.OpenStreetsPGH...check.all.that.apply.':'How_you_heard'})\n",
    "df = df.rename(columns = {'X4..What.are.your.primary.activities.at.OpenStreetsPGH..check.up.to.2.':'Primary_activities'})\n",
    "df = df.rename(columns = {'X5..How.long.will.you.spend.at.OSP.today.':'Time_you_will_spend'})\n",
    "df = df.rename(columns = {'X6..Do.you.typically.walk.for.exercise..not.including.OpenStreetsPGH..':'Walking_tendency'})\n",
    "df = df.rename(columns = {'X7..Do.you.typically.bike.for.exercise..not.including.OpenStreetsPGH..':'Biking_tendency'})\n",
    "df = df.rename(columns = {'X8..What.s.your.likelihood.of.walking.for.exercise.in.the.future.':'Likelihood_walking_exercise'})\n",
    "df = df.rename(columns = {'X9..What.s.your.likelihood.of.biking.for.exercise.in.the.future.':'Likelihood_biking_exercise'})\n",
    "df = df.rename(columns = {'X10..Do.you.typically.walk.for.transportation.trips..e.g..commute..errands..shop..visiting.friends..etc..':'Do_you_walk'})\n",
    "df = df.rename(columns = {'X11..Do.you.typically.Bike.for.transportation.trips.':'Do_you_bike'})\n",
    "df = df.rename(columns = {'X12..What.s.your.likelihood.of.walking.for.transportation...trips.in.the.future.':'Likelihood_walking_transportation'})\n",
    "df = df.rename(columns = {'X13..What.s.your.likelihood.of.biking.for.transportation...trips.in.the.future.':'Likelihood_biking_transportation'})\n",
    "df = df.rename(columns = {'X14..What.would.get.you.riding.a.bike.more.often.':'Reasons_for_biking'})\n",
    "df = df.rename(columns = {'X15..Yes.or.no..did.you.know.that.the.nonprofit.organization..Bike.Pittsburgh..organizes.OpenstreetsPGH..':'BikePGH_organizes_OSPGH'})\n",
    "df = df.rename(columns = {'Did.you.bring.any.children.to.OSP..if.so.write.the.number.of.childres.next.to.the.corresponding.age.range....0.3.year.old.':'Children_0-3'})\n",
    "df = df.rename(columns = {'Did.you.bring.any.children.to.OSP..if.so.write.the.number.of.childres.next.to.the.corresponding.age.range....4.8.year.old..':'Children_4-8'})\n",
    "df = df.rename(columns = {'Did.you.bring.any.children.to.OSP..if.so.write.the.number.of.childres.next.to.the.corresponding.age.range....9.13.year.old.':'Children_9-13'})\n",
    "df = df.rename(columns = {'Did.you.bring.any.children.to.OSP..if.so.write.the.number.of.childres.next.to.the.corresponding.age.range....14.17.year.old.':'Children_14-17'})\n",
    "df = df.rename(columns = {'X17..Did.you.your.family.spend.any.money.or.do.you.plan.on.spending.any.money.today.at.OpenStreetsPGH.':'Money_spent_in_OSP'})\n",
    "df = df.rename(columns = {'X18.Would.you.attend.another.OpenStreetsPGH.in.the.future.':'Attend_in_future'})\n",
    "df = df.rename(columns = {'Race.or.Ethnicity':'Race'})\n",
    "df = df.rename(columns = {'Gender.Identity':'Gender'})\n",
    "df = df.rename(columns = {'Zip.Code':'ZipCode'})\n",
    "df = df.rename(columns = {'Household.Income':'Income'})\n",
    "df = df.rename(columns = {'city':'City'})\n",
    "df = df.rename(columns = {'state':'State'})\n",
    "df = df.rename(columns = {'latitude':'Latitude'})\n",
    "df = df.rename(columns = {'longitude':'Longitude'})"
   ]
  },
  {
   "cell_type": "code",
   "execution_count": 6,
   "metadata": {},
   "outputs": [
    {
     "name": "stdout",
     "output_type": "stream",
     "text": [
      "Index(['Best_about_BikePGH', 'Attended_Before', 'How_you_heard',\n",
      "       'Primary_activities', 'Time_you_will_spend', 'Walking_tendency',\n",
      "       'Biking_tendency', 'Likelihood_walking_exercise',\n",
      "       'Likelihood_biking_exercise', 'Do_you_walk', 'Do_you_bike',\n",
      "       'Likelihood_walking_transportation', 'Likelihood_biking_transportation',\n",
      "       'Reasons_for_biking', 'BikePGH_organizes_OSPGH', 'Children_0-3',\n",
      "       'Children_4-8', 'Children_9-13', 'Children_14-17', 'Money_spent_in_OSP',\n",
      "       'Attend_in_future', 'Age', 'Race', 'Gender', 'ZipCode', 'Income',\n",
      "       'City', 'State', 'Latitude', 'Longitude'],\n",
      "      dtype='object')\n"
     ]
    }
   ],
   "source": [
    "# Printing the column names to get the clear picture\n",
    "\n",
    "print(df.columns)"
   ]
  },
  {
   "cell_type": "markdown",
   "metadata": {},
   "source": [
    "Preparing the data for multiple regression. Mapping the variables to the correct values.\n",
    "In case of variables which are in between some numerical values, I have taken up a calculated estimate.\n",
    "Printing the unique names to get the clear picture of unique values in the columns."
   ]
  },
  {
   "cell_type": "code",
   "execution_count": 7,
   "metadata": {},
   "outputs": [
    {
     "name": "stdout",
     "output_type": "stream",
     "text": [
      "[nan 'Between $10 and $25' 'Between $25 and $50' 'NONE' 'Less than $10'\n",
      " 'More than $50']\n"
     ]
    }
   ],
   "source": [
    "\n",
    "df['Attended_Before'] = df['Attended_Before'].map({'This is my first time':0,\n",
    "                                                   'once before':1,\n",
    "                                                   '2-3 times':2,\n",
    "                                                   '4-5 times':4})\n",
    "\n",
    "print(df['Money_spent_in_OSP'].unique())"
   ]
  },
  {
   "cell_type": "code",
   "execution_count": 8,
   "metadata": {},
   "outputs": [
    {
     "name": "stdout",
     "output_type": "stream",
     "text": [
      "[nan 20. 40. 10.]\n"
     ]
    }
   ],
   "source": [
    "\n",
    "df['Money_spent_in_OSP'] = df['Money_spent_in_OSP'].map({'Between $10 and $25':20,\n",
    "                                                         'Between $25 and $50':40,\n",
    "                                                         'Less than $10':10,\n",
    "                                                         'More than $50:':60})\n",
    "\n",
    "print(df['Money_spent_in_OSP'].unique())"
   ]
  },
  {
   "cell_type": "code",
   "execution_count": 9,
   "metadata": {},
   "outputs": [
    {
     "name": "stdout",
     "output_type": "stream",
     "text": [
      "[nan 'Caucasian' 'African American' 'Irish Italian' 'Hispanic' 'Asian'\n",
      " 'Latina' 'Black']\n"
     ]
    }
   ],
   "source": [
    "df['Race'] = df['Race'].map({'Caucasian ':'Caucasian',\n",
    "                             'Irish Italan': 'Irish Italian',\n",
    "                             'African-American ': 'African American',\n",
    "                             'African American ':'African American',\n",
    "                             'African-American': 'African American',\n",
    "                             'Caucasian / non hispanic':'Caucasian',\n",
    "                             'Asian ':'Asian',\n",
    "                             'European mixed':'Hispanic',\n",
    "                             'Aftican-Indian-American':'African American',\n",
    "                             'Hispanic':'Hispanic',\n",
    "                             'Latina':'Latina',\n",
    "                             'Asian':'Asian',\n",
    "                             'Black':'Black',\n",
    "                             'African American/ caribbean': 'African American',\n",
    "                             'White':'Hispanic',\n",
    "                             })\n",
    "\n",
    "print(df['Race'].unique())"
   ]
  },
  {
   "cell_type": "code",
   "execution_count": 10,
   "metadata": {},
   "outputs": [
    {
     "name": "stdout",
     "output_type": "stream",
     "text": [
      "[12. 15. 16. 17. 19. 20. 21. 22. 23. 24. 25. 26. 27. 28. 29. 30. 31. 32.\n",
      " 33. 34. 35. 36. 37. 38. 39. 40. 41. 42. 43. 45. 46. 47. 48. 49. 50. 52.\n",
      " 53. 54. 55. 56. 57. 58. 59. 60. 61. 62. 63. 64. 65. 66. 67. 69. 72. 75.\n",
      " 86. 87. nan]\n"
     ]
    }
   ],
   "source": [
    "df['Age'] = df['Age'].replace(199,19)\n",
    "\n",
    "print(df['Age'].unique())"
   ]
  },
  {
   "cell_type": "code",
   "execution_count": 11,
   "metadata": {},
   "outputs": [
    {
     "name": "stdout",
     "output_type": "stream",
     "text": [
      "['Male' 'Female' nan 'Other']\n"
     ]
    }
   ],
   "source": [
    "\n",
    "df['Gender'] = df['Gender'].replace('Non-binary/ other','Other')\n",
    "\n",
    "print(df['Gender'].unique())"
   ]
  },
  {
   "cell_type": "code",
   "execution_count": 12,
   "metadata": {},
   "outputs": [
    {
     "name": "stdout",
     "output_type": "stream",
     "text": [
      "[    nan  40000.  20000.  85000.  65000. 135000. 115000. 170000.]\n",
      "[nan 'PA' 'OH' 'NY']\n"
     ]
    }
   ],
   "source": [
    "\n",
    "df['Income'] = df['Income'].map({'25,000 - 49,999': 40000,\n",
    "                                 '<25,000':20000,\n",
    "                                 '75,000 - 99,999': 85000,\n",
    "                                 '50,000 - 74,999': 65000,\n",
    "                                 '125,000 - 149,000': 135000,\n",
    "                                 '100,000 - 124,999': 115000,\n",
    "                                 '>150,000': 170000})\n",
    "\n",
    "print(df['Income'].unique())\n",
    "\n",
    "print(df['State'].unique())"
   ]
  },
  {
   "cell_type": "markdown",
   "metadata": {},
   "source": [
    "Combining the relevant columns for multiple regression, and dropping all the NaN values so that we get a clear dataframe of objects where each and every data is present"
   ]
  },
  {
   "cell_type": "code",
   "execution_count": 13,
   "metadata": {},
   "outputs": [],
   "source": [
    "regression_dataframe = pd.DataFrame([df['Attended_Before'], df['Money_spent_in_OSP'],\n",
    "                                     df['Race'], df['Age'], df['Gender'],df['Income']])\n",
    "\n",
    "regression_dataframe_main = regression_dataframe.transpose()\n",
    "\n",
    "regression_dataframe = regression_dataframe_main.dropna()\n",
    "regression_dataframe.to_csv(\"BikePGHFiltered_RegressionAttempt.csv\")\n",
    "# print(regression_dataframe) "
   ]
  },
  {
   "cell_type": "markdown",
   "metadata": {},
   "source": [
    "Preparing the dummy variables(Race and Gender).\n",
    "Creating the first basetable(DataFrame to be used for the regression) by dropping the unnecessary columns."
   ]
  },
  {
   "cell_type": "raw",
   "metadata": {},
   "source": [
    "Creating the independent variable(X) and dependent variables(y)\n",
    "Performing the regression and computing the r-square value and RMSE"
   ]
  },
  {
   "cell_type": "code",
   "execution_count": 14,
   "metadata": {},
   "outputs": [
    {
     "name": "stdout",
     "output_type": "stream",
     "text": [
      "Rsquare: 0.20835881443278026\n",
      "Root Mean Squared Error: 45760.25443537173\n"
     ]
    }
   ],
   "source": [
    "dummy_race = pd.get_dummies(regression_dataframe['Race'])\n",
    "dummy_gender = pd.get_dummies(regression_dataframe['Gender'])\n",
    "basetable = pd.concat([regression_dataframe, dummy_race, dummy_gender], axis = 1, sort = False)\n",
    "basetable = basetable.drop(columns = ['Race', 'Gender','Attended_Before'])\n",
    "# print(basetable)\n",
    "# Considered all the columns except the dependent variable\n",
    "X = basetable.drop(columns = ['Income'])\n",
    "# Our dependent variables\n",
    "y = basetable['Income']\n",
    "# creating the train and test datasets\n",
    "X_train, X_test, y_train, y_test = train_test_split(X, y, test_size = 0.1, random_state=21)\n",
    "# Create the regressor: reg_all\n",
    "reg_all = LinearRegression()\n",
    "\n",
    "# Fit the regressor to the training data\n",
    "reg_all.fit(X_train,y_train)\n",
    "\n",
    "# Predict on the test data: y_pred\n",
    "y_pred = reg_all.predict(X_test)\n",
    "\n",
    "# Compute and print R^2 and RMSE\n",
    "print(\"Rsquare: {}\".format(reg_all.score(X_test, y_test)))\n",
    "rmse = np.sqrt(mean_squared_error(y_test,y_pred))\n",
    "print(\"Root Mean Squared Error: {}\".format(rmse))"
   ]
  },
  {
   "cell_type": "code",
   "execution_count": 15,
   "metadata": {},
   "outputs": [],
   "source": [
    "# 'Attended_Before'\n",
    "# 'Money_spent_in_OSP'\n",
    "# 'Race'\n",
    "# 'Age'\n",
    "# 'Gender'\n",
    "# 'Income'\n",
    "# dataframe_model2 = regression_dataframe_main.drop(columns = ['Race','Attended_Before'])\n",
    "# dataframe_model2 = dataframe_model2.dropna()\n",
    "# print(dataframe_model2.columns)\n",
    "# dummy_gender = pd.get_dummies(dataframe_model2['Gender'])\n",
    "# basetable = pd.concat([dataframe_model2, dummy_gender], axis = 1, sort = False)\n",
    "# basetable = basetable.drop(columns = ['Gender'])\n",
    "# # Considered all the columns except the dependent variable\n",
    "# X = basetable.drop(columns = ['Income'])\n",
    "# # Our dependent variables\n",
    "# y = basetable['Income']\n",
    "# # creating the train and test datasets\n",
    "# X_train, X_test, y_train, y_test = train_test_split(X, y, test_size = 0.3, random_state=21)\n",
    "# # Create the regressor: reg_all\n",
    "# reg_all = LinearRegression()\n",
    "\n",
    "# # Fit the regressor to the training data\n",
    "# reg_all.fit(X_train,y_train)\n",
    "\n",
    "# # Predict on the test data: y_pred\n",
    "# y_pred = reg_all.predict(X_test)\n",
    "\n",
    "# # Compute and print R^2 and RMSE\n",
    "# print(\"Rsquare: {}\".format(reg_all.score(X_test, y_test)))\n",
    "# rmse = np.sqrt(mean_squared_error(y_test,y_pred))\n",
    "# print(\"Root Mean Squared Error: {}\".format(rmse))"
   ]
  },
  {
   "cell_type": "code",
   "execution_count": 16,
   "metadata": {},
   "outputs": [],
   "source": [
    "# dataframe_model3 = regression_dataframe_main.drop(columns = ['Race','Attended_Before','Money_spent_in_OSP'])\n",
    "# dataframe_model3 = dataframe_model3.dropna()\n",
    "# print(dataframe_model3.columns)\n",
    "# dummy_gender = pd.get_dummies(dataframe_model3['Gender'])\n",
    "# basetable = pd.concat([dataframe_model3, dummy_gender], axis = 1, sort = False)\n",
    "# basetable = basetable.drop(columns = ['Gender'])\n",
    "# # Considered all the columns except the dependent variable\n",
    "# X = basetable.drop(columns = ['Income'])\n",
    "# # Our dependent variables\n",
    "# y = basetable['Income']\n",
    "# # creating the train and test datasets\n",
    "# X_train, X_test, y_train, y_test = train_test_split(X, y, test_size = 0.1, random_state=21)\n",
    "# # Create the regressor: reg_all\n",
    "# reg_all = LinearRegression()\n",
    "\n",
    "# # Fit the regressor to the training data\n",
    "# reg_all.fit(X_train,y_train)\n",
    "\n",
    "# # Predict on the test data: y_pred\n",
    "# y_pred = reg_all.predict(X_test)\n",
    "\n",
    "# # Compute and print R^2 and RMSE\n",
    "# print(\"Rsquare: {}\".format(reg_all.score(X_test, y_test)))\n",
    "# rmse = np.sqrt(mean_squared_error(y_test,y_pred))\n",
    "# print(\"Root Mean Squared Error: {}\".format(rmse))"
   ]
  },
  {
   "cell_type": "markdown",
   "metadata": {},
   "source": [
    "DELIVERABLE - 1"
   ]
  },
  {
   "cell_type": "markdown",
   "metadata": {},
   "source": [
    "“What makes a high-income person attending their 3rd event differ from a\n",
    "high-income person who attends only once?”"
   ]
  },
  {
   "cell_type": "markdown",
   "metadata": {},
   "source": [
    "Insight on age"
   ]
  },
  {
   "cell_type": "code",
   "execution_count": 17,
   "metadata": {},
   "outputs": [
    {
     "name": "stdout",
     "output_type": "stream",
     "text": [
      "Interpretation of average age with income > $80,000: \n",
      "Average age of people attending 3rd time :  42.09090909090909\n",
      "Average age of people attending 1st time :  44.04761904761905\n",
      "Insight : No major age difference between the two groups\n"
     ]
    },
    {
     "data": {
      "image/png": "[encoded data removed]",
      "text/plain": [
       "<Figure size 360x360 with 1 Axes>"
      ]
     },
     "metadata": {
      "needs_background": "light"
     },
     "output_type": "display_data"
    }
   ],
   "source": [
    "df.to_csv(\"BikePGHFiltered.csv\")\n",
    "age = []\n",
    "temp = []\n",
    "attending_3rd_time = df[df['Attended_Before'] == 2]\n",
    "attending_3rd_time = attending_3rd_time[attending_3rd_time['Income'] > 80000]\n",
    "temp.append(attending_3rd_time['Age'].mean())\n",
    "attending_1st_time = df[df['Attended_Before'] == 0]\n",
    "attending_1st_time = attending_1st_time[attending_1st_time['Income'] > 80000]\n",
    "temp.append(attending_1st_time['Age'].mean())\n",
    "age.append(temp)\n",
    "name = ['Attending_3rd_time','Attending_1st_time']\n",
    "data = pd.DataFrame(age, columns = name)\n",
    "print(\"Interpretation of average age with income > $80,000: \")\n",
    "print(\"Average age of people attending 3rd time : \", attending_3rd_time['Age'].mean())\n",
    "print(\"Average age of people attending 1st time : \", attending_1st_time['Age'].mean())\n",
    "sns.catplot(kind=\"bar\", data=data)\n",
    "print(\"Insight : No major age difference between the two groups\")"
   ]
  },
  {
   "cell_type": "markdown",
   "metadata": {},
   "source": [
    "Insight on State"
   ]
  },
  {
   "cell_type": "code",
   "execution_count": 18,
   "metadata": {},
   "outputs": [
    {
     "data": {
      "text/html": [
       "\n",
       "\n",
       "\n",
       "\n",
       "\n",
       "\n",
       "  <div class=\"bk-root\" id=\"3c110224-e692-4120-8496-5d5ea5eabceb\" data-root-id=\"1003\"></div>\n"
      ]
     },
     "metadata": {},
     "output_type": "display_data"
    },
    {
     "data": {
      "application/javascript": [
       "(function(root) {\n",
       "  function embed_document(root) {\n",
       "    \n",
       "  var docs_json = {\"ea4f8d01-8f20-4eed-b138-4f5ae8069742\":{\"roots\":{\"references\":[{\"attributes\":{\"source\":{\"id\":\"1069\",\"type\":\"ColumnDataSource\"}},\"id\":\"1073\",\"type\":\"CDSView\"},{\"attributes\":{},\"id\":\"1025\",\"type\":\"ResetTool\"},{\"attributes\":{\"callback\":null,\"data\":{\"top\":[16,1,1],\"x\":[\"PA\",\"NY\",\"OH\"]},\"selected\":{\"id\":\"1091\",\"type\":\"Selection\"},\"selection_policy\":{\"id\":\"1090\",\"type\":\"UnionRenderers\"}},\"id\":\"1069\",\"type\":\"ColumnDataSource\"},{\"attributes\":{},\"id\":\"1017\",\"type\":\"BasicTicker\"},{\"attributes\":{\"plot\":{\"id\":\"1003\",\"subtype\":\"Figure\",\"type\":\"Plot\"},\"ticker\":{\"id\":\"1013\",\"type\":\"CategoricalTicker\"}},\"id\":\"1015\",\"type\":\"Grid\"},{\"attributes\":{\"data_source\":{\"id\":\"1069\",\"type\":\"ColumnDataSource\"},\"glyph\":{\"id\":\"1070\",\"type\":\"VBar\"},\"hover_glyph\":null,\"muted_glyph\":null,\"nonselection_glyph\":{\"id\":\"1071\",\"type\":\"VBar\"},\"selection_glyph\":null,\"view\":{\"id\":\"1073\",\"type\":\"CDSView\"}},\"id\":\"1072\",\"type\":\"GlyphRenderer\"},{\"attributes\":{},\"id\":\"1022\",\"type\":\"WheelZoomTool\"},{\"attributes\":{},\"id\":\"1008\",\"type\":\"CategoricalScale\"},{\"attributes\":{},\"id\":\"1026\",\"type\":\"HelpTool\"},{\"attributes\":{\"callback\":null},\"id\":\"1006\",\"type\":\"DataRange1d\"},{\"attributes\":{\"fill_alpha\":{\"value\":0.1},\"fill_color\":{\"value\":\"#1f77b4\"},\"line_alpha\":{\"value\":0.1},\"line_color\":{\"value\":\"#1f77b4\"},\"top\":{\"field\":\"top\"},\"width\":{\"value\":0.3},\"x\":{\"field\":\"x\"}},\"id\":\"1071\",\"type\":\"VBar\"},{\"attributes\":{},\"id\":\"1021\",\"type\":\"PanTool\"},{\"attributes\":{\"fill_color\":{\"value\":\"limegreen\"},\"line_color\":{\"value\":\"limegreen\"},\"top\":{\"field\":\"top\"},\"width\":{\"value\":0.3},\"x\":{\"field\":\"x\"}},\"id\":\"1070\",\"type\":\"VBar\"},{\"attributes\":{\"formatter\":{\"id\":\"1086\",\"type\":\"BasicTickFormatter\"},\"plot\":{\"id\":\"1003\",\"subtype\":\"Figure\",\"type\":\"Plot\"},\"ticker\":{\"id\":\"1017\",\"type\":\"BasicTicker\"}},\"id\":\"1016\",\"type\":\"LinearAxis\"},{\"attributes\":{\"callback\":null,\"factors\":[\"PA\",\"NY\",\"OH\"]},\"id\":\"1004\",\"type\":\"FactorRange\"},{\"attributes\":{\"bottom_units\":\"screen\",\"fill_alpha\":{\"value\":0.5},\"fill_color\":{\"value\":\"lightgrey\"},\"left_units\":\"screen\",\"level\":\"overlay\",\"line_alpha\":{\"value\":1.0},\"line_color\":{\"value\":\"black\"},\"line_dash\":[4,4],\"line_width\":{\"value\":2},\"plot\":null,\"render_mode\":\"css\",\"right_units\":\"screen\",\"top_units\":\"screen\"},\"id\":\"1029\",\"type\":\"BoxAnnotation\"},{\"attributes\":{\"background_fill_color\":{\"value\":\"honeydew\"},\"below\":[{\"id\":\"1012\",\"type\":\"CategoricalAxis\"}],\"border_fill_color\":{\"value\":\"honeydew\"},\"left\":[{\"id\":\"1016\",\"type\":\"LinearAxis\"}],\"plot_height\":300,\"plot_width\":400,\"renderers\":[{\"id\":\"1012\",\"type\":\"CategoricalAxis\"},{\"id\":\"1015\",\"type\":\"Grid\"},{\"id\":\"1016\",\"type\":\"LinearAxis\"},{\"id\":\"1020\",\"type\":\"Grid\"},{\"id\":\"1029\",\"type\":\"BoxAnnotation\"},{\"id\":\"1072\",\"type\":\"GlyphRenderer\"},{\"id\":\"1079\",\"type\":\"Legend\"}],\"right\":[{\"id\":\"1079\",\"type\":\"Legend\"}],\"title\":{\"id\":\"1083\",\"type\":\"Title\"},\"toolbar\":{\"id\":\"1027\",\"type\":\"Toolbar\"},\"x_range\":{\"id\":\"1004\",\"type\":\"FactorRange\"},\"x_scale\":{\"id\":\"1008\",\"type\":\"CategoricalScale\"},\"y_range\":{\"id\":\"1006\",\"type\":\"DataRange1d\"},\"y_scale\":{\"id\":\"1010\",\"type\":\"LinearScale\"}},\"id\":\"1003\",\"subtype\":\"Figure\",\"type\":\"Plot\"},{\"attributes\":{\"formatter\":{\"id\":\"1088\",\"type\":\"CategoricalTickFormatter\"},\"plot\":{\"id\":\"1003\",\"subtype\":\"Figure\",\"type\":\"Plot\"},\"ticker\":{\"id\":\"1013\",\"type\":\"CategoricalTicker\"}},\"id\":\"1012\",\"type\":\"CategoricalAxis\"},{\"attributes\":{},\"id\":\"1091\",\"type\":\"Selection\"},{\"attributes\":{\"overlay\":{\"id\":\"1029\",\"type\":\"BoxAnnotation\"}},\"id\":\"1023\",\"type\":\"BoxZoomTool\"},{\"attributes\":{},\"id\":\"1090\",\"type\":\"UnionRenderers\"},{\"attributes\":{\"plot\":null,\"text\":\"\"},\"id\":\"1083\",\"type\":\"Title\"},{\"attributes\":{},\"id\":\"1088\",\"type\":\"CategoricalTickFormatter\"},{\"attributes\":{},\"id\":\"1086\",\"type\":\"BasicTickFormatter\"},{\"attributes\":{},\"id\":\"1024\",\"type\":\"SaveTool\"},{\"attributes\":{\"dimension\":1,\"plot\":{\"id\":\"1003\",\"subtype\":\"Figure\",\"type\":\"Plot\"},\"ticker\":{\"id\":\"1017\",\"type\":\"BasicTicker\"}},\"id\":\"1020\",\"type\":\"Grid\"},{\"attributes\":{\"label\":{\"value\":\"Visiting first time\"},\"renderers\":[{\"id\":\"1072\",\"type\":\"GlyphRenderer\"}]},\"id\":\"1080\",\"type\":\"LegendItem\"},{\"attributes\":{\"active_drag\":\"auto\",\"active_inspect\":\"auto\",\"active_multi\":null,\"active_scroll\":\"auto\",\"active_tap\":\"auto\",\"tools\":[{\"id\":\"1021\",\"type\":\"PanTool\"},{\"id\":\"1022\",\"type\":\"WheelZoomTool\"},{\"id\":\"1023\",\"type\":\"BoxZoomTool\"},{\"id\":\"1024\",\"type\":\"SaveTool\"},{\"id\":\"1025\",\"type\":\"ResetTool\"},{\"id\":\"1026\",\"type\":\"HelpTool\"}]},\"id\":\"1027\",\"type\":\"Toolbar\"},{\"attributes\":{},\"id\":\"1010\",\"type\":\"LinearScale\"},{\"attributes\":{},\"id\":\"1013\",\"type\":\"CategoricalTicker\"},{\"attributes\":{\"items\":[{\"id\":\"1080\",\"type\":\"LegendItem\"}],\"location\":[0,-30],\"plot\":{\"id\":\"1003\",\"subtype\":\"Figure\",\"type\":\"Plot\"}},\"id\":\"1079\",\"type\":\"Legend\"}],\"root_ids\":[\"1003\"]},\"title\":\"Bokeh Application\",\"version\":\"1.0.4\"}};\n",
       "  var render_items = [{\"docid\":\"ea4f8d01-8f20-4eed-b138-4f5ae8069742\",\"roots\":{\"1003\":\"3c110224-e692-4120-8496-5d5ea5eabceb\"}}];\n",
       "  root.Bokeh.embed.embed_items_notebook(docs_json, render_items);\n",
       "\n",
       "  }\n",
       "  if (root.Bokeh !== undefined) {\n",
       "    embed_document(root);\n",
       "  } else {\n",
       "    var attempts = 0;\n",
       "    var timer = setInterval(function(root) {\n",
       "      if (root.Bokeh !== undefined) {\n",
       "        embed_document(root);\n",
       "        clearInterval(timer);\n",
       "      }\n",
       "      attempts++;\n",
       "      if (attempts > 100) {\n",
       "        console.log(\"Bokeh: ERROR: Unable to run BokehJS code because BokehJS library is missing\");\n",
       "        clearInterval(timer);\n",
       "      }\n",
       "    }, 10, root)\n",
       "  }\n",
       "})(window);"
      ],
      "application/vnd.bokehjs_exec.v0+json": ""
     },
     "metadata": {
      "application/vnd.bokehjs_exec.v0+json": {
       "id": "1003"
      }
     },
     "output_type": "display_data"
    },
    {
     "data": {
      "text/html": [
       "\n",
       "\n",
       "\n",
       "\n",
       "\n",
       "\n",
       "  <div class=\"bk-root\" id=\"5df5166a-5a60-4330-bdae-6d0bbc194a73\" data-root-id=\"1036\"></div>\n"
      ]
     },
     "metadata": {},
     "output_type": "display_data"
    },
    {
     "data": {
      "application/javascript": [
       "(function(root) {\n",
       "  function embed_document(root) {\n",
       "    \n",
       "  var docs_json = {\"e7238070-90cc-4563-9916-c31cc9c1ea05\":{\"roots\":{\"references\":[{\"attributes\":{},\"id\":\"1050\",\"type\":\"BasicTicker\"},{\"attributes\":{\"bottom_units\":\"screen\",\"fill_alpha\":{\"value\":0.5},\"fill_color\":{\"value\":\"lightgrey\"},\"left_units\":\"screen\",\"level\":\"overlay\",\"line_alpha\":{\"value\":1.0},\"line_color\":{\"value\":\"black\"},\"line_dash\":[4,4],\"line_width\":{\"value\":2},\"plot\":null,\"render_mode\":\"css\",\"right_units\":\"screen\",\"top_units\":\"screen\"},\"id\":\"1062\",\"type\":\"BoxAnnotation\"},{\"attributes\":{},\"id\":\"1059\",\"type\":\"HelpTool\"},{\"attributes\":{\"active_drag\":\"auto\",\"active_inspect\":\"auto\",\"active_multi\":null,\"active_scroll\":\"auto\",\"active_tap\":\"auto\",\"tools\":[{\"id\":\"1054\",\"type\":\"PanTool\"},{\"id\":\"1055\",\"type\":\"WheelZoomTool\"},{\"id\":\"1056\",\"type\":\"BoxZoomTool\"},{\"id\":\"1057\",\"type\":\"SaveTool\"},{\"id\":\"1058\",\"type\":\"ResetTool\"},{\"id\":\"1059\",\"type\":\"HelpTool\"}]},\"id\":\"1060\",\"type\":\"Toolbar\"},{\"attributes\":{\"source\":{\"id\":\"1074\",\"type\":\"ColumnDataSource\"}},\"id\":\"1078\",\"type\":\"CDSView\"},{\"attributes\":{\"background_fill_color\":{\"value\":\"honeydew\"},\"below\":[{\"id\":\"1045\",\"type\":\"CategoricalAxis\"}],\"border_fill_color\":{\"value\":\"honeydew\"},\"left\":[{\"id\":\"1049\",\"type\":\"LinearAxis\"}],\"plot_height\":300,\"plot_width\":400,\"renderers\":[{\"id\":\"1045\",\"type\":\"CategoricalAxis\"},{\"id\":\"1048\",\"type\":\"Grid\"},{\"id\":\"1049\",\"type\":\"LinearAxis\"},{\"id\":\"1053\",\"type\":\"Grid\"},{\"id\":\"1062\",\"type\":\"BoxAnnotation\"},{\"id\":\"1077\",\"type\":\"GlyphRenderer\"},{\"id\":\"1081\",\"type\":\"Legend\"}],\"right\":[{\"id\":\"1081\",\"type\":\"Legend\"}],\"title\":{\"id\":\"1155\",\"type\":\"Title\"},\"toolbar\":{\"id\":\"1060\",\"type\":\"Toolbar\"},\"x_range\":{\"id\":\"1037\",\"type\":\"FactorRange\"},\"x_scale\":{\"id\":\"1041\",\"type\":\"CategoricalScale\"},\"y_range\":{\"id\":\"1039\",\"type\":\"DataRange1d\"},\"y_scale\":{\"id\":\"1043\",\"type\":\"LinearScale\"}},\"id\":\"1036\",\"subtype\":\"Figure\",\"type\":\"Plot\"},{\"attributes\":{\"plot\":{\"id\":\"1036\",\"subtype\":\"Figure\",\"type\":\"Plot\"},\"ticker\":{\"id\":\"1046\",\"type\":\"CategoricalTicker\"}},\"id\":\"1048\",\"type\":\"Grid\"},{\"attributes\":{\"fill_color\":{\"value\":\"mediumslateblue\"},\"line_color\":{\"value\":\"mediumslateblue\"},\"top\":{\"field\":\"top\"},\"width\":{\"value\":0.3},\"x\":{\"field\":\"x\"}},\"id\":\"1075\",\"type\":\"VBar\"},{\"attributes\":{},\"id\":\"1041\",\"type\":\"CategoricalScale\"},{\"attributes\":{},\"id\":\"1043\",\"type\":\"LinearScale\"},{\"attributes\":{\"overlay\":{\"id\":\"1062\",\"type\":\"BoxAnnotation\"}},\"id\":\"1056\",\"type\":\"BoxZoomTool\"},{\"attributes\":{},\"id\":\"1058\",\"type\":\"ResetTool\"},{\"attributes\":{},\"id\":\"1057\",\"type\":\"SaveTool\"},{\"attributes\":{\"callback\":null},\"id\":\"1039\",\"type\":\"DataRange1d\"},{\"attributes\":{\"fill_alpha\":{\"value\":0.1},\"fill_color\":{\"value\":\"#1f77b4\"},\"line_alpha\":{\"value\":0.1},\"line_color\":{\"value\":\"#1f77b4\"},\"top\":{\"field\":\"top\"},\"width\":{\"value\":0.3},\"x\":{\"field\":\"x\"}},\"id\":\"1076\",\"type\":\"VBar\"},{\"attributes\":{},\"id\":\"1054\",\"type\":\"PanTool\"},{\"attributes\":{},\"id\":\"1046\",\"type\":\"CategoricalTicker\"},{\"attributes\":{},\"id\":\"1055\",\"type\":\"WheelZoomTool\"},{\"attributes\":{\"items\":[{\"id\":\"1082\",\"type\":\"LegendItem\"}],\"location\":[0,-30],\"plot\":{\"id\":\"1036\",\"subtype\":\"Figure\",\"type\":\"Plot\"}},\"id\":\"1081\",\"type\":\"Legend\"},{\"attributes\":{\"dimension\":1,\"plot\":{\"id\":\"1036\",\"subtype\":\"Figure\",\"type\":\"Plot\"},\"ticker\":{\"id\":\"1050\",\"type\":\"BasicTicker\"}},\"id\":\"1053\",\"type\":\"Grid\"},{\"attributes\":{\"data_source\":{\"id\":\"1074\",\"type\":\"ColumnDataSource\"},\"glyph\":{\"id\":\"1075\",\"type\":\"VBar\"},\"hover_glyph\":null,\"muted_glyph\":null,\"nonselection_glyph\":{\"id\":\"1076\",\"type\":\"VBar\"},\"selection_glyph\":null,\"view\":{\"id\":\"1078\",\"type\":\"CDSView\"}},\"id\":\"1077\",\"type\":\"GlyphRenderer\"},{\"attributes\":{},\"id\":\"1160\",\"type\":\"CategoricalTickFormatter\"},{\"attributes\":{},\"id\":\"1162\",\"type\":\"UnionRenderers\"},{\"attributes\":{\"formatter\":{\"id\":\"1160\",\"type\":\"CategoricalTickFormatter\"},\"plot\":{\"id\":\"1036\",\"subtype\":\"Figure\",\"type\":\"Plot\"},\"ticker\":{\"id\":\"1046\",\"type\":\"CategoricalTicker\"}},\"id\":\"1045\",\"type\":\"CategoricalAxis\"},{\"attributes\":{\"label\":{\"value\":\"Visiting third time\"},\"renderers\":[{\"id\":\"1077\",\"type\":\"GlyphRenderer\"}]},\"id\":\"1082\",\"type\":\"LegendItem\"},{\"attributes\":{},\"id\":\"1163\",\"type\":\"Selection\"},{\"attributes\":{\"callback\":null,\"data\":{\"top\":[20,1],\"x\":[\"PA\",\"OH\"]},\"selected\":{\"id\":\"1163\",\"type\":\"Selection\"},\"selection_policy\":{\"id\":\"1162\",\"type\":\"UnionRenderers\"}},\"id\":\"1074\",\"type\":\"ColumnDataSource\"},{\"attributes\":{\"plot\":null,\"text\":\"\"},\"id\":\"1155\",\"type\":\"Title\"},{\"attributes\":{\"formatter\":{\"id\":\"1158\",\"type\":\"BasicTickFormatter\"},\"plot\":{\"id\":\"1036\",\"subtype\":\"Figure\",\"type\":\"Plot\"},\"ticker\":{\"id\":\"1050\",\"type\":\"BasicTicker\"}},\"id\":\"1049\",\"type\":\"LinearAxis\"},{\"attributes\":{\"callback\":null,\"factors\":[\"PA\",\"OH\"]},\"id\":\"1037\",\"type\":\"FactorRange\"},{\"attributes\":{},\"id\":\"1158\",\"type\":\"BasicTickFormatter\"}],\"root_ids\":[\"1036\"]},\"title\":\"Bokeh Application\",\"version\":\"1.0.4\"}};\n",
       "  var render_items = [{\"docid\":\"e7238070-90cc-4563-9916-c31cc9c1ea05\",\"roots\":{\"1036\":\"5df5166a-5a60-4330-bdae-6d0bbc194a73\"}}];\n",
       "  root.Bokeh.embed.embed_items_notebook(docs_json, render_items);\n",
       "\n",
       "  }\n",
       "  if (root.Bokeh !== undefined) {\n",
       "    embed_document(root);\n",
       "  } else {\n",
       "    var attempts = 0;\n",
       "    var timer = setInterval(function(root) {\n",
       "      if (root.Bokeh !== undefined) {\n",
       "        embed_document(root);\n",
       "        clearInterval(timer);\n",
       "      }\n",
       "      attempts++;\n",
       "      if (attempts > 100) {\n",
       "        console.log(\"Bokeh: ERROR: Unable to run BokehJS code because BokehJS library is missing\");\n",
       "        clearInterval(timer);\n",
       "      }\n",
       "    }, 10, root)\n",
       "  }\n",
       "})(window);"
      ],
      "application/vnd.bokehjs_exec.v0+json": ""
     },
     "metadata": {
      "application/vnd.bokehjs_exec.v0+json": {
       "id": "1036"
      }
     },
     "output_type": "display_data"
    },
    {
     "name": "stdout",
     "output_type": "stream",
     "text": [
      "Insight: No major difference spotted.\n"
     ]
    }
   ],
   "source": [
    "plot_insight('State')\n",
    "print(\"Insight: No major difference spotted.\")"
   ]
  },
  {
   "cell_type": "markdown",
   "metadata": {},
   "source": [
    "Insight on city"
   ]
  },
  {
   "cell_type": "code",
   "execution_count": 19,
   "metadata": {},
   "outputs": [
    {
     "data": {
      "text/html": [
       "\n",
       "\n",
       "\n",
       "\n",
       "\n",
       "\n",
       "  <div class=\"bk-root\" id=\"560707b1-3821-4ca7-8731-0ea2b81ab6c9\" data-root-id=\"1218\"></div>\n"
      ]
     },
     "metadata": {},
     "output_type": "display_data"
    },
    {
     "data": {
      "application/javascript": [
       "(function(root) {\n",
       "  function embed_document(root) {\n",
       "    \n",
       "  var docs_json = {\"c649aa08-8a1d-4b39-99d8-d1c2161a6320\":{\"roots\":{\"references\":[{\"attributes\":{\"callback\":null,\"factors\":[\"Pittsburgh\",\"Mars\",\"Coraopolis\",\"Youngstown\",\"Ithaca\",\"Verona\"]},\"id\":\"1219\",\"type\":\"FactorRange\"},{\"attributes\":{\"formatter\":{\"id\":\"1319\",\"type\":\"BasicTickFormatter\"},\"plot\":{\"id\":\"1218\",\"subtype\":\"Figure\",\"type\":\"Plot\"},\"ticker\":{\"id\":\"1232\",\"type\":\"BasicTicker\"}},\"id\":\"1231\",\"type\":\"LinearAxis\"},{\"attributes\":{},\"id\":\"1323\",\"type\":\"UnionRenderers\"},{\"attributes\":{\"active_drag\":\"auto\",\"active_inspect\":\"auto\",\"active_multi\":null,\"active_scroll\":\"auto\",\"active_tap\":\"auto\",\"tools\":[{\"id\":\"1236\",\"type\":\"PanTool\"},{\"id\":\"1237\",\"type\":\"WheelZoomTool\"},{\"id\":\"1238\",\"type\":\"BoxZoomTool\"},{\"id\":\"1239\",\"type\":\"SaveTool\"},{\"id\":\"1240\",\"type\":\"ResetTool\"},{\"id\":\"1241\",\"type\":\"HelpTool\"}]},\"id\":\"1242\",\"type\":\"Toolbar\"},{\"attributes\":{},\"id\":\"1236\",\"type\":\"PanTool\"},{\"attributes\":{},\"id\":\"1228\",\"type\":\"CategoricalTicker\"},{\"attributes\":{\"callback\":null},\"id\":\"1221\",\"type\":\"DataRange1d\"},{\"attributes\":{\"formatter\":{\"id\":\"1321\",\"type\":\"CategoricalTickFormatter\"},\"plot\":{\"id\":\"1218\",\"subtype\":\"Figure\",\"type\":\"Plot\"},\"ticker\":{\"id\":\"1228\",\"type\":\"CategoricalTicker\"}},\"id\":\"1227\",\"type\":\"CategoricalAxis\"},{\"attributes\":{\"dimension\":1,\"plot\":{\"id\":\"1218\",\"subtype\":\"Figure\",\"type\":\"Plot\"},\"ticker\":{\"id\":\"1232\",\"type\":\"BasicTicker\"}},\"id\":\"1235\",\"type\":\"Grid\"},{\"attributes\":{},\"id\":\"1237\",\"type\":\"WheelZoomTool\"},{\"attributes\":{\"plot\":{\"id\":\"1218\",\"subtype\":\"Figure\",\"type\":\"Plot\"},\"ticker\":{\"id\":\"1228\",\"type\":\"CategoricalTicker\"}},\"id\":\"1230\",\"type\":\"Grid\"},{\"attributes\":{\"overlay\":{\"id\":\"1244\",\"type\":\"BoxAnnotation\"}},\"id\":\"1238\",\"type\":\"BoxZoomTool\"},{\"attributes\":{},\"id\":\"1240\",\"type\":\"ResetTool\"},{\"attributes\":{\"data_source\":{\"id\":\"1284\",\"type\":\"ColumnDataSource\"},\"glyph\":{\"id\":\"1285\",\"type\":\"VBar\"},\"hover_glyph\":null,\"muted_glyph\":null,\"nonselection_glyph\":{\"id\":\"1286\",\"type\":\"VBar\"},\"selection_glyph\":null,\"view\":{\"id\":\"1288\",\"type\":\"CDSView\"}},\"id\":\"1287\",\"type\":\"GlyphRenderer\"},{\"attributes\":{},\"id\":\"1241\",\"type\":\"HelpTool\"},{\"attributes\":{},\"id\":\"1319\",\"type\":\"BasicTickFormatter\"},{\"attributes\":{},\"id\":\"1324\",\"type\":\"Selection\"},{\"attributes\":{\"plot\":null,\"text\":\"\"},\"id\":\"1316\",\"type\":\"Title\"},{\"attributes\":{\"label\":{\"value\":\"Visiting first time\"},\"renderers\":[{\"id\":\"1287\",\"type\":\"GlyphRenderer\"}]},\"id\":\"1295\",\"type\":\"LegendItem\"},{\"attributes\":{\"fill_color\":{\"value\":\"limegreen\"},\"line_color\":{\"value\":\"limegreen\"},\"top\":{\"field\":\"top\"},\"width\":{\"value\":0.3},\"x\":{\"field\":\"x\"}},\"id\":\"1285\",\"type\":\"VBar\"},{\"attributes\":{\"fill_alpha\":{\"value\":0.1},\"fill_color\":{\"value\":\"#1f77b4\"},\"line_alpha\":{\"value\":0.1},\"line_color\":{\"value\":\"#1f77b4\"},\"top\":{\"field\":\"top\"},\"width\":{\"value\":0.3},\"x\":{\"field\":\"x\"}},\"id\":\"1286\",\"type\":\"VBar\"},{\"attributes\":{\"items\":[{\"id\":\"1295\",\"type\":\"LegendItem\"}],\"location\":[0,-30],\"plot\":{\"id\":\"1218\",\"subtype\":\"Figure\",\"type\":\"Plot\"}},\"id\":\"1294\",\"type\":\"Legend\"},{\"attributes\":{\"background_fill_color\":{\"value\":\"honeydew\"},\"below\":[{\"id\":\"1227\",\"type\":\"CategoricalAxis\"}],\"border_fill_color\":{\"value\":\"honeydew\"},\"left\":[{\"id\":\"1231\",\"type\":\"LinearAxis\"}],\"plot_height\":300,\"plot_width\":400,\"renderers\":[{\"id\":\"1227\",\"type\":\"CategoricalAxis\"},{\"id\":\"1230\",\"type\":\"Grid\"},{\"id\":\"1231\",\"type\":\"LinearAxis\"},{\"id\":\"1235\",\"type\":\"Grid\"},{\"id\":\"1244\",\"type\":\"BoxAnnotation\"},{\"id\":\"1287\",\"type\":\"GlyphRenderer\"},{\"id\":\"1294\",\"type\":\"Legend\"}],\"right\":[{\"id\":\"1294\",\"type\":\"Legend\"}],\"title\":{\"id\":\"1316\",\"type\":\"Title\"},\"toolbar\":{\"id\":\"1242\",\"type\":\"Toolbar\"},\"x_range\":{\"id\":\"1219\",\"type\":\"FactorRange\"},\"x_scale\":{\"id\":\"1223\",\"type\":\"CategoricalScale\"},\"y_range\":{\"id\":\"1221\",\"type\":\"DataRange1d\"},\"y_scale\":{\"id\":\"1225\",\"type\":\"LinearScale\"}},\"id\":\"1218\",\"subtype\":\"Figure\",\"type\":\"Plot\"},{\"attributes\":{},\"id\":\"1223\",\"type\":\"CategoricalScale\"},{\"attributes\":{\"bottom_units\":\"screen\",\"fill_alpha\":{\"value\":0.5},\"fill_color\":{\"value\":\"lightgrey\"},\"left_units\":\"screen\",\"level\":\"overlay\",\"line_alpha\":{\"value\":1.0},\"line_color\":{\"value\":\"black\"},\"line_dash\":[4,4],\"line_width\":{\"value\":2},\"plot\":null,\"render_mode\":\"css\",\"right_units\":\"screen\",\"top_units\":\"screen\"},\"id\":\"1244\",\"type\":\"BoxAnnotation\"},{\"attributes\":{},\"id\":\"1321\",\"type\":\"CategoricalTickFormatter\"},{\"attributes\":{\"source\":{\"id\":\"1284\",\"type\":\"ColumnDataSource\"}},\"id\":\"1288\",\"type\":\"CDSView\"},{\"attributes\":{},\"id\":\"1225\",\"type\":\"LinearScale\"},{\"attributes\":{},\"id\":\"1239\",\"type\":\"SaveTool\"},{\"attributes\":{},\"id\":\"1232\",\"type\":\"BasicTicker\"},{\"attributes\":{\"callback\":null,\"data\":{\"top\":[12,2,1,1,1,1],\"x\":[\"Pittsburgh\",\"Mars\",\"Coraopolis\",\"Youngstown\",\"Ithaca\",\"Verona\"]},\"selected\":{\"id\":\"1324\",\"type\":\"Selection\"},\"selection_policy\":{\"id\":\"1323\",\"type\":\"UnionRenderers\"}},\"id\":\"1284\",\"type\":\"ColumnDataSource\"}],\"root_ids\":[\"1218\"]},\"title\":\"Bokeh Application\",\"version\":\"1.0.4\"}};\n",
       "  var render_items = [{\"docid\":\"c649aa08-8a1d-4b39-99d8-d1c2161a6320\",\"roots\":{\"1218\":\"560707b1-3821-4ca7-8731-0ea2b81ab6c9\"}}];\n",
       "  root.Bokeh.embed.embed_items_notebook(docs_json, render_items);\n",
       "\n",
       "  }\n",
       "  if (root.Bokeh !== undefined) {\n",
       "    embed_document(root);\n",
       "  } else {\n",
       "    var attempts = 0;\n",
       "    var timer = setInterval(function(root) {\n",
       "      if (root.Bokeh !== undefined) {\n",
       "        embed_document(root);\n",
       "        clearInterval(timer);\n",
       "      }\n",
       "      attempts++;\n",
       "      if (attempts > 100) {\n",
       "        console.log(\"Bokeh: ERROR: Unable to run BokehJS code because BokehJS library is missing\");\n",
       "        clearInterval(timer);\n",
       "      }\n",
       "    }, 10, root)\n",
       "  }\n",
       "})(window);"
      ],
      "application/vnd.bokehjs_exec.v0+json": ""
     },
     "metadata": {
      "application/vnd.bokehjs_exec.v0+json": {
       "id": "1218"
      }
     },
     "output_type": "display_data"
    },
    {
     "data": {
      "text/html": [
       "\n",
       "\n",
       "\n",
       "\n",
       "\n",
       "\n",
       "  <div class=\"bk-root\" id=\"89bf5f9b-6777-45cd-9da3-f360080cc748\" data-root-id=\"1251\"></div>\n"
      ]
     },
     "metadata": {},
     "output_type": "display_data"
    },
    {
     "data": {
      "application/javascript": [
       "(function(root) {\n",
       "  function embed_document(root) {\n",
       "    \n",
       "  var docs_json = {\"52fa7848-d716-4785-abc2-8c88808524cf\":{\"roots\":{\"references\":[{\"attributes\":{\"callback\":null},\"id\":\"1254\",\"type\":\"DataRange1d\"},{\"attributes\":{\"background_fill_color\":{\"value\":\"honeydew\"},\"below\":[{\"id\":\"1260\",\"type\":\"CategoricalAxis\"}],\"border_fill_color\":{\"value\":\"honeydew\"},\"left\":[{\"id\":\"1264\",\"type\":\"LinearAxis\"}],\"plot_height\":300,\"plot_width\":400,\"renderers\":[{\"id\":\"1260\",\"type\":\"CategoricalAxis\"},{\"id\":\"1263\",\"type\":\"Grid\"},{\"id\":\"1264\",\"type\":\"LinearAxis\"},{\"id\":\"1268\",\"type\":\"Grid\"},{\"id\":\"1277\",\"type\":\"BoxAnnotation\"},{\"id\":\"1292\",\"type\":\"GlyphRenderer\"},{\"id\":\"1296\",\"type\":\"Legend\"}],\"right\":[{\"id\":\"1296\",\"type\":\"Legend\"}],\"title\":{\"id\":\"1406\",\"type\":\"Title\"},\"toolbar\":{\"id\":\"1275\",\"type\":\"Toolbar\"},\"x_range\":{\"id\":\"1252\",\"type\":\"FactorRange\"},\"x_scale\":{\"id\":\"1256\",\"type\":\"CategoricalScale\"},\"y_range\":{\"id\":\"1254\",\"type\":\"DataRange1d\"},\"y_scale\":{\"id\":\"1258\",\"type\":\"LinearScale\"}},\"id\":\"1251\",\"subtype\":\"Figure\",\"type\":\"Plot\"},{\"attributes\":{},\"id\":\"1270\",\"type\":\"WheelZoomTool\"},{\"attributes\":{\"plot\":null,\"text\":\"\"},\"id\":\"1406\",\"type\":\"Title\"},{\"attributes\":{\"items\":[{\"id\":\"1297\",\"type\":\"LegendItem\"}],\"location\":[0,-30],\"plot\":{\"id\":\"1251\",\"subtype\":\"Figure\",\"type\":\"Plot\"}},\"id\":\"1296\",\"type\":\"Legend\"},{\"attributes\":{\"formatter\":{\"id\":\"1409\",\"type\":\"BasicTickFormatter\"},\"plot\":{\"id\":\"1251\",\"subtype\":\"Figure\",\"type\":\"Plot\"},\"ticker\":{\"id\":\"1265\",\"type\":\"BasicTicker\"}},\"id\":\"1264\",\"type\":\"LinearAxis\"},{\"attributes\":{\"dimension\":1,\"plot\":{\"id\":\"1251\",\"subtype\":\"Figure\",\"type\":\"Plot\"},\"ticker\":{\"id\":\"1265\",\"type\":\"BasicTicker\"}},\"id\":\"1268\",\"type\":\"Grid\"},{\"attributes\":{\"formatter\":{\"id\":\"1411\",\"type\":\"CategoricalTickFormatter\"},\"plot\":{\"id\":\"1251\",\"subtype\":\"Figure\",\"type\":\"Plot\"},\"ticker\":{\"id\":\"1261\",\"type\":\"CategoricalTicker\"}},\"id\":\"1260\",\"type\":\"CategoricalAxis\"},{\"attributes\":{\"overlay\":{\"id\":\"1277\",\"type\":\"BoxAnnotation\"}},\"id\":\"1271\",\"type\":\"BoxZoomTool\"},{\"attributes\":{},\"id\":\"1269\",\"type\":\"PanTool\"},{\"attributes\":{\"source\":{\"id\":\"1289\",\"type\":\"ColumnDataSource\"}},\"id\":\"1293\",\"type\":\"CDSView\"},{\"attributes\":{},\"id\":\"1265\",\"type\":\"BasicTicker\"},{\"attributes\":{},\"id\":\"1258\",\"type\":\"LinearScale\"},{\"attributes\":{},\"id\":\"1414\",\"type\":\"Selection\"},{\"attributes\":{\"plot\":{\"id\":\"1251\",\"subtype\":\"Figure\",\"type\":\"Plot\"},\"ticker\":{\"id\":\"1261\",\"type\":\"CategoricalTicker\"}},\"id\":\"1263\",\"type\":\"Grid\"},{\"attributes\":{\"bottom_units\":\"screen\",\"fill_alpha\":{\"value\":0.5},\"fill_color\":{\"value\":\"lightgrey\"},\"left_units\":\"screen\",\"level\":\"overlay\",\"line_alpha\":{\"value\":1.0},\"line_color\":{\"value\":\"black\"},\"line_dash\":[4,4],\"line_width\":{\"value\":2},\"plot\":null,\"render_mode\":\"css\",\"right_units\":\"screen\",\"top_units\":\"screen\"},\"id\":\"1277\",\"type\":\"BoxAnnotation\"},{\"attributes\":{},\"id\":\"1411\",\"type\":\"CategoricalTickFormatter\"},{\"attributes\":{\"callback\":null,\"factors\":[\"Pittsburgh\",\"Glenshaw\",\"Wexford\",\"Lakewood\"]},\"id\":\"1252\",\"type\":\"FactorRange\"},{\"attributes\":{\"fill_color\":{\"value\":\"mediumslateblue\"},\"line_color\":{\"value\":\"mediumslateblue\"},\"top\":{\"field\":\"top\"},\"width\":{\"value\":0.3},\"x\":{\"field\":\"x\"}},\"id\":\"1290\",\"type\":\"VBar\"},{\"attributes\":{\"label\":{\"value\":\"Visiting third time\"},\"renderers\":[{\"id\":\"1292\",\"type\":\"GlyphRenderer\"}]},\"id\":\"1297\",\"type\":\"LegendItem\"},{\"attributes\":{},\"id\":\"1274\",\"type\":\"HelpTool\"},{\"attributes\":{},\"id\":\"1261\",\"type\":\"CategoricalTicker\"},{\"attributes\":{},\"id\":\"1272\",\"type\":\"SaveTool\"},{\"attributes\":{},\"id\":\"1256\",\"type\":\"CategoricalScale\"},{\"attributes\":{\"data_source\":{\"id\":\"1289\",\"type\":\"ColumnDataSource\"},\"glyph\":{\"id\":\"1290\",\"type\":\"VBar\"},\"hover_glyph\":null,\"muted_glyph\":null,\"nonselection_glyph\":{\"id\":\"1291\",\"type\":\"VBar\"},\"selection_glyph\":null,\"view\":{\"id\":\"1293\",\"type\":\"CDSView\"}},\"id\":\"1292\",\"type\":\"GlyphRenderer\"},{\"attributes\":{},\"id\":\"1273\",\"type\":\"ResetTool\"},{\"attributes\":{},\"id\":\"1413\",\"type\":\"UnionRenderers\"},{\"attributes\":{\"active_drag\":\"auto\",\"active_inspect\":\"auto\",\"active_multi\":null,\"active_scroll\":\"auto\",\"active_tap\":\"auto\",\"tools\":[{\"id\":\"1269\",\"type\":\"PanTool\"},{\"id\":\"1270\",\"type\":\"WheelZoomTool\"},{\"id\":\"1271\",\"type\":\"BoxZoomTool\"},{\"id\":\"1272\",\"type\":\"SaveTool\"},{\"id\":\"1273\",\"type\":\"ResetTool\"},{\"id\":\"1274\",\"type\":\"HelpTool\"}]},\"id\":\"1275\",\"type\":\"Toolbar\"},{\"attributes\":{},\"id\":\"1409\",\"type\":\"BasicTickFormatter\"},{\"attributes\":{\"fill_alpha\":{\"value\":0.1},\"fill_color\":{\"value\":\"#1f77b4\"},\"line_alpha\":{\"value\":0.1},\"line_color\":{\"value\":\"#1f77b4\"},\"top\":{\"field\":\"top\"},\"width\":{\"value\":0.3},\"x\":{\"field\":\"x\"}},\"id\":\"1291\",\"type\":\"VBar\"},{\"attributes\":{\"callback\":null,\"data\":{\"top\":[17,2,1,1],\"x\":[\"Pittsburgh\",\"Glenshaw\",\"Wexford\",\"Lakewood\"]},\"selected\":{\"id\":\"1414\",\"type\":\"Selection\"},\"selection_policy\":{\"id\":\"1413\",\"type\":\"UnionRenderers\"}},\"id\":\"1289\",\"type\":\"ColumnDataSource\"}],\"root_ids\":[\"1251\"]},\"title\":\"Bokeh Application\",\"version\":\"1.0.4\"}};\n",
       "  var render_items = [{\"docid\":\"52fa7848-d716-4785-abc2-8c88808524cf\",\"roots\":{\"1251\":\"89bf5f9b-6777-45cd-9da3-f360080cc748\"}}];\n",
       "  root.Bokeh.embed.embed_items_notebook(docs_json, render_items);\n",
       "\n",
       "  }\n",
       "  if (root.Bokeh !== undefined) {\n",
       "    embed_document(root);\n",
       "  } else {\n",
       "    var attempts = 0;\n",
       "    var timer = setInterval(function(root) {\n",
       "      if (root.Bokeh !== undefined) {\n",
       "        embed_document(root);\n",
       "        clearInterval(timer);\n",
       "      }\n",
       "      attempts++;\n",
       "      if (attempts > 100) {\n",
       "        console.log(\"Bokeh: ERROR: Unable to run BokehJS code because BokehJS library is missing\");\n",
       "        clearInterval(timer);\n",
       "      }\n",
       "    }, 10, root)\n",
       "  }\n",
       "})(window);"
      ],
      "application/vnd.bokehjs_exec.v0+json": ""
     },
     "metadata": {
      "application/vnd.bokehjs_exec.v0+json": {
       "id": "1251"
      }
     },
     "output_type": "display_data"
    },
    {
     "name": "stdout",
     "output_type": "stream",
     "text": [
      "Insight: The event is attracting people from differenct cities who are willing to attend the event for the first time!\n"
     ]
    }
   ],
   "source": [
    "plot_insight('City')\n",
    "print(\"Insight: The event is attracting people from differenct cities who are willing to attend the event for the first time!\")\n"
   ]
  },
  {
   "cell_type": "markdown",
   "metadata": {},
   "source": [
    "Insight on Gender"
   ]
  },
  {
   "cell_type": "code",
   "execution_count": 20,
   "metadata": {
    "scrolled": false
   },
   "outputs": [
    {
     "data": {
      "text/html": [
       "\n",
       "\n",
       "\n",
       "\n",
       "\n",
       "\n",
       "  <div class=\"bk-root\" id=\"c74b2cec-f92d-4af8-b5a5-8a788cb8cad2\" data-root-id=\"1469\"></div>\n"
      ]
     },
     "metadata": {},
     "output_type": "display_data"
    },
    {
     "data": {
      "application/javascript": [
       "(function(root) {\n",
       "  function embed_document(root) {\n",
       "    \n",
       "  var docs_json = {\"5cdc992d-e8a0-42a8-afd6-c8f84b55fc15\":{\"roots\":{\"references\":[{\"attributes\":{},\"id\":\"1492\",\"type\":\"HelpTool\"},{\"attributes\":{\"formatter\":{\"id\":\"1590\",\"type\":\"CategoricalTickFormatter\"},\"plot\":{\"id\":\"1469\",\"subtype\":\"Figure\",\"type\":\"Plot\"},\"ticker\":{\"id\":\"1479\",\"type\":\"CategoricalTicker\"}},\"id\":\"1478\",\"type\":\"CategoricalAxis\"},{\"attributes\":{},\"id\":\"1476\",\"type\":\"LinearScale\"},{\"attributes\":{\"source\":{\"id\":\"1535\",\"type\":\"ColumnDataSource\"}},\"id\":\"1539\",\"type\":\"CDSView\"},{\"attributes\":{},\"id\":\"1491\",\"type\":\"ResetTool\"},{\"attributes\":{},\"id\":\"1488\",\"type\":\"WheelZoomTool\"},{\"attributes\":{\"callback\":null,\"factors\":[\"Female\",\"Male\",\"Other\"]},\"id\":\"1470\",\"type\":\"FactorRange\"},{\"attributes\":{},\"id\":\"1593\",\"type\":\"Selection\"},{\"attributes\":{\"plot\":{\"id\":\"1469\",\"subtype\":\"Figure\",\"type\":\"Plot\"},\"ticker\":{\"id\":\"1479\",\"type\":\"CategoricalTicker\"}},\"id\":\"1481\",\"type\":\"Grid\"},{\"attributes\":{\"background_fill_color\":{\"value\":\"honeydew\"},\"below\":[{\"id\":\"1478\",\"type\":\"CategoricalAxis\"}],\"border_fill_color\":{\"value\":\"honeydew\"},\"left\":[{\"id\":\"1482\",\"type\":\"LinearAxis\"}],\"plot_height\":300,\"plot_width\":400,\"renderers\":[{\"id\":\"1478\",\"type\":\"CategoricalAxis\"},{\"id\":\"1481\",\"type\":\"Grid\"},{\"id\":\"1482\",\"type\":\"LinearAxis\"},{\"id\":\"1486\",\"type\":\"Grid\"},{\"id\":\"1495\",\"type\":\"BoxAnnotation\"},{\"id\":\"1538\",\"type\":\"GlyphRenderer\"},{\"id\":\"1545\",\"type\":\"Legend\"}],\"right\":[{\"id\":\"1545\",\"type\":\"Legend\"}],\"title\":{\"id\":\"1585\",\"type\":\"Title\"},\"toolbar\":{\"id\":\"1493\",\"type\":\"Toolbar\"},\"x_range\":{\"id\":\"1470\",\"type\":\"FactorRange\"},\"x_scale\":{\"id\":\"1474\",\"type\":\"CategoricalScale\"},\"y_range\":{\"id\":\"1472\",\"type\":\"DataRange1d\"},\"y_scale\":{\"id\":\"1476\",\"type\":\"LinearScale\"}},\"id\":\"1469\",\"subtype\":\"Figure\",\"type\":\"Plot\"},{\"attributes\":{\"fill_color\":{\"value\":\"limegreen\"},\"line_color\":{\"value\":\"limegreen\"},\"top\":{\"field\":\"top\"},\"width\":{\"value\":0.3},\"x\":{\"field\":\"x\"}},\"id\":\"1536\",\"type\":\"VBar\"},{\"attributes\":{\"plot\":null,\"text\":\"\"},\"id\":\"1585\",\"type\":\"Title\"},{\"attributes\":{},\"id\":\"1588\",\"type\":\"BasicTickFormatter\"},{\"attributes\":{\"label\":{\"value\":\"Visiting first time\"},\"renderers\":[{\"id\":\"1538\",\"type\":\"GlyphRenderer\"}]},\"id\":\"1546\",\"type\":\"LegendItem\"},{\"attributes\":{\"data_source\":{\"id\":\"1535\",\"type\":\"ColumnDataSource\"},\"glyph\":{\"id\":\"1536\",\"type\":\"VBar\"},\"hover_glyph\":null,\"muted_glyph\":null,\"nonselection_glyph\":{\"id\":\"1537\",\"type\":\"VBar\"},\"selection_glyph\":null,\"view\":{\"id\":\"1539\",\"type\":\"CDSView\"}},\"id\":\"1538\",\"type\":\"GlyphRenderer\"},{\"attributes\":{\"callback\":null},\"id\":\"1472\",\"type\":\"DataRange1d\"},{\"attributes\":{\"callback\":null,\"data\":{\"top\":[11,9,1],\"x\":[\"Female\",\"Male\",\"Other\"]},\"selected\":{\"id\":\"1593\",\"type\":\"Selection\"},\"selection_policy\":{\"id\":\"1592\",\"type\":\"UnionRenderers\"}},\"id\":\"1535\",\"type\":\"ColumnDataSource\"},{\"attributes\":{\"bottom_units\":\"screen\",\"fill_alpha\":{\"value\":0.5},\"fill_color\":{\"value\":\"lightgrey\"},\"left_units\":\"screen\",\"level\":\"overlay\",\"line_alpha\":{\"value\":1.0},\"line_color\":{\"value\":\"black\"},\"line_dash\":[4,4],\"line_width\":{\"value\":2},\"plot\":null,\"render_mode\":\"css\",\"right_units\":\"screen\",\"top_units\":\"screen\"},\"id\":\"1495\",\"type\":\"BoxAnnotation\"},{\"attributes\":{},\"id\":\"1474\",\"type\":\"CategoricalScale\"},{\"attributes\":{},\"id\":\"1487\",\"type\":\"PanTool\"},{\"attributes\":{\"fill_alpha\":{\"value\":0.1},\"fill_color\":{\"value\":\"#1f77b4\"},\"line_alpha\":{\"value\":0.1},\"line_color\":{\"value\":\"#1f77b4\"},\"top\":{\"field\":\"top\"},\"width\":{\"value\":0.3},\"x\":{\"field\":\"x\"}},\"id\":\"1537\",\"type\":\"VBar\"},{\"attributes\":{},\"id\":\"1483\",\"type\":\"BasicTicker\"},{\"attributes\":{\"items\":[{\"id\":\"1546\",\"type\":\"LegendItem\"}],\"location\":[0,-30],\"plot\":{\"id\":\"1469\",\"subtype\":\"Figure\",\"type\":\"Plot\"}},\"id\":\"1545\",\"type\":\"Legend\"},{\"attributes\":{},\"id\":\"1592\",\"type\":\"UnionRenderers\"},{\"attributes\":{\"active_drag\":\"auto\",\"active_inspect\":\"auto\",\"active_multi\":null,\"active_scroll\":\"auto\",\"active_tap\":\"auto\",\"tools\":[{\"id\":\"1487\",\"type\":\"PanTool\"},{\"id\":\"1488\",\"type\":\"WheelZoomTool\"},{\"id\":\"1489\",\"type\":\"BoxZoomTool\"},{\"id\":\"1490\",\"type\":\"SaveTool\"},{\"id\":\"1491\",\"type\":\"ResetTool\"},{\"id\":\"1492\",\"type\":\"HelpTool\"}]},\"id\":\"1493\",\"type\":\"Toolbar\"},{\"attributes\":{\"dimension\":1,\"plot\":{\"id\":\"1469\",\"subtype\":\"Figure\",\"type\":\"Plot\"},\"ticker\":{\"id\":\"1483\",\"type\":\"BasicTicker\"}},\"id\":\"1486\",\"type\":\"Grid\"},{\"attributes\":{},\"id\":\"1490\",\"type\":\"SaveTool\"},{\"attributes\":{},\"id\":\"1479\",\"type\":\"CategoricalTicker\"},{\"attributes\":{\"formatter\":{\"id\":\"1588\",\"type\":\"BasicTickFormatter\"},\"plot\":{\"id\":\"1469\",\"subtype\":\"Figure\",\"type\":\"Plot\"},\"ticker\":{\"id\":\"1483\",\"type\":\"BasicTicker\"}},\"id\":\"1482\",\"type\":\"LinearAxis\"},{\"attributes\":{},\"id\":\"1590\",\"type\":\"CategoricalTickFormatter\"},{\"attributes\":{\"overlay\":{\"id\":\"1495\",\"type\":\"BoxAnnotation\"}},\"id\":\"1489\",\"type\":\"BoxZoomTool\"}],\"root_ids\":[\"1469\"]},\"title\":\"Bokeh Application\",\"version\":\"1.0.4\"}};\n",
       "  var render_items = [{\"docid\":\"5cdc992d-e8a0-42a8-afd6-c8f84b55fc15\",\"roots\":{\"1469\":\"c74b2cec-f92d-4af8-b5a5-8a788cb8cad2\"}}];\n",
       "  root.Bokeh.embed.embed_items_notebook(docs_json, render_items);\n",
       "\n",
       "  }\n",
       "  if (root.Bokeh !== undefined) {\n",
       "    embed_document(root);\n",
       "  } else {\n",
       "    var attempts = 0;\n",
       "    var timer = setInterval(function(root) {\n",
       "      if (root.Bokeh !== undefined) {\n",
       "        embed_document(root);\n",
       "        clearInterval(timer);\n",
       "      }\n",
       "      attempts++;\n",
       "      if (attempts > 100) {\n",
       "        console.log(\"Bokeh: ERROR: Unable to run BokehJS code because BokehJS library is missing\");\n",
       "        clearInterval(timer);\n",
       "      }\n",
       "    }, 10, root)\n",
       "  }\n",
       "})(window);"
      ],
      "application/vnd.bokehjs_exec.v0+json": ""
     },
     "metadata": {
      "application/vnd.bokehjs_exec.v0+json": {
       "id": "1469"
      }
     },
     "output_type": "display_data"
    },
    {
     "data": {
      "text/html": [
       "\n",
       "\n",
       "\n",
       "\n",
       "\n",
       "\n",
       "  <div class=\"bk-root\" id=\"712a1ddd-78f6-4f3e-8ea6-274bb977b84c\" data-root-id=\"1502\"></div>\n"
      ]
     },
     "metadata": {},
     "output_type": "display_data"
    },
    {
     "data": {
      "application/javascript": [
       "(function(root) {\n",
       "  function embed_document(root) {\n",
       "    \n",
       "  var docs_json = {\"db1bfdcb-a498-4440-bd4c-985ce3920f23\":{\"roots\":{\"references\":[{\"attributes\":{\"plot\":null,\"text\":\"\"},\"id\":\"1693\",\"type\":\"Title\"},{\"attributes\":{},\"id\":\"1701\",\"type\":\"Selection\"},{\"attributes\":{},\"id\":\"1516\",\"type\":\"BasicTicker\"},{\"attributes\":{\"callback\":null,\"factors\":[\"Female\",\"Male\"]},\"id\":\"1503\",\"type\":\"FactorRange\"},{\"attributes\":{},\"id\":\"1700\",\"type\":\"UnionRenderers\"},{\"attributes\":{\"active_drag\":\"auto\",\"active_inspect\":\"auto\",\"active_multi\":null,\"active_scroll\":\"auto\",\"active_tap\":\"auto\",\"tools\":[{\"id\":\"1520\",\"type\":\"PanTool\"},{\"id\":\"1521\",\"type\":\"WheelZoomTool\"},{\"id\":\"1522\",\"type\":\"BoxZoomTool\"},{\"id\":\"1523\",\"type\":\"SaveTool\"},{\"id\":\"1524\",\"type\":\"ResetTool\"},{\"id\":\"1525\",\"type\":\"HelpTool\"}]},\"id\":\"1526\",\"type\":\"Toolbar\"},{\"attributes\":{},\"id\":\"1512\",\"type\":\"CategoricalTicker\"},{\"attributes\":{\"data_source\":{\"id\":\"1540\",\"type\":\"ColumnDataSource\"},\"glyph\":{\"id\":\"1541\",\"type\":\"VBar\"},\"hover_glyph\":null,\"muted_glyph\":null,\"nonselection_glyph\":{\"id\":\"1542\",\"type\":\"VBar\"},\"selection_glyph\":null,\"view\":{\"id\":\"1544\",\"type\":\"CDSView\"}},\"id\":\"1543\",\"type\":\"GlyphRenderer\"},{\"attributes\":{\"source\":{\"id\":\"1540\",\"type\":\"ColumnDataSource\"}},\"id\":\"1544\",\"type\":\"CDSView\"},{\"attributes\":{\"fill_alpha\":{\"value\":0.1},\"fill_color\":{\"value\":\"#1f77b4\"},\"line_alpha\":{\"value\":0.1},\"line_color\":{\"value\":\"#1f77b4\"},\"top\":{\"field\":\"top\"},\"width\":{\"value\":0.3},\"x\":{\"field\":\"x\"}},\"id\":\"1542\",\"type\":\"VBar\"},{\"attributes\":{},\"id\":\"1507\",\"type\":\"CategoricalScale\"},{\"attributes\":{},\"id\":\"1520\",\"type\":\"PanTool\"},{\"attributes\":{\"label\":{\"value\":\"Visiting third time\"},\"renderers\":[{\"id\":\"1543\",\"type\":\"GlyphRenderer\"}]},\"id\":\"1548\",\"type\":\"LegendItem\"},{\"attributes\":{\"callback\":null,\"data\":{\"top\":[12,10],\"x\":[\"Female\",\"Male\"]},\"selected\":{\"id\":\"1701\",\"type\":\"Selection\"},\"selection_policy\":{\"id\":\"1700\",\"type\":\"UnionRenderers\"}},\"id\":\"1540\",\"type\":\"ColumnDataSource\"},{\"attributes\":{\"items\":[{\"id\":\"1548\",\"type\":\"LegendItem\"}],\"location\":[0,-30],\"plot\":{\"id\":\"1502\",\"subtype\":\"Figure\",\"type\":\"Plot\"}},\"id\":\"1547\",\"type\":\"Legend\"},{\"attributes\":{\"fill_color\":{\"value\":\"mediumslateblue\"},\"line_color\":{\"value\":\"mediumslateblue\"},\"top\":{\"field\":\"top\"},\"width\":{\"value\":0.3},\"x\":{\"field\":\"x\"}},\"id\":\"1541\",\"type\":\"VBar\"},{\"attributes\":{},\"id\":\"1524\",\"type\":\"ResetTool\"},{\"attributes\":{\"formatter\":{\"id\":\"1698\",\"type\":\"CategoricalTickFormatter\"},\"plot\":{\"id\":\"1502\",\"subtype\":\"Figure\",\"type\":\"Plot\"},\"ticker\":{\"id\":\"1512\",\"type\":\"CategoricalTicker\"}},\"id\":\"1511\",\"type\":\"CategoricalAxis\"},{\"attributes\":{\"overlay\":{\"id\":\"1528\",\"type\":\"BoxAnnotation\"}},\"id\":\"1522\",\"type\":\"BoxZoomTool\"},{\"attributes\":{},\"id\":\"1698\",\"type\":\"CategoricalTickFormatter\"},{\"attributes\":{\"formatter\":{\"id\":\"1696\",\"type\":\"BasicTickFormatter\"},\"plot\":{\"id\":\"1502\",\"subtype\":\"Figure\",\"type\":\"Plot\"},\"ticker\":{\"id\":\"1516\",\"type\":\"BasicTicker\"}},\"id\":\"1515\",\"type\":\"LinearAxis\"},{\"attributes\":{},\"id\":\"1696\",\"type\":\"BasicTickFormatter\"},{\"attributes\":{\"background_fill_color\":{\"value\":\"honeydew\"},\"below\":[{\"id\":\"1511\",\"type\":\"CategoricalAxis\"}],\"border_fill_color\":{\"value\":\"honeydew\"},\"left\":[{\"id\":\"1515\",\"type\":\"LinearAxis\"}],\"plot_height\":300,\"plot_width\":400,\"renderers\":[{\"id\":\"1511\",\"type\":\"CategoricalAxis\"},{\"id\":\"1514\",\"type\":\"Grid\"},{\"id\":\"1515\",\"type\":\"LinearAxis\"},{\"id\":\"1519\",\"type\":\"Grid\"},{\"id\":\"1528\",\"type\":\"BoxAnnotation\"},{\"id\":\"1543\",\"type\":\"GlyphRenderer\"},{\"id\":\"1547\",\"type\":\"Legend\"}],\"right\":[{\"id\":\"1547\",\"type\":\"Legend\"}],\"title\":{\"id\":\"1693\",\"type\":\"Title\"},\"toolbar\":{\"id\":\"1526\",\"type\":\"Toolbar\"},\"x_range\":{\"id\":\"1503\",\"type\":\"FactorRange\"},\"x_scale\":{\"id\":\"1507\",\"type\":\"CategoricalScale\"},\"y_range\":{\"id\":\"1505\",\"type\":\"DataRange1d\"},\"y_scale\":{\"id\":\"1509\",\"type\":\"LinearScale\"}},\"id\":\"1502\",\"subtype\":\"Figure\",\"type\":\"Plot\"},{\"attributes\":{\"dimension\":1,\"plot\":{\"id\":\"1502\",\"subtype\":\"Figure\",\"type\":\"Plot\"},\"ticker\":{\"id\":\"1516\",\"type\":\"BasicTicker\"}},\"id\":\"1519\",\"type\":\"Grid\"},{\"attributes\":{\"bottom_units\":\"screen\",\"fill_alpha\":{\"value\":0.5},\"fill_color\":{\"value\":\"lightgrey\"},\"left_units\":\"screen\",\"level\":\"overlay\",\"line_alpha\":{\"value\":1.0},\"line_color\":{\"value\":\"black\"},\"line_dash\":[4,4],\"line_width\":{\"value\":2},\"plot\":null,\"render_mode\":\"css\",\"right_units\":\"screen\",\"top_units\":\"screen\"},\"id\":\"1528\",\"type\":\"BoxAnnotation\"},{\"attributes\":{\"plot\":{\"id\":\"1502\",\"subtype\":\"Figure\",\"type\":\"Plot\"},\"ticker\":{\"id\":\"1512\",\"type\":\"CategoricalTicker\"}},\"id\":\"1514\",\"type\":\"Grid\"},{\"attributes\":{},\"id\":\"1523\",\"type\":\"SaveTool\"},{\"attributes\":{},\"id\":\"1525\",\"type\":\"HelpTool\"},{\"attributes\":{},\"id\":\"1521\",\"type\":\"WheelZoomTool\"},{\"attributes\":{},\"id\":\"1509\",\"type\":\"LinearScale\"},{\"attributes\":{\"callback\":null},\"id\":\"1505\",\"type\":\"DataRange1d\"}],\"root_ids\":[\"1502\"]},\"title\":\"Bokeh Application\",\"version\":\"1.0.4\"}};\n",
       "  var render_items = [{\"docid\":\"db1bfdcb-a498-4440-bd4c-985ce3920f23\",\"roots\":{\"1502\":\"712a1ddd-78f6-4f3e-8ea6-274bb977b84c\"}}];\n",
       "  root.Bokeh.embed.embed_items_notebook(docs_json, render_items);\n",
       "\n",
       "  }\n",
       "  if (root.Bokeh !== undefined) {\n",
       "    embed_document(root);\n",
       "  } else {\n",
       "    var attempts = 0;\n",
       "    var timer = setInterval(function(root) {\n",
       "      if (root.Bokeh !== undefined) {\n",
       "        embed_document(root);\n",
       "        clearInterval(timer);\n",
       "      }\n",
       "      attempts++;\n",
       "      if (attempts > 100) {\n",
       "        console.log(\"Bokeh: ERROR: Unable to run BokehJS code because BokehJS library is missing\");\n",
       "        clearInterval(timer);\n",
       "      }\n",
       "    }, 10, root)\n",
       "  }\n",
       "})(window);"
      ],
      "application/vnd.bokehjs_exec.v0+json": ""
     },
     "metadata": {
      "application/vnd.bokehjs_exec.v0+json": {
       "id": "1502"
      }
     },
     "output_type": "display_data"
    },
    {
     "name": "stdout",
     "output_type": "stream",
     "text": [
      "Insight: No major differences spotted\n"
     ]
    }
   ],
   "source": [
    "plot_insight('Gender')\n",
    "print(\"Insight: No major differences spotted\")"
   ]
  },
  {
   "cell_type": "markdown",
   "metadata": {},
   "source": [
    "Insight on Race"
   ]
  },
  {
   "cell_type": "code",
   "execution_count": 21,
   "metadata": {},
   "outputs": [
    {
     "data": {
      "text/html": [
       "\n",
       "\n",
       "\n",
       "\n",
       "\n",
       "\n",
       "  <div class=\"bk-root\" id=\"cae06328-2de2-45b8-ad02-fe778ad663ae\" data-root-id=\"1756\"></div>\n"
      ]
     },
     "metadata": {},
     "output_type": "display_data"
    },
    {
     "data": {
      "application/javascript": [
       "(function(root) {\n",
       "  function embed_document(root) {\n",
       "    \n",
       "  var docs_json = {\"0bc7ff9e-1453-4189-bb5a-5da7fbc628b0\":{\"roots\":{\"references\":[{\"attributes\":{},\"id\":\"1775\",\"type\":\"WheelZoomTool\"},{\"attributes\":{\"active_drag\":\"auto\",\"active_inspect\":\"auto\",\"active_multi\":null,\"active_scroll\":\"auto\",\"active_tap\":\"auto\",\"tools\":[{\"id\":\"1774\",\"type\":\"PanTool\"},{\"id\":\"1775\",\"type\":\"WheelZoomTool\"},{\"id\":\"1776\",\"type\":\"BoxZoomTool\"},{\"id\":\"1777\",\"type\":\"SaveTool\"},{\"id\":\"1778\",\"type\":\"ResetTool\"},{\"id\":\"1779\",\"type\":\"HelpTool\"}]},\"id\":\"1780\",\"type\":\"Toolbar\"},{\"attributes\":{\"callback\":null,\"factors\":[\"Caucasian\",\"Hispanic\",\"Asian\",\"African American\"]},\"id\":\"1757\",\"type\":\"FactorRange\"},{\"attributes\":{},\"id\":\"1774\",\"type\":\"PanTool\"},{\"attributes\":{\"formatter\":{\"id\":\"1893\",\"type\":\"BasicTickFormatter\"},\"plot\":{\"id\":\"1756\",\"subtype\":\"Figure\",\"type\":\"Plot\"},\"ticker\":{\"id\":\"1770\",\"type\":\"BasicTicker\"}},\"id\":\"1769\",\"type\":\"LinearAxis\"},{\"attributes\":{\"bottom_units\":\"screen\",\"fill_alpha\":{\"value\":0.5},\"fill_color\":{\"value\":\"lightgrey\"},\"left_units\":\"screen\",\"level\":\"overlay\",\"line_alpha\":{\"value\":1.0},\"line_color\":{\"value\":\"black\"},\"line_dash\":[4,4],\"line_width\":{\"value\":2},\"plot\":null,\"render_mode\":\"css\",\"right_units\":\"screen\",\"top_units\":\"screen\"},\"id\":\"1782\",\"type\":\"BoxAnnotation\"},{\"attributes\":{\"dimension\":1,\"plot\":{\"id\":\"1756\",\"subtype\":\"Figure\",\"type\":\"Plot\"},\"ticker\":{\"id\":\"1770\",\"type\":\"BasicTicker\"}},\"id\":\"1773\",\"type\":\"Grid\"},{\"attributes\":{\"items\":[{\"id\":\"1833\",\"type\":\"LegendItem\"}],\"location\":[0,-30],\"plot\":{\"id\":\"1756\",\"subtype\":\"Figure\",\"type\":\"Plot\"}},\"id\":\"1832\",\"type\":\"Legend\"},{\"attributes\":{\"plot\":null,\"text\":\"\"},\"id\":\"1890\",\"type\":\"Title\"},{\"attributes\":{},\"id\":\"1766\",\"type\":\"CategoricalTicker\"},{\"attributes\":{\"fill_alpha\":{\"value\":0.1},\"fill_color\":{\"value\":\"#1f77b4\"},\"line_alpha\":{\"value\":0.1},\"line_color\":{\"value\":\"#1f77b4\"},\"top\":{\"field\":\"top\"},\"width\":{\"value\":0.3},\"x\":{\"field\":\"x\"}},\"id\":\"1824\",\"type\":\"VBar\"},{\"attributes\":{\"callback\":null,\"data\":{\"top\":[9,3,1,1],\"x\":[\"Caucasian\",\"Hispanic\",\"Asian\",\"African American\"]},\"selected\":{\"id\":\"1898\",\"type\":\"Selection\"},\"selection_policy\":{\"id\":\"1897\",\"type\":\"UnionRenderers\"}},\"id\":\"1822\",\"type\":\"ColumnDataSource\"},{\"attributes\":{},\"id\":\"1897\",\"type\":\"UnionRenderers\"},{\"attributes\":{\"plot\":{\"id\":\"1756\",\"subtype\":\"Figure\",\"type\":\"Plot\"},\"ticker\":{\"id\":\"1766\",\"type\":\"CategoricalTicker\"}},\"id\":\"1768\",\"type\":\"Grid\"},{\"attributes\":{},\"id\":\"1761\",\"type\":\"CategoricalScale\"},{\"attributes\":{\"formatter\":{\"id\":\"1895\",\"type\":\"CategoricalTickFormatter\"},\"plot\":{\"id\":\"1756\",\"subtype\":\"Figure\",\"type\":\"Plot\"},\"ticker\":{\"id\":\"1766\",\"type\":\"CategoricalTicker\"}},\"id\":\"1765\",\"type\":\"CategoricalAxis\"},{\"attributes\":{\"background_fill_color\":{\"value\":\"honeydew\"},\"below\":[{\"id\":\"1765\",\"type\":\"CategoricalAxis\"}],\"border_fill_color\":{\"value\":\"honeydew\"},\"left\":[{\"id\":\"1769\",\"type\":\"LinearAxis\"}],\"plot_height\":300,\"plot_width\":400,\"renderers\":[{\"id\":\"1765\",\"type\":\"CategoricalAxis\"},{\"id\":\"1768\",\"type\":\"Grid\"},{\"id\":\"1769\",\"type\":\"LinearAxis\"},{\"id\":\"1773\",\"type\":\"Grid\"},{\"id\":\"1782\",\"type\":\"BoxAnnotation\"},{\"id\":\"1825\",\"type\":\"GlyphRenderer\"},{\"id\":\"1832\",\"type\":\"Legend\"}],\"right\":[{\"id\":\"1832\",\"type\":\"Legend\"}],\"title\":{\"id\":\"1890\",\"type\":\"Title\"},\"toolbar\":{\"id\":\"1780\",\"type\":\"Toolbar\"},\"x_range\":{\"id\":\"1757\",\"type\":\"FactorRange\"},\"x_scale\":{\"id\":\"1761\",\"type\":\"CategoricalScale\"},\"y_range\":{\"id\":\"1759\",\"type\":\"DataRange1d\"},\"y_scale\":{\"id\":\"1763\",\"type\":\"LinearScale\"}},\"id\":\"1756\",\"subtype\":\"Figure\",\"type\":\"Plot\"},{\"attributes\":{\"callback\":null},\"id\":\"1759\",\"type\":\"DataRange1d\"},{\"attributes\":{},\"id\":\"1779\",\"type\":\"HelpTool\"},{\"attributes\":{\"label\":{\"value\":\"Visiting first time\"},\"renderers\":[{\"id\":\"1825\",\"type\":\"GlyphRenderer\"}]},\"id\":\"1833\",\"type\":\"LegendItem\"},{\"attributes\":{\"data_source\":{\"id\":\"1822\",\"type\":\"ColumnDataSource\"},\"glyph\":{\"id\":\"1823\",\"type\":\"VBar\"},\"hover_glyph\":null,\"muted_glyph\":null,\"nonselection_glyph\":{\"id\":\"1824\",\"type\":\"VBar\"},\"selection_glyph\":null,\"view\":{\"id\":\"1826\",\"type\":\"CDSView\"}},\"id\":\"1825\",\"type\":\"GlyphRenderer\"},{\"attributes\":{},\"id\":\"1893\",\"type\":\"BasicTickFormatter\"},{\"attributes\":{},\"id\":\"1770\",\"type\":\"BasicTicker\"},{\"attributes\":{},\"id\":\"1778\",\"type\":\"ResetTool\"},{\"attributes\":{\"fill_color\":{\"value\":\"limegreen\"},\"line_color\":{\"value\":\"limegreen\"},\"top\":{\"field\":\"top\"},\"width\":{\"value\":0.3},\"x\":{\"field\":\"x\"}},\"id\":\"1823\",\"type\":\"VBar\"},{\"attributes\":{\"overlay\":{\"id\":\"1782\",\"type\":\"BoxAnnotation\"}},\"id\":\"1776\",\"type\":\"BoxZoomTool\"},{\"attributes\":{},\"id\":\"1898\",\"type\":\"Selection\"},{\"attributes\":{},\"id\":\"1777\",\"type\":\"SaveTool\"},{\"attributes\":{\"source\":{\"id\":\"1822\",\"type\":\"ColumnDataSource\"}},\"id\":\"1826\",\"type\":\"CDSView\"},{\"attributes\":{},\"id\":\"1895\",\"type\":\"CategoricalTickFormatter\"},{\"attributes\":{},\"id\":\"1763\",\"type\":\"LinearScale\"}],\"root_ids\":[\"1756\"]},\"title\":\"Bokeh Application\",\"version\":\"1.0.4\"}};\n",
       "  var render_items = [{\"docid\":\"0bc7ff9e-1453-4189-bb5a-5da7fbc628b0\",\"roots\":{\"1756\":\"cae06328-2de2-45b8-ad02-fe778ad663ae\"}}];\n",
       "  root.Bokeh.embed.embed_items_notebook(docs_json, render_items);\n",
       "\n",
       "  }\n",
       "  if (root.Bokeh !== undefined) {\n",
       "    embed_document(root);\n",
       "  } else {\n",
       "    var attempts = 0;\n",
       "    var timer = setInterval(function(root) {\n",
       "      if (root.Bokeh !== undefined) {\n",
       "        embed_document(root);\n",
       "        clearInterval(timer);\n",
       "      }\n",
       "      attempts++;\n",
       "      if (attempts > 100) {\n",
       "        console.log(\"Bokeh: ERROR: Unable to run BokehJS code because BokehJS library is missing\");\n",
       "        clearInterval(timer);\n",
       "      }\n",
       "    }, 10, root)\n",
       "  }\n",
       "})(window);"
      ],
      "application/vnd.bokehjs_exec.v0+json": ""
     },
     "metadata": {
      "application/vnd.bokehjs_exec.v0+json": {
       "id": "1756"
      }
     },
     "output_type": "display_data"
    },
    {
     "data": {
      "text/html": [
       "\n",
       "\n",
       "\n",
       "\n",
       "\n",
       "\n",
       "  <div class=\"bk-root\" id=\"16e3549b-40ea-430c-a05c-458b970326a5\" data-root-id=\"1789\"></div>\n"
      ]
     },
     "metadata": {},
     "output_type": "display_data"
    },
    {
     "data": {
      "application/javascript": [
       "(function(root) {\n",
       "  function embed_document(root) {\n",
       "    \n",
       "  var docs_json = {\"625d7a06-c772-483a-a9e6-966495713e2c\":{\"roots\":{\"references\":[{\"attributes\":{\"bottom_units\":\"screen\",\"fill_alpha\":{\"value\":0.5},\"fill_color\":{\"value\":\"lightgrey\"},\"left_units\":\"screen\",\"level\":\"overlay\",\"line_alpha\":{\"value\":1.0},\"line_color\":{\"value\":\"black\"},\"line_dash\":[4,4],\"line_width\":{\"value\":2},\"plot\":null,\"render_mode\":\"css\",\"right_units\":\"screen\",\"top_units\":\"screen\"},\"id\":\"1815\",\"type\":\"BoxAnnotation\"},{\"attributes\":{\"items\":[{\"id\":\"1835\",\"type\":\"LegendItem\"}],\"location\":[0,-30],\"plot\":{\"id\":\"1789\",\"subtype\":\"Figure\",\"type\":\"Plot\"}},\"id\":\"1834\",\"type\":\"Legend\"},{\"attributes\":{},\"id\":\"2024\",\"type\":\"Selection\"},{\"attributes\":{\"data_source\":{\"id\":\"1827\",\"type\":\"ColumnDataSource\"},\"glyph\":{\"id\":\"1828\",\"type\":\"VBar\"},\"hover_glyph\":null,\"muted_glyph\":null,\"nonselection_glyph\":{\"id\":\"1829\",\"type\":\"VBar\"},\"selection_glyph\":null,\"view\":{\"id\":\"1831\",\"type\":\"CDSView\"}},\"id\":\"1830\",\"type\":\"GlyphRenderer\"},{\"attributes\":{\"overlay\":{\"id\":\"1815\",\"type\":\"BoxAnnotation\"}},\"id\":\"1809\",\"type\":\"BoxZoomTool\"},{\"attributes\":{},\"id\":\"1794\",\"type\":\"CategoricalScale\"},{\"attributes\":{\"label\":{\"value\":\"Visiting third time\"},\"renderers\":[{\"id\":\"1830\",\"type\":\"GlyphRenderer\"}]},\"id\":\"1835\",\"type\":\"LegendItem\"},{\"attributes\":{},\"id\":\"1803\",\"type\":\"BasicTicker\"},{\"attributes\":{},\"id\":\"1810\",\"type\":\"SaveTool\"},{\"attributes\":{\"plot\":null,\"text\":\"\"},\"id\":\"2016\",\"type\":\"Title\"},{\"attributes\":{},\"id\":\"2021\",\"type\":\"CategoricalTickFormatter\"},{\"attributes\":{},\"id\":\"1799\",\"type\":\"CategoricalTicker\"},{\"attributes\":{},\"id\":\"2023\",\"type\":\"UnionRenderers\"},{\"attributes\":{\"callback\":null,\"data\":{\"top\":[6,1,1,1],\"x\":[\"Caucasian\",\"Irish Italian\",\"African American\",\"Hispanic\"]},\"selected\":{\"id\":\"2024\",\"type\":\"Selection\"},\"selection_policy\":{\"id\":\"2023\",\"type\":\"UnionRenderers\"}},\"id\":\"1827\",\"type\":\"ColumnDataSource\"},{\"attributes\":{\"plot\":{\"id\":\"1789\",\"subtype\":\"Figure\",\"type\":\"Plot\"},\"ticker\":{\"id\":\"1799\",\"type\":\"CategoricalTicker\"}},\"id\":\"1801\",\"type\":\"Grid\"},{\"attributes\":{\"background_fill_color\":{\"value\":\"honeydew\"},\"below\":[{\"id\":\"1798\",\"type\":\"CategoricalAxis\"}],\"border_fill_color\":{\"value\":\"honeydew\"},\"left\":[{\"id\":\"1802\",\"type\":\"LinearAxis\"}],\"plot_height\":300,\"plot_width\":400,\"renderers\":[{\"id\":\"1798\",\"type\":\"CategoricalAxis\"},{\"id\":\"1801\",\"type\":\"Grid\"},{\"id\":\"1802\",\"type\":\"LinearAxis\"},{\"id\":\"1806\",\"type\":\"Grid\"},{\"id\":\"1815\",\"type\":\"BoxAnnotation\"},{\"id\":\"1830\",\"type\":\"GlyphRenderer\"},{\"id\":\"1834\",\"type\":\"Legend\"}],\"right\":[{\"id\":\"1834\",\"type\":\"Legend\"}],\"title\":{\"id\":\"2016\",\"type\":\"Title\"},\"toolbar\":{\"id\":\"1813\",\"type\":\"Toolbar\"},\"x_range\":{\"id\":\"1790\",\"type\":\"FactorRange\"},\"x_scale\":{\"id\":\"1794\",\"type\":\"CategoricalScale\"},\"y_range\":{\"id\":\"1792\",\"type\":\"DataRange1d\"},\"y_scale\":{\"id\":\"1796\",\"type\":\"LinearScale\"}},\"id\":\"1789\",\"subtype\":\"Figure\",\"type\":\"Plot\"},{\"attributes\":{},\"id\":\"1807\",\"type\":\"PanTool\"},{\"attributes\":{},\"id\":\"1796\",\"type\":\"LinearScale\"},{\"attributes\":{\"dimension\":1,\"plot\":{\"id\":\"1789\",\"subtype\":\"Figure\",\"type\":\"Plot\"},\"ticker\":{\"id\":\"1803\",\"type\":\"BasicTicker\"}},\"id\":\"1806\",\"type\":\"Grid\"},{\"attributes\":{},\"id\":\"2019\",\"type\":\"BasicTickFormatter\"},{\"attributes\":{\"formatter\":{\"id\":\"2021\",\"type\":\"CategoricalTickFormatter\"},\"plot\":{\"id\":\"1789\",\"subtype\":\"Figure\",\"type\":\"Plot\"},\"ticker\":{\"id\":\"1799\",\"type\":\"CategoricalTicker\"}},\"id\":\"1798\",\"type\":\"CategoricalAxis\"},{\"attributes\":{\"active_drag\":\"auto\",\"active_inspect\":\"auto\",\"active_multi\":null,\"active_scroll\":\"auto\",\"active_tap\":\"auto\",\"tools\":[{\"id\":\"1807\",\"type\":\"PanTool\"},{\"id\":\"1808\",\"type\":\"WheelZoomTool\"},{\"id\":\"1809\",\"type\":\"BoxZoomTool\"},{\"id\":\"1810\",\"type\":\"SaveTool\"},{\"id\":\"1811\",\"type\":\"ResetTool\"},{\"id\":\"1812\",\"type\":\"HelpTool\"}]},\"id\":\"1813\",\"type\":\"Toolbar\"},{\"attributes\":{},\"id\":\"1811\",\"type\":\"ResetTool\"},{\"attributes\":{\"source\":{\"id\":\"1827\",\"type\":\"ColumnDataSource\"}},\"id\":\"1831\",\"type\":\"CDSView\"},{\"attributes\":{\"fill_alpha\":{\"value\":0.1},\"fill_color\":{\"value\":\"#1f77b4\"},\"line_alpha\":{\"value\":0.1},\"line_color\":{\"value\":\"#1f77b4\"},\"top\":{\"field\":\"top\"},\"width\":{\"value\":0.3},\"x\":{\"field\":\"x\"}},\"id\":\"1829\",\"type\":\"VBar\"},{\"attributes\":{},\"id\":\"1812\",\"type\":\"HelpTool\"},{\"attributes\":{\"callback\":null,\"factors\":[\"Caucasian\",\"Irish Italian\",\"African American\",\"Hispanic\"]},\"id\":\"1790\",\"type\":\"FactorRange\"},{\"attributes\":{\"formatter\":{\"id\":\"2019\",\"type\":\"BasicTickFormatter\"},\"plot\":{\"id\":\"1789\",\"subtype\":\"Figure\",\"type\":\"Plot\"},\"ticker\":{\"id\":\"1803\",\"type\":\"BasicTicker\"}},\"id\":\"1802\",\"type\":\"LinearAxis\"},{\"attributes\":{\"fill_color\":{\"value\":\"mediumslateblue\"},\"line_color\":{\"value\":\"mediumslateblue\"},\"top\":{\"field\":\"top\"},\"width\":{\"value\":0.3},\"x\":{\"field\":\"x\"}},\"id\":\"1828\",\"type\":\"VBar\"},{\"attributes\":{},\"id\":\"1808\",\"type\":\"WheelZoomTool\"},{\"attributes\":{\"callback\":null},\"id\":\"1792\",\"type\":\"DataRange1d\"}],\"root_ids\":[\"1789\"]},\"title\":\"Bokeh Application\",\"version\":\"1.0.4\"}};\n",
       "  var render_items = [{\"docid\":\"625d7a06-c772-483a-a9e6-966495713e2c\",\"roots\":{\"1789\":\"16e3549b-40ea-430c-a05c-458b970326a5\"}}];\n",
       "  root.Bokeh.embed.embed_items_notebook(docs_json, render_items);\n",
       "\n",
       "  }\n",
       "  if (root.Bokeh !== undefined) {\n",
       "    embed_document(root);\n",
       "  } else {\n",
       "    var attempts = 0;\n",
       "    var timer = setInterval(function(root) {\n",
       "      if (root.Bokeh !== undefined) {\n",
       "        embed_document(root);\n",
       "        clearInterval(timer);\n",
       "      }\n",
       "      attempts++;\n",
       "      if (attempts > 100) {\n",
       "        console.log(\"Bokeh: ERROR: Unable to run BokehJS code because BokehJS library is missing\");\n",
       "        clearInterval(timer);\n",
       "      }\n",
       "    }, 10, root)\n",
       "  }\n",
       "})(window);"
      ],
      "application/vnd.bokehjs_exec.v0+json": ""
     },
     "metadata": {
      "application/vnd.bokehjs_exec.v0+json": {
       "id": "1789"
      }
     },
     "output_type": "display_data"
    },
    {
     "name": "stdout",
     "output_type": "stream",
     "text": [
      "Insight: Caucasian, Hispanic and African American are present in both of the groups! While Asians are showing interest to become the part of the event for the first time.\n"
     ]
    }
   ],
   "source": [
    "plot_insight('Race')\n",
    "print('Insight: Caucasian, Hispanic and African American are present in both of the groups! While Asians are showing interest to become the part of the event for the first time.')"
   ]
  },
  {
   "cell_type": "markdown",
   "metadata": {},
   "source": [
    "Thoughts about whether they want to attend in future"
   ]
  },
  {
   "cell_type": "code",
   "execution_count": 22,
   "metadata": {},
   "outputs": [
    {
     "data": {
      "text/html": [
       "\n",
       "\n",
       "\n",
       "\n",
       "\n",
       "\n",
       "  <div class=\"bk-root\" id=\"5d7abe68-4208-42cb-b7b2-76e5e07410d5\" data-root-id=\"2079\"></div>\n"
      ]
     },
     "metadata": {},
     "output_type": "display_data"
    },
    {
     "data": {
      "application/javascript": [
       "(function(root) {\n",
       "  function embed_document(root) {\n",
       "    \n",
       "  var docs_json = {\"bb57ccf4-2a50-4d5a-a62f-0d0263010605\":{\"roots\":{\"references\":[{\"attributes\":{\"bottom_units\":\"screen\",\"fill_alpha\":{\"value\":0.5},\"fill_color\":{\"value\":\"lightgrey\"},\"left_units\":\"screen\",\"level\":\"overlay\",\"line_alpha\":{\"value\":1.0},\"line_color\":{\"value\":\"black\"},\"line_dash\":[4,4],\"line_width\":{\"value\":2},\"plot\":null,\"render_mode\":\"css\",\"right_units\":\"screen\",\"top_units\":\"screen\"},\"id\":\"2105\",\"type\":\"BoxAnnotation\"},{\"attributes\":{\"callback\":null,\"data\":{\"top\":[16,4,1],\"x\":[\"Yes, definitely\",\"will likely attend\",\"Maybe\"]},\"selected\":{\"id\":\"2239\",\"type\":\"Selection\"},\"selection_policy\":{\"id\":\"2238\",\"type\":\"UnionRenderers\"}},\"id\":\"2145\",\"type\":\"ColumnDataSource\"},{\"attributes\":{},\"id\":\"2234\",\"type\":\"BasicTickFormatter\"},{\"attributes\":{},\"id\":\"2102\",\"type\":\"HelpTool\"},{\"attributes\":{\"formatter\":{\"id\":\"2236\",\"type\":\"CategoricalTickFormatter\"},\"plot\":{\"id\":\"2079\",\"subtype\":\"Figure\",\"type\":\"Plot\"},\"ticker\":{\"id\":\"2089\",\"type\":\"CategoricalTicker\"}},\"id\":\"2088\",\"type\":\"CategoricalAxis\"},{\"attributes\":{},\"id\":\"2236\",\"type\":\"CategoricalTickFormatter\"},{\"attributes\":{\"formatter\":{\"id\":\"2234\",\"type\":\"BasicTickFormatter\"},\"plot\":{\"id\":\"2079\",\"subtype\":\"Figure\",\"type\":\"Plot\"},\"ticker\":{\"id\":\"2093\",\"type\":\"BasicTicker\"}},\"id\":\"2092\",\"type\":\"LinearAxis\"},{\"attributes\":{\"source\":{\"id\":\"2145\",\"type\":\"ColumnDataSource\"}},\"id\":\"2149\",\"type\":\"CDSView\"},{\"attributes\":{},\"id\":\"2238\",\"type\":\"UnionRenderers\"},{\"attributes\":{},\"id\":\"2101\",\"type\":\"ResetTool\"},{\"attributes\":{\"plot\":{\"id\":\"2079\",\"subtype\":\"Figure\",\"type\":\"Plot\"},\"ticker\":{\"id\":\"2089\",\"type\":\"CategoricalTicker\"}},\"id\":\"2091\",\"type\":\"Grid\"},{\"attributes\":{},\"id\":\"2089\",\"type\":\"CategoricalTicker\"},{\"attributes\":{},\"id\":\"2239\",\"type\":\"Selection\"},{\"attributes\":{\"active_drag\":\"auto\",\"active_inspect\":\"auto\",\"active_multi\":null,\"active_scroll\":\"auto\",\"active_tap\":\"auto\",\"tools\":[{\"id\":\"2097\",\"type\":\"PanTool\"},{\"id\":\"2098\",\"type\":\"WheelZoomTool\"},{\"id\":\"2099\",\"type\":\"BoxZoomTool\"},{\"id\":\"2100\",\"type\":\"SaveTool\"},{\"id\":\"2101\",\"type\":\"ResetTool\"},{\"id\":\"2102\",\"type\":\"HelpTool\"}]},\"id\":\"2103\",\"type\":\"Toolbar\"},{\"attributes\":{\"overlay\":{\"id\":\"2105\",\"type\":\"BoxAnnotation\"}},\"id\":\"2099\",\"type\":\"BoxZoomTool\"},{\"attributes\":{\"plot\":null,\"text\":\"\"},\"id\":\"2231\",\"type\":\"Title\"},{\"attributes\":{\"items\":[{\"id\":\"2156\",\"type\":\"LegendItem\"}],\"location\":[0,-30],\"plot\":{\"id\":\"2079\",\"subtype\":\"Figure\",\"type\":\"Plot\"}},\"id\":\"2155\",\"type\":\"Legend\"},{\"attributes\":{},\"id\":\"2097\",\"type\":\"PanTool\"},{\"attributes\":{},\"id\":\"2084\",\"type\":\"CategoricalScale\"},{\"attributes\":{\"label\":{\"value\":\"Visiting first time\"},\"renderers\":[{\"id\":\"2148\",\"type\":\"GlyphRenderer\"}]},\"id\":\"2156\",\"type\":\"LegendItem\"},{\"attributes\":{},\"id\":\"2100\",\"type\":\"SaveTool\"},{\"attributes\":{},\"id\":\"2093\",\"type\":\"BasicTicker\"},{\"attributes\":{\"callback\":null,\"factors\":[\"Yes, definitely\",\"will likely attend\",\"Maybe\"]},\"id\":\"2080\",\"type\":\"FactorRange\"},{\"attributes\":{\"dimension\":1,\"plot\":{\"id\":\"2079\",\"subtype\":\"Figure\",\"type\":\"Plot\"},\"ticker\":{\"id\":\"2093\",\"type\":\"BasicTicker\"}},\"id\":\"2096\",\"type\":\"Grid\"},{\"attributes\":{\"data_source\":{\"id\":\"2145\",\"type\":\"ColumnDataSource\"},\"glyph\":{\"id\":\"2146\",\"type\":\"VBar\"},\"hover_glyph\":null,\"muted_glyph\":null,\"nonselection_glyph\":{\"id\":\"2147\",\"type\":\"VBar\"},\"selection_glyph\":null,\"view\":{\"id\":\"2149\",\"type\":\"CDSView\"}},\"id\":\"2148\",\"type\":\"GlyphRenderer\"},{\"attributes\":{\"fill_alpha\":{\"value\":0.1},\"fill_color\":{\"value\":\"#1f77b4\"},\"line_alpha\":{\"value\":0.1},\"line_color\":{\"value\":\"#1f77b4\"},\"top\":{\"field\":\"top\"},\"width\":{\"value\":0.3},\"x\":{\"field\":\"x\"}},\"id\":\"2147\",\"type\":\"VBar\"},{\"attributes\":{\"background_fill_color\":{\"value\":\"honeydew\"},\"below\":[{\"id\":\"2088\",\"type\":\"CategoricalAxis\"}],\"border_fill_color\":{\"value\":\"honeydew\"},\"left\":[{\"id\":\"2092\",\"type\":\"LinearAxis\"}],\"plot_height\":300,\"plot_width\":400,\"renderers\":[{\"id\":\"2088\",\"type\":\"CategoricalAxis\"},{\"id\":\"2091\",\"type\":\"Grid\"},{\"id\":\"2092\",\"type\":\"LinearAxis\"},{\"id\":\"2096\",\"type\":\"Grid\"},{\"id\":\"2105\",\"type\":\"BoxAnnotation\"},{\"id\":\"2148\",\"type\":\"GlyphRenderer\"},{\"id\":\"2155\",\"type\":\"Legend\"}],\"right\":[{\"id\":\"2155\",\"type\":\"Legend\"}],\"title\":{\"id\":\"2231\",\"type\":\"Title\"},\"toolbar\":{\"id\":\"2103\",\"type\":\"Toolbar\"},\"x_range\":{\"id\":\"2080\",\"type\":\"FactorRange\"},\"x_scale\":{\"id\":\"2084\",\"type\":\"CategoricalScale\"},\"y_range\":{\"id\":\"2082\",\"type\":\"DataRange1d\"},\"y_scale\":{\"id\":\"2086\",\"type\":\"LinearScale\"}},\"id\":\"2079\",\"subtype\":\"Figure\",\"type\":\"Plot\"},{\"attributes\":{\"callback\":null},\"id\":\"2082\",\"type\":\"DataRange1d\"},{\"attributes\":{},\"id\":\"2086\",\"type\":\"LinearScale\"},{\"attributes\":{\"fill_color\":{\"value\":\"limegreen\"},\"line_color\":{\"value\":\"limegreen\"},\"top\":{\"field\":\"top\"},\"width\":{\"value\":0.3},\"x\":{\"field\":\"x\"}},\"id\":\"2146\",\"type\":\"VBar\"},{\"attributes\":{},\"id\":\"2098\",\"type\":\"WheelZoomTool\"}],\"root_ids\":[\"2079\"]},\"title\":\"Bokeh Application\",\"version\":\"1.0.4\"}};\n",
       "  var render_items = [{\"docid\":\"bb57ccf4-2a50-4d5a-a62f-0d0263010605\",\"roots\":{\"2079\":\"5d7abe68-4208-42cb-b7b2-76e5e07410d5\"}}];\n",
       "  root.Bokeh.embed.embed_items_notebook(docs_json, render_items);\n",
       "\n",
       "  }\n",
       "  if (root.Bokeh !== undefined) {\n",
       "    embed_document(root);\n",
       "  } else {\n",
       "    var attempts = 0;\n",
       "    var timer = setInterval(function(root) {\n",
       "      if (root.Bokeh !== undefined) {\n",
       "        embed_document(root);\n",
       "        clearInterval(timer);\n",
       "      }\n",
       "      attempts++;\n",
       "      if (attempts > 100) {\n",
       "        console.log(\"Bokeh: ERROR: Unable to run BokehJS code because BokehJS library is missing\");\n",
       "        clearInterval(timer);\n",
       "      }\n",
       "    }, 10, root)\n",
       "  }\n",
       "})(window);"
      ],
      "application/vnd.bokehjs_exec.v0+json": ""
     },
     "metadata": {
      "application/vnd.bokehjs_exec.v0+json": {
       "id": "2079"
      }
     },
     "output_type": "display_data"
    },
    {
     "data": {
      "text/html": [
       "\n",
       "\n",
       "\n",
       "\n",
       "\n",
       "\n",
       "  <div class=\"bk-root\" id=\"d03a4ec0-eee0-4d69-8359-9d71c6aacfd5\" data-root-id=\"2112\"></div>\n"
      ]
     },
     "metadata": {},
     "output_type": "display_data"
    },
    {
     "data": {
      "application/javascript": [
       "(function(root) {\n",
       "  function embed_document(root) {\n",
       "    \n",
       "  var docs_json = {\"adc0ed5b-11a9-47dd-a66a-0f8a3b90d70e\":{\"roots\":{\"references\":[{\"attributes\":{\"bottom_units\":\"screen\",\"fill_alpha\":{\"value\":0.5},\"fill_color\":{\"value\":\"lightgrey\"},\"left_units\":\"screen\",\"level\":\"overlay\",\"line_alpha\":{\"value\":1.0},\"line_color\":{\"value\":\"black\"},\"line_dash\":[4,4],\"line_width\":{\"value\":2},\"plot\":null,\"render_mode\":\"css\",\"right_units\":\"screen\",\"top_units\":\"screen\"},\"id\":\"2138\",\"type\":\"BoxAnnotation\"},{\"attributes\":{\"fill_color\":{\"value\":\"mediumslateblue\"},\"line_color\":{\"value\":\"mediumslateblue\"},\"top\":{\"field\":\"top\"},\"width\":{\"value\":0.3},\"x\":{\"field\":\"x\"}},\"id\":\"2151\",\"type\":\"VBar\"},{\"attributes\":{},\"id\":\"2133\",\"type\":\"SaveTool\"},{\"attributes\":{},\"id\":\"2134\",\"type\":\"ResetTool\"},{\"attributes\":{\"active_drag\":\"auto\",\"active_inspect\":\"auto\",\"active_multi\":null,\"active_scroll\":\"auto\",\"active_tap\":\"auto\",\"tools\":[{\"id\":\"2130\",\"type\":\"PanTool\"},{\"id\":\"2131\",\"type\":\"WheelZoomTool\"},{\"id\":\"2132\",\"type\":\"BoxZoomTool\"},{\"id\":\"2133\",\"type\":\"SaveTool\"},{\"id\":\"2134\",\"type\":\"ResetTool\"},{\"id\":\"2135\",\"type\":\"HelpTool\"}]},\"id\":\"2136\",\"type\":\"Toolbar\"},{\"attributes\":{\"callback\":null,\"data\":{\"top\":[22],\"x\":[\"Yes, definitely\"]},\"selected\":{\"id\":\"2383\",\"type\":\"Selection\"},\"selection_policy\":{\"id\":\"2382\",\"type\":\"UnionRenderers\"}},\"id\":\"2150\",\"type\":\"ColumnDataSource\"},{\"attributes\":{\"data_source\":{\"id\":\"2150\",\"type\":\"ColumnDataSource\"},\"glyph\":{\"id\":\"2151\",\"type\":\"VBar\"},\"hover_glyph\":null,\"muted_glyph\":null,\"nonselection_glyph\":{\"id\":\"2152\",\"type\":\"VBar\"},\"selection_glyph\":null,\"view\":{\"id\":\"2154\",\"type\":\"CDSView\"}},\"id\":\"2153\",\"type\":\"GlyphRenderer\"},{\"attributes\":{\"label\":{\"value\":\"Visiting third time\"},\"renderers\":[{\"id\":\"2153\",\"type\":\"GlyphRenderer\"}]},\"id\":\"2158\",\"type\":\"LegendItem\"},{\"attributes\":{},\"id\":\"2135\",\"type\":\"HelpTool\"},{\"attributes\":{},\"id\":\"2131\",\"type\":\"WheelZoomTool\"},{\"attributes\":{},\"id\":\"2380\",\"type\":\"CategoricalTickFormatter\"},{\"attributes\":{},\"id\":\"2117\",\"type\":\"CategoricalScale\"},{\"attributes\":{\"plot\":{\"id\":\"2112\",\"subtype\":\"Figure\",\"type\":\"Plot\"},\"ticker\":{\"id\":\"2122\",\"type\":\"CategoricalTicker\"}},\"id\":\"2124\",\"type\":\"Grid\"},{\"attributes\":{\"background_fill_color\":{\"value\":\"honeydew\"},\"below\":[{\"id\":\"2121\",\"type\":\"CategoricalAxis\"}],\"border_fill_color\":{\"value\":\"honeydew\"},\"left\":[{\"id\":\"2125\",\"type\":\"LinearAxis\"}],\"plot_height\":300,\"plot_width\":400,\"renderers\":[{\"id\":\"2121\",\"type\":\"CategoricalAxis\"},{\"id\":\"2124\",\"type\":\"Grid\"},{\"id\":\"2125\",\"type\":\"LinearAxis\"},{\"id\":\"2129\",\"type\":\"Grid\"},{\"id\":\"2138\",\"type\":\"BoxAnnotation\"},{\"id\":\"2153\",\"type\":\"GlyphRenderer\"},{\"id\":\"2157\",\"type\":\"Legend\"}],\"right\":[{\"id\":\"2157\",\"type\":\"Legend\"}],\"title\":{\"id\":\"2375\",\"type\":\"Title\"},\"toolbar\":{\"id\":\"2136\",\"type\":\"Toolbar\"},\"x_range\":{\"id\":\"2113\",\"type\":\"FactorRange\"},\"x_scale\":{\"id\":\"2117\",\"type\":\"CategoricalScale\"},\"y_range\":{\"id\":\"2115\",\"type\":\"DataRange1d\"},\"y_scale\":{\"id\":\"2119\",\"type\":\"LinearScale\"}},\"id\":\"2112\",\"subtype\":\"Figure\",\"type\":\"Plot\"},{\"attributes\":{},\"id\":\"2122\",\"type\":\"CategoricalTicker\"},{\"attributes\":{},\"id\":\"2126\",\"type\":\"BasicTicker\"},{\"attributes\":{},\"id\":\"2382\",\"type\":\"UnionRenderers\"},{\"attributes\":{\"dimension\":1,\"plot\":{\"id\":\"2112\",\"subtype\":\"Figure\",\"type\":\"Plot\"},\"ticker\":{\"id\":\"2126\",\"type\":\"BasicTicker\"}},\"id\":\"2129\",\"type\":\"Grid\"},{\"attributes\":{\"items\":[{\"id\":\"2158\",\"type\":\"LegendItem\"}],\"location\":[0,-30],\"plot\":{\"id\":\"2112\",\"subtype\":\"Figure\",\"type\":\"Plot\"}},\"id\":\"2157\",\"type\":\"Legend\"},{\"attributes\":{\"plot\":null,\"text\":\"\"},\"id\":\"2375\",\"type\":\"Title\"},{\"attributes\":{\"callback\":null,\"factors\":[\"Yes, definitely\"]},\"id\":\"2113\",\"type\":\"FactorRange\"},{\"attributes\":{\"fill_alpha\":{\"value\":0.1},\"fill_color\":{\"value\":\"#1f77b4\"},\"line_alpha\":{\"value\":0.1},\"line_color\":{\"value\":\"#1f77b4\"},\"top\":{\"field\":\"top\"},\"width\":{\"value\":0.3},\"x\":{\"field\":\"x\"}},\"id\":\"2152\",\"type\":\"VBar\"},{\"attributes\":{\"overlay\":{\"id\":\"2138\",\"type\":\"BoxAnnotation\"}},\"id\":\"2132\",\"type\":\"BoxZoomTool\"},{\"attributes\":{},\"id\":\"2383\",\"type\":\"Selection\"},{\"attributes\":{},\"id\":\"2119\",\"type\":\"LinearScale\"},{\"attributes\":{\"formatter\":{\"id\":\"2378\",\"type\":\"BasicTickFormatter\"},\"plot\":{\"id\":\"2112\",\"subtype\":\"Figure\",\"type\":\"Plot\"},\"ticker\":{\"id\":\"2126\",\"type\":\"BasicTicker\"}},\"id\":\"2125\",\"type\":\"LinearAxis\"},{\"attributes\":{\"formatter\":{\"id\":\"2380\",\"type\":\"CategoricalTickFormatter\"},\"plot\":{\"id\":\"2112\",\"subtype\":\"Figure\",\"type\":\"Plot\"},\"ticker\":{\"id\":\"2122\",\"type\":\"CategoricalTicker\"}},\"id\":\"2121\",\"type\":\"CategoricalAxis\"},{\"attributes\":{\"callback\":null},\"id\":\"2115\",\"type\":\"DataRange1d\"},{\"attributes\":{\"source\":{\"id\":\"2150\",\"type\":\"ColumnDataSource\"}},\"id\":\"2154\",\"type\":\"CDSView\"},{\"attributes\":{},\"id\":\"2130\",\"type\":\"PanTool\"},{\"attributes\":{},\"id\":\"2378\",\"type\":\"BasicTickFormatter\"}],\"root_ids\":[\"2112\"]},\"title\":\"Bokeh Application\",\"version\":\"1.0.4\"}};\n",
       "  var render_items = [{\"docid\":\"adc0ed5b-11a9-47dd-a66a-0f8a3b90d70e\",\"roots\":{\"2112\":\"d03a4ec0-eee0-4d69-8359-9d71c6aacfd5\"}}];\n",
       "  root.Bokeh.embed.embed_items_notebook(docs_json, render_items);\n",
       "\n",
       "  }\n",
       "  if (root.Bokeh !== undefined) {\n",
       "    embed_document(root);\n",
       "  } else {\n",
       "    var attempts = 0;\n",
       "    var timer = setInterval(function(root) {\n",
       "      if (root.Bokeh !== undefined) {\n",
       "        embed_document(root);\n",
       "        clearInterval(timer);\n",
       "      }\n",
       "      attempts++;\n",
       "      if (attempts > 100) {\n",
       "        console.log(\"Bokeh: ERROR: Unable to run BokehJS code because BokehJS library is missing\");\n",
       "        clearInterval(timer);\n",
       "      }\n",
       "    }, 10, root)\n",
       "  }\n",
       "})(window);"
      ],
      "application/vnd.bokehjs_exec.v0+json": ""
     },
     "metadata": {
      "application/vnd.bokehjs_exec.v0+json": {
       "id": "2112"
      }
     },
     "output_type": "display_data"
    },
    {
     "name": "stdout",
     "output_type": "stream",
     "text": [
      "Insight: People who are attending for the third time are absolutely loving it! But the people who attended for the first time have mixed reactions. But most of them said they will definitely attend again\n"
     ]
    }
   ],
   "source": [
    "plot_insight('Attend_in_future')\n",
    "print('Insight: People who are attending for the third time are absolutely loving it! But the people who attended for the first time have mixed reactions. But most of them said they will definitely attend again')"
   ]
  },
  {
   "cell_type": "code",
   "execution_count": 23,
   "metadata": {},
   "outputs": [
    {
     "data": {
      "text/html": [
       "\n",
       "\n",
       "\n",
       "\n",
       "\n",
       "\n",
       "  <div class=\"bk-root\" id=\"ef4e87ec-7bee-4f12-a64e-d3768ed15791\" data-root-id=\"2438\"></div>\n"
      ]
     },
     "metadata": {},
     "output_type": "display_data"
    },
    {
     "data": {
      "application/javascript": [
       "(function(root) {\n",
       "  function embed_document(root) {\n",
       "    \n",
       "  var docs_json = {\"049dc18b-6493-4e97-b9aa-5586e1ed0ff0\":{\"roots\":{\"references\":[{\"attributes\":{},\"id\":\"2456\",\"type\":\"PanTool\"},{\"attributes\":{\"fill_color\":{\"value\":\"limegreen\"},\"line_color\":{\"value\":\"limegreen\"},\"top\":{\"field\":\"top\"},\"width\":{\"value\":0.3},\"x\":{\"field\":\"x\"}},\"id\":\"2505\",\"type\":\"VBar\"},{\"attributes\":{\"overlay\":{\"id\":\"2464\",\"type\":\"BoxAnnotation\"}},\"id\":\"2458\",\"type\":\"BoxZoomTool\"},{\"attributes\":{},\"id\":\"2460\",\"type\":\"ResetTool\"},{\"attributes\":{\"dimension\":1,\"plot\":{\"id\":\"2438\",\"subtype\":\"Figure\",\"type\":\"Plot\"},\"ticker\":{\"id\":\"2452\",\"type\":\"BasicTicker\"}},\"id\":\"2455\",\"type\":\"Grid\"},{\"attributes\":{\"callback\":null,\"factors\":[\"1-2 hrs\",\"3-4 hrs\",\"less than 1 hr\"]},\"id\":\"2439\",\"type\":\"FactorRange\"},{\"attributes\":{\"fill_alpha\":{\"value\":0.1},\"fill_color\":{\"value\":\"#1f77b4\"},\"line_alpha\":{\"value\":0.1},\"line_color\":{\"value\":\"#1f77b4\"},\"top\":{\"field\":\"top\"},\"width\":{\"value\":0.3},\"x\":{\"field\":\"x\"}},\"id\":\"2506\",\"type\":\"VBar\"},{\"attributes\":{\"data_source\":{\"id\":\"2504\",\"type\":\"ColumnDataSource\"},\"glyph\":{\"id\":\"2505\",\"type\":\"VBar\"},\"hover_glyph\":null,\"muted_glyph\":null,\"nonselection_glyph\":{\"id\":\"2506\",\"type\":\"VBar\"},\"selection_glyph\":null,\"view\":{\"id\":\"2508\",\"type\":\"CDSView\"}},\"id\":\"2507\",\"type\":\"GlyphRenderer\"},{\"attributes\":{\"formatter\":{\"id\":\"2611\",\"type\":\"BasicTickFormatter\"},\"plot\":{\"id\":\"2438\",\"subtype\":\"Figure\",\"type\":\"Plot\"},\"ticker\":{\"id\":\"2452\",\"type\":\"BasicTicker\"}},\"id\":\"2451\",\"type\":\"LinearAxis\"},{\"attributes\":{},\"id\":\"2443\",\"type\":\"CategoricalScale\"},{\"attributes\":{},\"id\":\"2461\",\"type\":\"HelpTool\"},{\"attributes\":{\"formatter\":{\"id\":\"2613\",\"type\":\"CategoricalTickFormatter\"},\"plot\":{\"id\":\"2438\",\"subtype\":\"Figure\",\"type\":\"Plot\"},\"ticker\":{\"id\":\"2448\",\"type\":\"CategoricalTicker\"}},\"id\":\"2447\",\"type\":\"CategoricalAxis\"},{\"attributes\":{},\"id\":\"2452\",\"type\":\"BasicTicker\"},{\"attributes\":{},\"id\":\"2448\",\"type\":\"CategoricalTicker\"},{\"attributes\":{\"active_drag\":\"auto\",\"active_inspect\":\"auto\",\"active_multi\":null,\"active_scroll\":\"auto\",\"active_tap\":\"auto\",\"tools\":[{\"id\":\"2456\",\"type\":\"PanTool\"},{\"id\":\"2457\",\"type\":\"WheelZoomTool\"},{\"id\":\"2458\",\"type\":\"BoxZoomTool\"},{\"id\":\"2459\",\"type\":\"SaveTool\"},{\"id\":\"2460\",\"type\":\"ResetTool\"},{\"id\":\"2461\",\"type\":\"HelpTool\"}]},\"id\":\"2462\",\"type\":\"Toolbar\"},{\"attributes\":{\"label\":{\"value\":\"Visiting first time\"},\"renderers\":[{\"id\":\"2507\",\"type\":\"GlyphRenderer\"}]},\"id\":\"2515\",\"type\":\"LegendItem\"},{\"attributes\":{},\"id\":\"2445\",\"type\":\"LinearScale\"},{\"attributes\":{},\"id\":\"2459\",\"type\":\"SaveTool\"},{\"attributes\":{\"plot\":null,\"text\":\"\"},\"id\":\"2608\",\"type\":\"Title\"},{\"attributes\":{\"items\":[{\"id\":\"2515\",\"type\":\"LegendItem\"}],\"location\":[0,-30],\"plot\":{\"id\":\"2438\",\"subtype\":\"Figure\",\"type\":\"Plot\"}},\"id\":\"2514\",\"type\":\"Legend\"},{\"attributes\":{},\"id\":\"2616\",\"type\":\"Selection\"},{\"attributes\":{},\"id\":\"2615\",\"type\":\"UnionRenderers\"},{\"attributes\":{},\"id\":\"2613\",\"type\":\"CategoricalTickFormatter\"},{\"attributes\":{\"plot\":{\"id\":\"2438\",\"subtype\":\"Figure\",\"type\":\"Plot\"},\"ticker\":{\"id\":\"2448\",\"type\":\"CategoricalTicker\"}},\"id\":\"2450\",\"type\":\"Grid\"},{\"attributes\":{\"source\":{\"id\":\"2504\",\"type\":\"ColumnDataSource\"}},\"id\":\"2508\",\"type\":\"CDSView\"},{\"attributes\":{},\"id\":\"2457\",\"type\":\"WheelZoomTool\"},{\"attributes\":{\"background_fill_color\":{\"value\":\"honeydew\"},\"below\":[{\"id\":\"2447\",\"type\":\"CategoricalAxis\"}],\"border_fill_color\":{\"value\":\"honeydew\"},\"left\":[{\"id\":\"2451\",\"type\":\"LinearAxis\"}],\"plot_height\":300,\"plot_width\":400,\"renderers\":[{\"id\":\"2447\",\"type\":\"CategoricalAxis\"},{\"id\":\"2450\",\"type\":\"Grid\"},{\"id\":\"2451\",\"type\":\"LinearAxis\"},{\"id\":\"2455\",\"type\":\"Grid\"},{\"id\":\"2464\",\"type\":\"BoxAnnotation\"},{\"id\":\"2507\",\"type\":\"GlyphRenderer\"},{\"id\":\"2514\",\"type\":\"Legend\"}],\"right\":[{\"id\":\"2514\",\"type\":\"Legend\"}],\"title\":{\"id\":\"2608\",\"type\":\"Title\"},\"toolbar\":{\"id\":\"2462\",\"type\":\"Toolbar\"},\"x_range\":{\"id\":\"2439\",\"type\":\"FactorRange\"},\"x_scale\":{\"id\":\"2443\",\"type\":\"CategoricalScale\"},\"y_range\":{\"id\":\"2441\",\"type\":\"DataRange1d\"},\"y_scale\":{\"id\":\"2445\",\"type\":\"LinearScale\"}},\"id\":\"2438\",\"subtype\":\"Figure\",\"type\":\"Plot\"},{\"attributes\":{\"callback\":null,\"data\":{\"top\":[12,8,1],\"x\":[\"1-2 hrs\",\"3-4 hrs\",\"less than 1 hr\"]},\"selected\":{\"id\":\"2616\",\"type\":\"Selection\"},\"selection_policy\":{\"id\":\"2615\",\"type\":\"UnionRenderers\"}},\"id\":\"2504\",\"type\":\"ColumnDataSource\"},{\"attributes\":{\"bottom_units\":\"screen\",\"fill_alpha\":{\"value\":0.5},\"fill_color\":{\"value\":\"lightgrey\"},\"left_units\":\"screen\",\"level\":\"overlay\",\"line_alpha\":{\"value\":1.0},\"line_color\":{\"value\":\"black\"},\"line_dash\":[4,4],\"line_width\":{\"value\":2},\"plot\":null,\"render_mode\":\"css\",\"right_units\":\"screen\",\"top_units\":\"screen\"},\"id\":\"2464\",\"type\":\"BoxAnnotation\"},{\"attributes\":{\"callback\":null},\"id\":\"2441\",\"type\":\"DataRange1d\"},{\"attributes\":{},\"id\":\"2611\",\"type\":\"BasicTickFormatter\"}],\"root_ids\":[\"2438\"]},\"title\":\"Bokeh Application\",\"version\":\"1.0.4\"}};\n",
       "  var render_items = [{\"docid\":\"049dc18b-6493-4e97-b9aa-5586e1ed0ff0\",\"roots\":{\"2438\":\"ef4e87ec-7bee-4f12-a64e-d3768ed15791\"}}];\n",
       "  root.Bokeh.embed.embed_items_notebook(docs_json, render_items);\n",
       "\n",
       "  }\n",
       "  if (root.Bokeh !== undefined) {\n",
       "    embed_document(root);\n",
       "  } else {\n",
       "    var attempts = 0;\n",
       "    var timer = setInterval(function(root) {\n",
       "      if (root.Bokeh !== undefined) {\n",
       "        embed_document(root);\n",
       "        clearInterval(timer);\n",
       "      }\n",
       "      attempts++;\n",
       "      if (attempts > 100) {\n",
       "        console.log(\"Bokeh: ERROR: Unable to run BokehJS code because BokehJS library is missing\");\n",
       "        clearInterval(timer);\n",
       "      }\n",
       "    }, 10, root)\n",
       "  }\n",
       "})(window);"
      ],
      "application/vnd.bokehjs_exec.v0+json": ""
     },
     "metadata": {
      "application/vnd.bokehjs_exec.v0+json": {
       "id": "2438"
      }
     },
     "output_type": "display_data"
    },
    {
     "data": {
      "text/html": [
       "\n",
       "\n",
       "\n",
       "\n",
       "\n",
       "\n",
       "  <div class=\"bk-root\" id=\"37c11146-93c9-48c0-a5c0-536410b034e3\" data-root-id=\"2471\"></div>\n"
      ]
     },
     "metadata": {},
     "output_type": "display_data"
    },
    {
     "data": {
      "application/javascript": [
       "(function(root) {\n",
       "  function embed_document(root) {\n",
       "    \n",
       "  var docs_json = {\"b16cb9db-647e-4e26-b8cb-900cc5284b3b\":{\"roots\":{\"references\":[{\"attributes\":{\"plot\":{\"id\":\"2471\",\"subtype\":\"Figure\",\"type\":\"Plot\"},\"ticker\":{\"id\":\"2481\",\"type\":\"CategoricalTicker\"}},\"id\":\"2483\",\"type\":\"Grid\"},{\"attributes\":{\"background_fill_color\":{\"value\":\"honeydew\"},\"below\":[{\"id\":\"2480\",\"type\":\"CategoricalAxis\"}],\"border_fill_color\":{\"value\":\"honeydew\"},\"left\":[{\"id\":\"2484\",\"type\":\"LinearAxis\"}],\"plot_height\":300,\"plot_width\":400,\"renderers\":[{\"id\":\"2480\",\"type\":\"CategoricalAxis\"},{\"id\":\"2483\",\"type\":\"Grid\"},{\"id\":\"2484\",\"type\":\"LinearAxis\"},{\"id\":\"2488\",\"type\":\"Grid\"},{\"id\":\"2497\",\"type\":\"BoxAnnotation\"},{\"id\":\"2512\",\"type\":\"GlyphRenderer\"},{\"id\":\"2516\",\"type\":\"Legend\"}],\"right\":[{\"id\":\"2516\",\"type\":\"Legend\"}],\"title\":{\"id\":\"2770\",\"type\":\"Title\"},\"toolbar\":{\"id\":\"2495\",\"type\":\"Toolbar\"},\"x_range\":{\"id\":\"2472\",\"type\":\"FactorRange\"},\"x_scale\":{\"id\":\"2476\",\"type\":\"CategoricalScale\"},\"y_range\":{\"id\":\"2474\",\"type\":\"DataRange1d\"},\"y_scale\":{\"id\":\"2478\",\"type\":\"LinearScale\"}},\"id\":\"2471\",\"subtype\":\"Figure\",\"type\":\"Plot\"},{\"attributes\":{\"bottom_units\":\"screen\",\"fill_alpha\":{\"value\":0.5},\"fill_color\":{\"value\":\"lightgrey\"},\"left_units\":\"screen\",\"level\":\"overlay\",\"line_alpha\":{\"value\":1.0},\"line_color\":{\"value\":\"black\"},\"line_dash\":[4,4],\"line_width\":{\"value\":2},\"plot\":null,\"render_mode\":\"css\",\"right_units\":\"screen\",\"top_units\":\"screen\"},\"id\":\"2497\",\"type\":\"BoxAnnotation\"},{\"attributes\":{},\"id\":\"2490\",\"type\":\"WheelZoomTool\"},{\"attributes\":{\"fill_alpha\":{\"value\":0.1},\"fill_color\":{\"value\":\"#1f77b4\"},\"line_alpha\":{\"value\":0.1},\"line_color\":{\"value\":\"#1f77b4\"},\"top\":{\"field\":\"top\"},\"width\":{\"value\":0.3},\"x\":{\"field\":\"x\"}},\"id\":\"2511\",\"type\":\"VBar\"},{\"attributes\":{\"dimension\":1,\"plot\":{\"id\":\"2471\",\"subtype\":\"Figure\",\"type\":\"Plot\"},\"ticker\":{\"id\":\"2485\",\"type\":\"BasicTicker\"}},\"id\":\"2488\",\"type\":\"Grid\"},{\"attributes\":{\"callback\":null,\"factors\":[\"1-2 hrs\",\"3-4 hrs\"]},\"id\":\"2472\",\"type\":\"FactorRange\"},{\"attributes\":{\"items\":[{\"id\":\"2517\",\"type\":\"LegendItem\"}],\"location\":[0,-30],\"plot\":{\"id\":\"2471\",\"subtype\":\"Figure\",\"type\":\"Plot\"}},\"id\":\"2516\",\"type\":\"Legend\"},{\"attributes\":{\"source\":{\"id\":\"2509\",\"type\":\"ColumnDataSource\"}},\"id\":\"2513\",\"type\":\"CDSView\"},{\"attributes\":{\"formatter\":{\"id\":\"2773\",\"type\":\"BasicTickFormatter\"},\"plot\":{\"id\":\"2471\",\"subtype\":\"Figure\",\"type\":\"Plot\"},\"ticker\":{\"id\":\"2485\",\"type\":\"BasicTicker\"}},\"id\":\"2484\",\"type\":\"LinearAxis\"},{\"attributes\":{},\"id\":\"2492\",\"type\":\"SaveTool\"},{\"attributes\":{\"callback\":null},\"id\":\"2474\",\"type\":\"DataRange1d\"},{\"attributes\":{},\"id\":\"2777\",\"type\":\"UnionRenderers\"},{\"attributes\":{},\"id\":\"2478\",\"type\":\"LinearScale\"},{\"attributes\":{\"data_source\":{\"id\":\"2509\",\"type\":\"ColumnDataSource\"},\"glyph\":{\"id\":\"2510\",\"type\":\"VBar\"},\"hover_glyph\":null,\"muted_glyph\":null,\"nonselection_glyph\":{\"id\":\"2511\",\"type\":\"VBar\"},\"selection_glyph\":null,\"view\":{\"id\":\"2513\",\"type\":\"CDSView\"}},\"id\":\"2512\",\"type\":\"GlyphRenderer\"},{\"attributes\":{\"label\":{\"value\":\"Visiting third time\"},\"renderers\":[{\"id\":\"2512\",\"type\":\"GlyphRenderer\"}]},\"id\":\"2517\",\"type\":\"LegendItem\"},{\"attributes\":{\"callback\":null,\"data\":{\"top\":[11,11],\"x\":[\"1-2 hrs\",\"3-4 hrs\"]},\"selected\":{\"id\":\"2778\",\"type\":\"Selection\"},\"selection_policy\":{\"id\":\"2777\",\"type\":\"UnionRenderers\"}},\"id\":\"2509\",\"type\":\"ColumnDataSource\"},{\"attributes\":{},\"id\":\"2481\",\"type\":\"CategoricalTicker\"},{\"attributes\":{},\"id\":\"2775\",\"type\":\"CategoricalTickFormatter\"},{\"attributes\":{},\"id\":\"2485\",\"type\":\"BasicTicker\"},{\"attributes\":{},\"id\":\"2778\",\"type\":\"Selection\"},{\"attributes\":{\"active_drag\":\"auto\",\"active_inspect\":\"auto\",\"active_multi\":null,\"active_scroll\":\"auto\",\"active_tap\":\"auto\",\"tools\":[{\"id\":\"2489\",\"type\":\"PanTool\"},{\"id\":\"2490\",\"type\":\"WheelZoomTool\"},{\"id\":\"2491\",\"type\":\"BoxZoomTool\"},{\"id\":\"2492\",\"type\":\"SaveTool\"},{\"id\":\"2493\",\"type\":\"ResetTool\"},{\"id\":\"2494\",\"type\":\"HelpTool\"}]},\"id\":\"2495\",\"type\":\"Toolbar\"},{\"attributes\":{\"plot\":null,\"text\":\"\"},\"id\":\"2770\",\"type\":\"Title\"},{\"attributes\":{},\"id\":\"2493\",\"type\":\"ResetTool\"},{\"attributes\":{},\"id\":\"2476\",\"type\":\"CategoricalScale\"},{\"attributes\":{},\"id\":\"2773\",\"type\":\"BasicTickFormatter\"},{\"attributes\":{\"formatter\":{\"id\":\"2775\",\"type\":\"CategoricalTickFormatter\"},\"plot\":{\"id\":\"2471\",\"subtype\":\"Figure\",\"type\":\"Plot\"},\"ticker\":{\"id\":\"2481\",\"type\":\"CategoricalTicker\"}},\"id\":\"2480\",\"type\":\"CategoricalAxis\"},{\"attributes\":{\"overlay\":{\"id\":\"2497\",\"type\":\"BoxAnnotation\"}},\"id\":\"2491\",\"type\":\"BoxZoomTool\"},{\"attributes\":{},\"id\":\"2494\",\"type\":\"HelpTool\"},{\"attributes\":{\"fill_color\":{\"value\":\"mediumslateblue\"},\"line_color\":{\"value\":\"mediumslateblue\"},\"top\":{\"field\":\"top\"},\"width\":{\"value\":0.3},\"x\":{\"field\":\"x\"}},\"id\":\"2510\",\"type\":\"VBar\"},{\"attributes\":{},\"id\":\"2489\",\"type\":\"PanTool\"}],\"root_ids\":[\"2471\"]},\"title\":\"Bokeh Application\",\"version\":\"1.0.4\"}};\n",
       "  var render_items = [{\"docid\":\"b16cb9db-647e-4e26-b8cb-900cc5284b3b\",\"roots\":{\"2471\":\"37c11146-93c9-48c0-a5c0-536410b034e3\"}}];\n",
       "  root.Bokeh.embed.embed_items_notebook(docs_json, render_items);\n",
       "\n",
       "  }\n",
       "  if (root.Bokeh !== undefined) {\n",
       "    embed_document(root);\n",
       "  } else {\n",
       "    var attempts = 0;\n",
       "    var timer = setInterval(function(root) {\n",
       "      if (root.Bokeh !== undefined) {\n",
       "        embed_document(root);\n",
       "        clearInterval(timer);\n",
       "      }\n",
       "      attempts++;\n",
       "      if (attempts > 100) {\n",
       "        console.log(\"Bokeh: ERROR: Unable to run BokehJS code because BokehJS library is missing\");\n",
       "        clearInterval(timer);\n",
       "      }\n",
       "    }, 10, root)\n",
       "  }\n",
       "})(window);"
      ],
      "application/vnd.bokehjs_exec.v0+json": ""
     },
     "metadata": {
      "application/vnd.bokehjs_exec.v0+json": {
       "id": "2471"
      }
     },
     "output_type": "display_data"
    },
    {
     "name": "stdout",
     "output_type": "stream",
     "text": [
      "People who are regular attenders, tend to spend more time\n"
     ]
    }
   ],
   "source": [
    "plot_insight('Time_you_will_spend')\n",
    "print(\"People who are regular attenders, tend to spend more time\")"
   ]
  },
  {
   "cell_type": "markdown",
   "metadata": {},
   "source": [
    "Insight on the Walking tendency"
   ]
  },
  {
   "cell_type": "code",
   "execution_count": 24,
   "metadata": {
    "scrolled": true
   },
   "outputs": [
    {
     "data": {
      "text/html": [
       "\n",
       "\n",
       "\n",
       "\n",
       "\n",
       "\n",
       "  <div class=\"bk-root\" id=\"794a0bb1-4b13-4f85-bf24-bdab70abec24\" data-root-id=\"2833\"></div>\n"
      ]
     },
     "metadata": {},
     "output_type": "display_data"
    },
    {
     "data": {
      "application/javascript": [
       "(function(root) {\n",
       "  function embed_document(root) {\n",
       "    \n",
       "  var docs_json = {\"16a4ba46-a7c9-49bb-b310-82434cdf62de\":{\"roots\":{\"references\":[{\"attributes\":{\"active_drag\":\"auto\",\"active_inspect\":\"auto\",\"active_multi\":null,\"active_scroll\":\"auto\",\"active_tap\":\"auto\",\"tools\":[{\"id\":\"2851\",\"type\":\"PanTool\"},{\"id\":\"2852\",\"type\":\"WheelZoomTool\"},{\"id\":\"2853\",\"type\":\"BoxZoomTool\"},{\"id\":\"2854\",\"type\":\"SaveTool\"},{\"id\":\"2855\",\"type\":\"ResetTool\"},{\"id\":\"2856\",\"type\":\"HelpTool\"}]},\"id\":\"2857\",\"type\":\"Toolbar\"},{\"attributes\":{\"callback\":null,\"data\":{\"top\":[14,5,2],\"x\":[\"Regularly\",\"Occasionally\",\"Rarely\"]},\"selected\":{\"id\":\"3029\",\"type\":\"Selection\"},\"selection_policy\":{\"id\":\"3028\",\"type\":\"UnionRenderers\"}},\"id\":\"2899\",\"type\":\"ColumnDataSource\"},{\"attributes\":{},\"id\":\"3024\",\"type\":\"BasicTickFormatter\"},{\"attributes\":{},\"id\":\"2838\",\"type\":\"CategoricalScale\"},{\"attributes\":{},\"id\":\"2840\",\"type\":\"LinearScale\"},{\"attributes\":{},\"id\":\"2843\",\"type\":\"CategoricalTicker\"},{\"attributes\":{},\"id\":\"2851\",\"type\":\"PanTool\"},{\"attributes\":{\"fill_alpha\":{\"value\":0.1},\"fill_color\":{\"value\":\"#1f77b4\"},\"line_alpha\":{\"value\":0.1},\"line_color\":{\"value\":\"#1f77b4\"},\"top\":{\"field\":\"top\"},\"width\":{\"value\":0.3},\"x\":{\"field\":\"x\"}},\"id\":\"2901\",\"type\":\"VBar\"},{\"attributes\":{\"formatter\":{\"id\":\"3026\",\"type\":\"CategoricalTickFormatter\"},\"plot\":{\"id\":\"2833\",\"subtype\":\"Figure\",\"type\":\"Plot\"},\"ticker\":{\"id\":\"2843\",\"type\":\"CategoricalTicker\"}},\"id\":\"2842\",\"type\":\"CategoricalAxis\"},{\"attributes\":{\"data_source\":{\"id\":\"2899\",\"type\":\"ColumnDataSource\"},\"glyph\":{\"id\":\"2900\",\"type\":\"VBar\"},\"hover_glyph\":null,\"muted_glyph\":null,\"nonselection_glyph\":{\"id\":\"2901\",\"type\":\"VBar\"},\"selection_glyph\":null,\"view\":{\"id\":\"2903\",\"type\":\"CDSView\"}},\"id\":\"2902\",\"type\":\"GlyphRenderer\"},{\"attributes\":{},\"id\":\"3028\",\"type\":\"UnionRenderers\"},{\"attributes\":{\"formatter\":{\"id\":\"3024\",\"type\":\"BasicTickFormatter\"},\"plot\":{\"id\":\"2833\",\"subtype\":\"Figure\",\"type\":\"Plot\"},\"ticker\":{\"id\":\"2847\",\"type\":\"BasicTicker\"}},\"id\":\"2846\",\"type\":\"LinearAxis\"},{\"attributes\":{},\"id\":\"3026\",\"type\":\"CategoricalTickFormatter\"},{\"attributes\":{\"source\":{\"id\":\"2899\",\"type\":\"ColumnDataSource\"}},\"id\":\"2903\",\"type\":\"CDSView\"},{\"attributes\":{\"items\":[{\"id\":\"2910\",\"type\":\"LegendItem\"}],\"location\":[0,-30],\"plot\":{\"id\":\"2833\",\"subtype\":\"Figure\",\"type\":\"Plot\"}},\"id\":\"2909\",\"type\":\"Legend\"},{\"attributes\":{},\"id\":\"2854\",\"type\":\"SaveTool\"},{\"attributes\":{\"plot\":null,\"text\":\"\"},\"id\":\"3021\",\"type\":\"Title\"},{\"attributes\":{\"overlay\":{\"id\":\"2859\",\"type\":\"BoxAnnotation\"}},\"id\":\"2853\",\"type\":\"BoxZoomTool\"},{\"attributes\":{\"background_fill_color\":{\"value\":\"honeydew\"},\"below\":[{\"id\":\"2842\",\"type\":\"CategoricalAxis\"}],\"border_fill_color\":{\"value\":\"honeydew\"},\"left\":[{\"id\":\"2846\",\"type\":\"LinearAxis\"}],\"plot_height\":300,\"plot_width\":400,\"renderers\":[{\"id\":\"2842\",\"type\":\"CategoricalAxis\"},{\"id\":\"2845\",\"type\":\"Grid\"},{\"id\":\"2846\",\"type\":\"LinearAxis\"},{\"id\":\"2850\",\"type\":\"Grid\"},{\"id\":\"2859\",\"type\":\"BoxAnnotation\"},{\"id\":\"2902\",\"type\":\"GlyphRenderer\"},{\"id\":\"2909\",\"type\":\"Legend\"}],\"right\":[{\"id\":\"2909\",\"type\":\"Legend\"}],\"title\":{\"id\":\"3021\",\"type\":\"Title\"},\"toolbar\":{\"id\":\"2857\",\"type\":\"Toolbar\"},\"x_range\":{\"id\":\"2834\",\"type\":\"FactorRange\"},\"x_scale\":{\"id\":\"2838\",\"type\":\"CategoricalScale\"},\"y_range\":{\"id\":\"2836\",\"type\":\"DataRange1d\"},\"y_scale\":{\"id\":\"2840\",\"type\":\"LinearScale\"}},\"id\":\"2833\",\"subtype\":\"Figure\",\"type\":\"Plot\"},{\"attributes\":{\"label\":{\"value\":\"Visiting first time\"},\"renderers\":[{\"id\":\"2902\",\"type\":\"GlyphRenderer\"}]},\"id\":\"2910\",\"type\":\"LegendItem\"},{\"attributes\":{},\"id\":\"2852\",\"type\":\"WheelZoomTool\"},{\"attributes\":{},\"id\":\"2855\",\"type\":\"ResetTool\"},{\"attributes\":{\"bottom_units\":\"screen\",\"fill_alpha\":{\"value\":0.5},\"fill_color\":{\"value\":\"lightgrey\"},\"left_units\":\"screen\",\"level\":\"overlay\",\"line_alpha\":{\"value\":1.0},\"line_color\":{\"value\":\"black\"},\"line_dash\":[4,4],\"line_width\":{\"value\":2},\"plot\":null,\"render_mode\":\"css\",\"right_units\":\"screen\",\"top_units\":\"screen\"},\"id\":\"2859\",\"type\":\"BoxAnnotation\"},{\"attributes\":{\"callback\":null},\"id\":\"2836\",\"type\":\"DataRange1d\"},{\"attributes\":{\"plot\":{\"id\":\"2833\",\"subtype\":\"Figure\",\"type\":\"Plot\"},\"ticker\":{\"id\":\"2843\",\"type\":\"CategoricalTicker\"}},\"id\":\"2845\",\"type\":\"Grid\"},{\"attributes\":{\"callback\":null,\"factors\":[\"Regularly\",\"Occasionally\",\"Rarely\"]},\"id\":\"2834\",\"type\":\"FactorRange\"},{\"attributes\":{},\"id\":\"2847\",\"type\":\"BasicTicker\"},{\"attributes\":{\"fill_color\":{\"value\":\"limegreen\"},\"line_color\":{\"value\":\"limegreen\"},\"top\":{\"field\":\"top\"},\"width\":{\"value\":0.3},\"x\":{\"field\":\"x\"}},\"id\":\"2900\",\"type\":\"VBar\"},{\"attributes\":{},\"id\":\"3029\",\"type\":\"Selection\"},{\"attributes\":{},\"id\":\"2856\",\"type\":\"HelpTool\"},{\"attributes\":{\"dimension\":1,\"plot\":{\"id\":\"2833\",\"subtype\":\"Figure\",\"type\":\"Plot\"},\"ticker\":{\"id\":\"2847\",\"type\":\"BasicTicker\"}},\"id\":\"2850\",\"type\":\"Grid\"}],\"root_ids\":[\"2833\"]},\"title\":\"Bokeh Application\",\"version\":\"1.0.4\"}};\n",
       "  var render_items = [{\"docid\":\"16a4ba46-a7c9-49bb-b310-82434cdf62de\",\"roots\":{\"2833\":\"794a0bb1-4b13-4f85-bf24-bdab70abec24\"}}];\n",
       "  root.Bokeh.embed.embed_items_notebook(docs_json, render_items);\n",
       "\n",
       "  }\n",
       "  if (root.Bokeh !== undefined) {\n",
       "    embed_document(root);\n",
       "  } else {\n",
       "    var attempts = 0;\n",
       "    var timer = setInterval(function(root) {\n",
       "      if (root.Bokeh !== undefined) {\n",
       "        embed_document(root);\n",
       "        clearInterval(timer);\n",
       "      }\n",
       "      attempts++;\n",
       "      if (attempts > 100) {\n",
       "        console.log(\"Bokeh: ERROR: Unable to run BokehJS code because BokehJS library is missing\");\n",
       "        clearInterval(timer);\n",
       "      }\n",
       "    }, 10, root)\n",
       "  }\n",
       "})(window);"
      ],
      "application/vnd.bokehjs_exec.v0+json": ""
     },
     "metadata": {
      "application/vnd.bokehjs_exec.v0+json": {
       "id": "2833"
      }
     },
     "output_type": "display_data"
    },
    {
     "data": {
      "text/html": [
       "\n",
       "\n",
       "\n",
       "\n",
       "\n",
       "\n",
       "  <div class=\"bk-root\" id=\"611c4867-785f-4cb9-9702-81ca8d9f7d46\" data-root-id=\"2866\"></div>\n"
      ]
     },
     "metadata": {},
     "output_type": "display_data"
    },
    {
     "data": {
      "application/javascript": [
       "(function(root) {\n",
       "  function embed_document(root) {\n",
       "    \n",
       "  var docs_json = {\"0058fd91-c149-424c-841c-9a927f3b879e\":{\"roots\":{\"references\":[{\"attributes\":{},\"id\":\"3204\",\"type\":\"BasicTickFormatter\"},{\"attributes\":{\"overlay\":{\"id\":\"2892\",\"type\":\"BoxAnnotation\"}},\"id\":\"2886\",\"type\":\"BoxZoomTool\"},{\"attributes\":{\"background_fill_color\":{\"value\":\"honeydew\"},\"below\":[{\"id\":\"2875\",\"type\":\"CategoricalAxis\"}],\"border_fill_color\":{\"value\":\"honeydew\"},\"left\":[{\"id\":\"2879\",\"type\":\"LinearAxis\"}],\"plot_height\":300,\"plot_width\":400,\"renderers\":[{\"id\":\"2875\",\"type\":\"CategoricalAxis\"},{\"id\":\"2878\",\"type\":\"Grid\"},{\"id\":\"2879\",\"type\":\"LinearAxis\"},{\"id\":\"2883\",\"type\":\"Grid\"},{\"id\":\"2892\",\"type\":\"BoxAnnotation\"},{\"id\":\"2907\",\"type\":\"GlyphRenderer\"},{\"id\":\"2911\",\"type\":\"Legend\"}],\"right\":[{\"id\":\"2911\",\"type\":\"Legend\"}],\"title\":{\"id\":\"3201\",\"type\":\"Title\"},\"toolbar\":{\"id\":\"2890\",\"type\":\"Toolbar\"},\"x_range\":{\"id\":\"2867\",\"type\":\"FactorRange\"},\"x_scale\":{\"id\":\"2871\",\"type\":\"CategoricalScale\"},\"y_range\":{\"id\":\"2869\",\"type\":\"DataRange1d\"},\"y_scale\":{\"id\":\"2873\",\"type\":\"LinearScale\"}},\"id\":\"2866\",\"subtype\":\"Figure\",\"type\":\"Plot\"},{\"attributes\":{},\"id\":\"2889\",\"type\":\"HelpTool\"},{\"attributes\":{},\"id\":\"2871\",\"type\":\"CategoricalScale\"},{\"attributes\":{},\"id\":\"2876\",\"type\":\"CategoricalTicker\"},{\"attributes\":{\"bottom_units\":\"screen\",\"fill_alpha\":{\"value\":0.5},\"fill_color\":{\"value\":\"lightgrey\"},\"left_units\":\"screen\",\"level\":\"overlay\",\"line_alpha\":{\"value\":1.0},\"line_color\":{\"value\":\"black\"},\"line_dash\":[4,4],\"line_width\":{\"value\":2},\"plot\":null,\"render_mode\":\"css\",\"right_units\":\"screen\",\"top_units\":\"screen\"},\"id\":\"2892\",\"type\":\"BoxAnnotation\"},{\"attributes\":{\"fill_alpha\":{\"value\":0.1},\"fill_color\":{\"value\":\"#1f77b4\"},\"line_alpha\":{\"value\":0.1},\"line_color\":{\"value\":\"#1f77b4\"},\"top\":{\"field\":\"top\"},\"width\":{\"value\":0.3},\"x\":{\"field\":\"x\"}},\"id\":\"2906\",\"type\":\"VBar\"},{\"attributes\":{\"callback\":null},\"id\":\"2869\",\"type\":\"DataRange1d\"},{\"attributes\":{},\"id\":\"2887\",\"type\":\"SaveTool\"},{\"attributes\":{},\"id\":\"2873\",\"type\":\"LinearScale\"},{\"attributes\":{},\"id\":\"2885\",\"type\":\"WheelZoomTool\"},{\"attributes\":{},\"id\":\"2880\",\"type\":\"BasicTicker\"},{\"attributes\":{\"active_drag\":\"auto\",\"active_inspect\":\"auto\",\"active_multi\":null,\"active_scroll\":\"auto\",\"active_tap\":\"auto\",\"tools\":[{\"id\":\"2884\",\"type\":\"PanTool\"},{\"id\":\"2885\",\"type\":\"WheelZoomTool\"},{\"id\":\"2886\",\"type\":\"BoxZoomTool\"},{\"id\":\"2887\",\"type\":\"SaveTool\"},{\"id\":\"2888\",\"type\":\"ResetTool\"},{\"id\":\"2889\",\"type\":\"HelpTool\"}]},\"id\":\"2890\",\"type\":\"Toolbar\"},{\"attributes\":{\"data_source\":{\"id\":\"2904\",\"type\":\"ColumnDataSource\"},\"glyph\":{\"id\":\"2905\",\"type\":\"VBar\"},\"hover_glyph\":null,\"muted_glyph\":null,\"nonselection_glyph\":{\"id\":\"2906\",\"type\":\"VBar\"},\"selection_glyph\":null,\"view\":{\"id\":\"2908\",\"type\":\"CDSView\"}},\"id\":\"2907\",\"type\":\"GlyphRenderer\"},{\"attributes\":{\"formatter\":{\"id\":\"3206\",\"type\":\"CategoricalTickFormatter\"},\"plot\":{\"id\":\"2866\",\"subtype\":\"Figure\",\"type\":\"Plot\"},\"ticker\":{\"id\":\"2876\",\"type\":\"CategoricalTicker\"}},\"id\":\"2875\",\"type\":\"CategoricalAxis\"},{\"attributes\":{\"source\":{\"id\":\"2904\",\"type\":\"ColumnDataSource\"}},\"id\":\"2908\",\"type\":\"CDSView\"},{\"attributes\":{\"plot\":null,\"text\":\"\"},\"id\":\"3201\",\"type\":\"Title\"},{\"attributes\":{\"dimension\":1,\"plot\":{\"id\":\"2866\",\"subtype\":\"Figure\",\"type\":\"Plot\"},\"ticker\":{\"id\":\"2880\",\"type\":\"BasicTicker\"}},\"id\":\"2883\",\"type\":\"Grid\"},{\"attributes\":{\"fill_color\":{\"value\":\"mediumslateblue\"},\"line_color\":{\"value\":\"mediumslateblue\"},\"top\":{\"field\":\"top\"},\"width\":{\"value\":0.3},\"x\":{\"field\":\"x\"}},\"id\":\"2905\",\"type\":\"VBar\"},{\"attributes\":{\"callback\":null,\"factors\":[\"Regularly\",\"Occasionally\",\"Never\",\"Rarely\"]},\"id\":\"2867\",\"type\":\"FactorRange\"},{\"attributes\":{\"formatter\":{\"id\":\"3204\",\"type\":\"BasicTickFormatter\"},\"plot\":{\"id\":\"2866\",\"subtype\":\"Figure\",\"type\":\"Plot\"},\"ticker\":{\"id\":\"2880\",\"type\":\"BasicTicker\"}},\"id\":\"2879\",\"type\":\"LinearAxis\"},{\"attributes\":{},\"id\":\"3208\",\"type\":\"UnionRenderers\"},{\"attributes\":{\"items\":[{\"id\":\"2912\",\"type\":\"LegendItem\"}],\"location\":[0,-30],\"plot\":{\"id\":\"2866\",\"subtype\":\"Figure\",\"type\":\"Plot\"}},\"id\":\"2911\",\"type\":\"Legend\"},{\"attributes\":{},\"id\":\"2884\",\"type\":\"PanTool\"},{\"attributes\":{},\"id\":\"3209\",\"type\":\"Selection\"},{\"attributes\":{},\"id\":\"3206\",\"type\":\"CategoricalTickFormatter\"},{\"attributes\":{\"callback\":null,\"data\":{\"top\":[17,3,1,1],\"x\":[\"Regularly\",\"Occasionally\",\"Never\",\"Rarely\"]},\"selected\":{\"id\":\"3209\",\"type\":\"Selection\"},\"selection_policy\":{\"id\":\"3208\",\"type\":\"UnionRenderers\"}},\"id\":\"2904\",\"type\":\"ColumnDataSource\"},{\"attributes\":{},\"id\":\"2888\",\"type\":\"ResetTool\"},{\"attributes\":{\"plot\":{\"id\":\"2866\",\"subtype\":\"Figure\",\"type\":\"Plot\"},\"ticker\":{\"id\":\"2876\",\"type\":\"CategoricalTicker\"}},\"id\":\"2878\",\"type\":\"Grid\"},{\"attributes\":{\"label\":{\"value\":\"Visiting third time\"},\"renderers\":[{\"id\":\"2907\",\"type\":\"GlyphRenderer\"}]},\"id\":\"2912\",\"type\":\"LegendItem\"}],\"root_ids\":[\"2866\"]},\"title\":\"Bokeh Application\",\"version\":\"1.0.4\"}};\n",
       "  var render_items = [{\"docid\":\"0058fd91-c149-424c-841c-9a927f3b879e\",\"roots\":{\"2866\":\"611c4867-785f-4cb9-9702-81ca8d9f7d46\"}}];\n",
       "  root.Bokeh.embed.embed_items_notebook(docs_json, render_items);\n",
       "\n",
       "  }\n",
       "  if (root.Bokeh !== undefined) {\n",
       "    embed_document(root);\n",
       "  } else {\n",
       "    var attempts = 0;\n",
       "    var timer = setInterval(function(root) {\n",
       "      if (root.Bokeh !== undefined) {\n",
       "        embed_document(root);\n",
       "        clearInterval(timer);\n",
       "      }\n",
       "      attempts++;\n",
       "      if (attempts > 100) {\n",
       "        console.log(\"Bokeh: ERROR: Unable to run BokehJS code because BokehJS library is missing\");\n",
       "        clearInterval(timer);\n",
       "      }\n",
       "    }, 10, root)\n",
       "  }\n",
       "})(window);"
      ],
      "application/vnd.bokehjs_exec.v0+json": ""
     },
     "metadata": {
      "application/vnd.bokehjs_exec.v0+json": {
       "id": "2866"
      }
     },
     "output_type": "display_data"
    },
    {
     "name": "stdout",
     "output_type": "stream",
     "text": [
      "Insight: Not much difference!\n"
     ]
    }
   ],
   "source": [
    "plot_insight('Walking_tendency')\n",
    "print(\"Insight: Not much difference!\")"
   ]
  },
  {
   "cell_type": "markdown",
   "metadata": {},
   "source": [
    "Insight on the biking tendency"
   ]
  },
  {
   "cell_type": "code",
   "execution_count": 25,
   "metadata": {
    "scrolled": false
   },
   "outputs": [
    {
     "data": {
      "text/html": [
       "\n",
       "\n",
       "\n",
       "\n",
       "\n",
       "\n",
       "  <div class=\"bk-root\" id=\"a8ee3a99-f206-4d7d-a041-ad5cd84dff6c\" data-root-id=\"3264\"></div>\n"
      ]
     },
     "metadata": {},
     "output_type": "display_data"
    },
    {
     "data": {
      "application/javascript": [
       "(function(root) {\n",
       "  function embed_document(root) {\n",
       "    \n",
       "  var docs_json = {\"9d408274-e617-410f-a59c-24ac671ab597\":{\"roots\":{\"references\":[{\"attributes\":{},\"id\":\"3283\",\"type\":\"WheelZoomTool\"},{\"attributes\":{\"callback\":null,\"factors\":[\"Regularly\",\"Never\",\"Occasionally\",\"Rarely\"]},\"id\":\"3265\",\"type\":\"FactorRange\"},{\"attributes\":{\"plot\":null,\"text\":\"\"},\"id\":\"3470\",\"type\":\"Title\"},{\"attributes\":{},\"id\":\"3287\",\"type\":\"HelpTool\"},{\"attributes\":{},\"id\":\"3475\",\"type\":\"CategoricalTickFormatter\"},{\"attributes\":{},\"id\":\"3269\",\"type\":\"CategoricalScale\"},{\"attributes\":{\"callback\":null},\"id\":\"3267\",\"type\":\"DataRange1d\"},{\"attributes\":{\"items\":[{\"id\":\"3341\",\"type\":\"LegendItem\"}],\"location\":[0,-30],\"plot\":{\"id\":\"3264\",\"subtype\":\"Figure\",\"type\":\"Plot\"}},\"id\":\"3340\",\"type\":\"Legend\"},{\"attributes\":{\"background_fill_color\":{\"value\":\"honeydew\"},\"below\":[{\"id\":\"3273\",\"type\":\"CategoricalAxis\"}],\"border_fill_color\":{\"value\":\"honeydew\"},\"left\":[{\"id\":\"3277\",\"type\":\"LinearAxis\"}],\"plot_height\":300,\"plot_width\":400,\"renderers\":[{\"id\":\"3273\",\"type\":\"CategoricalAxis\"},{\"id\":\"3276\",\"type\":\"Grid\"},{\"id\":\"3277\",\"type\":\"LinearAxis\"},{\"id\":\"3281\",\"type\":\"Grid\"},{\"id\":\"3290\",\"type\":\"BoxAnnotation\"},{\"id\":\"3333\",\"type\":\"GlyphRenderer\"},{\"id\":\"3340\",\"type\":\"Legend\"}],\"right\":[{\"id\":\"3340\",\"type\":\"Legend\"}],\"title\":{\"id\":\"3470\",\"type\":\"Title\"},\"toolbar\":{\"id\":\"3288\",\"type\":\"Toolbar\"},\"x_range\":{\"id\":\"3265\",\"type\":\"FactorRange\"},\"x_scale\":{\"id\":\"3269\",\"type\":\"CategoricalScale\"},\"y_range\":{\"id\":\"3267\",\"type\":\"DataRange1d\"},\"y_scale\":{\"id\":\"3271\",\"type\":\"LinearScale\"}},\"id\":\"3264\",\"subtype\":\"Figure\",\"type\":\"Plot\"},{\"attributes\":{},\"id\":\"3286\",\"type\":\"ResetTool\"},{\"attributes\":{},\"id\":\"3477\",\"type\":\"UnionRenderers\"},{\"attributes\":{\"fill_color\":{\"value\":\"limegreen\"},\"line_color\":{\"value\":\"limegreen\"},\"top\":{\"field\":\"top\"},\"width\":{\"value\":0.3},\"x\":{\"field\":\"x\"}},\"id\":\"3331\",\"type\":\"VBar\"},{\"attributes\":{\"fill_alpha\":{\"value\":0.1},\"fill_color\":{\"value\":\"#1f77b4\"},\"line_alpha\":{\"value\":0.1},\"line_color\":{\"value\":\"#1f77b4\"},\"top\":{\"field\":\"top\"},\"width\":{\"value\":0.3},\"x\":{\"field\":\"x\"}},\"id\":\"3332\",\"type\":\"VBar\"},{\"attributes\":{\"formatter\":{\"id\":\"3473\",\"type\":\"BasicTickFormatter\"},\"plot\":{\"id\":\"3264\",\"subtype\":\"Figure\",\"type\":\"Plot\"},\"ticker\":{\"id\":\"3278\",\"type\":\"BasicTicker\"}},\"id\":\"3277\",\"type\":\"LinearAxis\"},{\"attributes\":{\"active_drag\":\"auto\",\"active_inspect\":\"auto\",\"active_multi\":null,\"active_scroll\":\"auto\",\"active_tap\":\"auto\",\"tools\":[{\"id\":\"3282\",\"type\":\"PanTool\"},{\"id\":\"3283\",\"type\":\"WheelZoomTool\"},{\"id\":\"3284\",\"type\":\"BoxZoomTool\"},{\"id\":\"3285\",\"type\":\"SaveTool\"},{\"id\":\"3286\",\"type\":\"ResetTool\"},{\"id\":\"3287\",\"type\":\"HelpTool\"}]},\"id\":\"3288\",\"type\":\"Toolbar\"},{\"attributes\":{\"formatter\":{\"id\":\"3475\",\"type\":\"CategoricalTickFormatter\"},\"plot\":{\"id\":\"3264\",\"subtype\":\"Figure\",\"type\":\"Plot\"},\"ticker\":{\"id\":\"3274\",\"type\":\"CategoricalTicker\"}},\"id\":\"3273\",\"type\":\"CategoricalAxis\"},{\"attributes\":{\"data_source\":{\"id\":\"3330\",\"type\":\"ColumnDataSource\"},\"glyph\":{\"id\":\"3331\",\"type\":\"VBar\"},\"hover_glyph\":null,\"muted_glyph\":null,\"nonselection_glyph\":{\"id\":\"3332\",\"type\":\"VBar\"},\"selection_glyph\":null,\"view\":{\"id\":\"3334\",\"type\":\"CDSView\"}},\"id\":\"3333\",\"type\":\"GlyphRenderer\"},{\"attributes\":{},\"id\":\"3285\",\"type\":\"SaveTool\"},{\"attributes\":{\"dimension\":1,\"plot\":{\"id\":\"3264\",\"subtype\":\"Figure\",\"type\":\"Plot\"},\"ticker\":{\"id\":\"3278\",\"type\":\"BasicTicker\"}},\"id\":\"3281\",\"type\":\"Grid\"},{\"attributes\":{},\"id\":\"3473\",\"type\":\"BasicTickFormatter\"},{\"attributes\":{},\"id\":\"3478\",\"type\":\"Selection\"},{\"attributes\":{},\"id\":\"3282\",\"type\":\"PanTool\"},{\"attributes\":{},\"id\":\"3271\",\"type\":\"LinearScale\"},{\"attributes\":{\"bottom_units\":\"screen\",\"fill_alpha\":{\"value\":0.5},\"fill_color\":{\"value\":\"lightgrey\"},\"left_units\":\"screen\",\"level\":\"overlay\",\"line_alpha\":{\"value\":1.0},\"line_color\":{\"value\":\"black\"},\"line_dash\":[4,4],\"line_width\":{\"value\":2},\"plot\":null,\"render_mode\":\"css\",\"right_units\":\"screen\",\"top_units\":\"screen\"},\"id\":\"3290\",\"type\":\"BoxAnnotation\"},{\"attributes\":{},\"id\":\"3278\",\"type\":\"BasicTicker\"},{\"attributes\":{\"callback\":null,\"data\":{\"top\":[8,5,5,3],\"x\":[\"Regularly\",\"Never\",\"Occasionally\",\"Rarely\"]},\"selected\":{\"id\":\"3478\",\"type\":\"Selection\"},\"selection_policy\":{\"id\":\"3477\",\"type\":\"UnionRenderers\"}},\"id\":\"3330\",\"type\":\"ColumnDataSource\"},{\"attributes\":{\"source\":{\"id\":\"3330\",\"type\":\"ColumnDataSource\"}},\"id\":\"3334\",\"type\":\"CDSView\"},{\"attributes\":{\"label\":{\"value\":\"Visiting first time\"},\"renderers\":[{\"id\":\"3333\",\"type\":\"GlyphRenderer\"}]},\"id\":\"3341\",\"type\":\"LegendItem\"},{\"attributes\":{\"plot\":{\"id\":\"3264\",\"subtype\":\"Figure\",\"type\":\"Plot\"},\"ticker\":{\"id\":\"3274\",\"type\":\"CategoricalTicker\"}},\"id\":\"3276\",\"type\":\"Grid\"},{\"attributes\":{},\"id\":\"3274\",\"type\":\"CategoricalTicker\"},{\"attributes\":{\"overlay\":{\"id\":\"3290\",\"type\":\"BoxAnnotation\"}},\"id\":\"3284\",\"type\":\"BoxZoomTool\"}],\"root_ids\":[\"3264\"]},\"title\":\"Bokeh Application\",\"version\":\"1.0.4\"}};\n",
       "  var render_items = [{\"docid\":\"9d408274-e617-410f-a59c-24ac671ab597\",\"roots\":{\"3264\":\"a8ee3a99-f206-4d7d-a041-ad5cd84dff6c\"}}];\n",
       "  root.Bokeh.embed.embed_items_notebook(docs_json, render_items);\n",
       "\n",
       "  }\n",
       "  if (root.Bokeh !== undefined) {\n",
       "    embed_document(root);\n",
       "  } else {\n",
       "    var attempts = 0;\n",
       "    var timer = setInterval(function(root) {\n",
       "      if (root.Bokeh !== undefined) {\n",
       "        embed_document(root);\n",
       "        clearInterval(timer);\n",
       "      }\n",
       "      attempts++;\n",
       "      if (attempts > 100) {\n",
       "        console.log(\"Bokeh: ERROR: Unable to run BokehJS code because BokehJS library is missing\");\n",
       "        clearInterval(timer);\n",
       "      }\n",
       "    }, 10, root)\n",
       "  }\n",
       "})(window);"
      ],
      "application/vnd.bokehjs_exec.v0+json": ""
     },
     "metadata": {
      "application/vnd.bokehjs_exec.v0+json": {
       "id": "3264"
      }
     },
     "output_type": "display_data"
    },
    {
     "data": {
      "text/html": [
       "\n",
       "\n",
       "\n",
       "\n",
       "\n",
       "\n",
       "  <div class=\"bk-root\" id=\"86d43ce7-a28c-4a9a-8222-38669dd86a2d\" data-root-id=\"3297\"></div>\n"
      ]
     },
     "metadata": {},
     "output_type": "display_data"
    },
    {
     "data": {
      "application/javascript": [
       "(function(root) {\n",
       "  function embed_document(root) {\n",
       "    \n",
       "  var docs_json = {\"a23fd537-76b8-4c6e-9fe8-0d0f2a776a52\":{\"roots\":{\"references\":[{\"attributes\":{\"formatter\":{\"id\":\"3671\",\"type\":\"BasicTickFormatter\"},\"plot\":{\"id\":\"3297\",\"subtype\":\"Figure\",\"type\":\"Plot\"},\"ticker\":{\"id\":\"3311\",\"type\":\"BasicTicker\"}},\"id\":\"3310\",\"type\":\"LinearAxis\"},{\"attributes\":{\"items\":[{\"id\":\"3343\",\"type\":\"LegendItem\"}],\"location\":[0,-30],\"plot\":{\"id\":\"3297\",\"subtype\":\"Figure\",\"type\":\"Plot\"}},\"id\":\"3342\",\"type\":\"Legend\"},{\"attributes\":{\"dimension\":1,\"plot\":{\"id\":\"3297\",\"subtype\":\"Figure\",\"type\":\"Plot\"},\"ticker\":{\"id\":\"3311\",\"type\":\"BasicTicker\"}},\"id\":\"3314\",\"type\":\"Grid\"},{\"attributes\":{},\"id\":\"3311\",\"type\":\"BasicTicker\"},{\"attributes\":{\"bottom_units\":\"screen\",\"fill_alpha\":{\"value\":0.5},\"fill_color\":{\"value\":\"lightgrey\"},\"left_units\":\"screen\",\"level\":\"overlay\",\"line_alpha\":{\"value\":1.0},\"line_color\":{\"value\":\"black\"},\"line_dash\":[4,4],\"line_width\":{\"value\":2},\"plot\":null,\"render_mode\":\"css\",\"right_units\":\"screen\",\"top_units\":\"screen\"},\"id\":\"3323\",\"type\":\"BoxAnnotation\"},{\"attributes\":{},\"id\":\"3671\",\"type\":\"BasicTickFormatter\"},{\"attributes\":{},\"id\":\"3318\",\"type\":\"SaveTool\"},{\"attributes\":{\"source\":{\"id\":\"3335\",\"type\":\"ColumnDataSource\"}},\"id\":\"3339\",\"type\":\"CDSView\"},{\"attributes\":{\"plot\":null,\"text\":\"\"},\"id\":\"3668\",\"type\":\"Title\"},{\"attributes\":{\"overlay\":{\"id\":\"3323\",\"type\":\"BoxAnnotation\"}},\"id\":\"3317\",\"type\":\"BoxZoomTool\"},{\"attributes\":{\"callback\":null,\"factors\":[\"Regularly\",\"Occasionally\",\"Rarely\",\"Never\"]},\"id\":\"3298\",\"type\":\"FactorRange\"},{\"attributes\":{},\"id\":\"3673\",\"type\":\"CategoricalTickFormatter\"},{\"attributes\":{\"label\":{\"value\":\"Visiting third time\"},\"renderers\":[{\"id\":\"3338\",\"type\":\"GlyphRenderer\"}]},\"id\":\"3343\",\"type\":\"LegendItem\"},{\"attributes\":{},\"id\":\"3316\",\"type\":\"WheelZoomTool\"},{\"attributes\":{},\"id\":\"3676\",\"type\":\"Selection\"},{\"attributes\":{},\"id\":\"3675\",\"type\":\"UnionRenderers\"},{\"attributes\":{\"plot\":{\"id\":\"3297\",\"subtype\":\"Figure\",\"type\":\"Plot\"},\"ticker\":{\"id\":\"3307\",\"type\":\"CategoricalTicker\"}},\"id\":\"3309\",\"type\":\"Grid\"},{\"attributes\":{\"active_drag\":\"auto\",\"active_inspect\":\"auto\",\"active_multi\":null,\"active_scroll\":\"auto\",\"active_tap\":\"auto\",\"tools\":[{\"id\":\"3315\",\"type\":\"PanTool\"},{\"id\":\"3316\",\"type\":\"WheelZoomTool\"},{\"id\":\"3317\",\"type\":\"BoxZoomTool\"},{\"id\":\"3318\",\"type\":\"SaveTool\"},{\"id\":\"3319\",\"type\":\"ResetTool\"},{\"id\":\"3320\",\"type\":\"HelpTool\"}]},\"id\":\"3321\",\"type\":\"Toolbar\"},{\"attributes\":{},\"id\":\"3319\",\"type\":\"ResetTool\"},{\"attributes\":{\"data_source\":{\"id\":\"3335\",\"type\":\"ColumnDataSource\"},\"glyph\":{\"id\":\"3336\",\"type\":\"VBar\"},\"hover_glyph\":null,\"muted_glyph\":null,\"nonselection_glyph\":{\"id\":\"3337\",\"type\":\"VBar\"},\"selection_glyph\":null,\"view\":{\"id\":\"3339\",\"type\":\"CDSView\"}},\"id\":\"3338\",\"type\":\"GlyphRenderer\"},{\"attributes\":{},\"id\":\"3320\",\"type\":\"HelpTool\"},{\"attributes\":{},\"id\":\"3307\",\"type\":\"CategoricalTicker\"},{\"attributes\":{\"callback\":null},\"id\":\"3300\",\"type\":\"DataRange1d\"},{\"attributes\":{\"fill_color\":{\"value\":\"mediumslateblue\"},\"line_color\":{\"value\":\"mediumslateblue\"},\"top\":{\"field\":\"top\"},\"width\":{\"value\":0.3},\"x\":{\"field\":\"x\"}},\"id\":\"3336\",\"type\":\"VBar\"},{\"attributes\":{\"fill_alpha\":{\"value\":0.1},\"fill_color\":{\"value\":\"#1f77b4\"},\"line_alpha\":{\"value\":0.1},\"line_color\":{\"value\":\"#1f77b4\"},\"top\":{\"field\":\"top\"},\"width\":{\"value\":0.3},\"x\":{\"field\":\"x\"}},\"id\":\"3337\",\"type\":\"VBar\"},{\"attributes\":{\"callback\":null,\"data\":{\"top\":[10,10,1,1],\"x\":[\"Regularly\",\"Occasionally\",\"Rarely\",\"Never\"]},\"selected\":{\"id\":\"3676\",\"type\":\"Selection\"},\"selection_policy\":{\"id\":\"3675\",\"type\":\"UnionRenderers\"}},\"id\":\"3335\",\"type\":\"ColumnDataSource\"},{\"attributes\":{\"background_fill_color\":{\"value\":\"honeydew\"},\"below\":[{\"id\":\"3306\",\"type\":\"CategoricalAxis\"}],\"border_fill_color\":{\"value\":\"honeydew\"},\"left\":[{\"id\":\"3310\",\"type\":\"LinearAxis\"}],\"plot_height\":300,\"plot_width\":400,\"renderers\":[{\"id\":\"3306\",\"type\":\"CategoricalAxis\"},{\"id\":\"3309\",\"type\":\"Grid\"},{\"id\":\"3310\",\"type\":\"LinearAxis\"},{\"id\":\"3314\",\"type\":\"Grid\"},{\"id\":\"3323\",\"type\":\"BoxAnnotation\"},{\"id\":\"3338\",\"type\":\"GlyphRenderer\"},{\"id\":\"3342\",\"type\":\"Legend\"}],\"right\":[{\"id\":\"3342\",\"type\":\"Legend\"}],\"title\":{\"id\":\"3668\",\"type\":\"Title\"},\"toolbar\":{\"id\":\"3321\",\"type\":\"Toolbar\"},\"x_range\":{\"id\":\"3298\",\"type\":\"FactorRange\"},\"x_scale\":{\"id\":\"3302\",\"type\":\"CategoricalScale\"},\"y_range\":{\"id\":\"3300\",\"type\":\"DataRange1d\"},\"y_scale\":{\"id\":\"3304\",\"type\":\"LinearScale\"}},\"id\":\"3297\",\"subtype\":\"Figure\",\"type\":\"Plot\"},{\"attributes\":{},\"id\":\"3302\",\"type\":\"CategoricalScale\"},{\"attributes\":{\"formatter\":{\"id\":\"3673\",\"type\":\"CategoricalTickFormatter\"},\"plot\":{\"id\":\"3297\",\"subtype\":\"Figure\",\"type\":\"Plot\"},\"ticker\":{\"id\":\"3307\",\"type\":\"CategoricalTicker\"}},\"id\":\"3306\",\"type\":\"CategoricalAxis\"},{\"attributes\":{},\"id\":\"3304\",\"type\":\"LinearScale\"},{\"attributes\":{},\"id\":\"3315\",\"type\":\"PanTool\"}],\"root_ids\":[\"3297\"]},\"title\":\"Bokeh Application\",\"version\":\"1.0.4\"}};\n",
       "  var render_items = [{\"docid\":\"a23fd537-76b8-4c6e-9fe8-0d0f2a776a52\",\"roots\":{\"3297\":\"86d43ce7-a28c-4a9a-8222-38669dd86a2d\"}}];\n",
       "  root.Bokeh.embed.embed_items_notebook(docs_json, render_items);\n",
       "\n",
       "  }\n",
       "  if (root.Bokeh !== undefined) {\n",
       "    embed_document(root);\n",
       "  } else {\n",
       "    var attempts = 0;\n",
       "    var timer = setInterval(function(root) {\n",
       "      if (root.Bokeh !== undefined) {\n",
       "        embed_document(root);\n",
       "        clearInterval(timer);\n",
       "      }\n",
       "      attempts++;\n",
       "      if (attempts > 100) {\n",
       "        console.log(\"Bokeh: ERROR: Unable to run BokehJS code because BokehJS library is missing\");\n",
       "        clearInterval(timer);\n",
       "      }\n",
       "    }, 10, root)\n",
       "  }\n",
       "})(window);"
      ],
      "application/vnd.bokehjs_exec.v0+json": ""
     },
     "metadata": {
      "application/vnd.bokehjs_exec.v0+json": {
       "id": "3297"
      }
     },
     "output_type": "display_data"
    },
    {
     "name": "stdout",
     "output_type": "stream",
     "text": [
      "Insight: People tend to ride bike more than those who are coming for the first time\n"
     ]
    }
   ],
   "source": [
    "plot_insight('Biking_tendency')\n",
    "print(\"Insight: People tend to ride bike more than those who are coming for the first time\")"
   ]
  },
  {
   "cell_type": "markdown",
   "metadata": {},
   "source": [
    "Insight on how much people are willing to spend in the event"
   ]
  },
  {
   "cell_type": "code",
   "execution_count": 26,
   "metadata": {},
   "outputs": [
    {
     "name": "stdout",
     "output_type": "stream",
     "text": [
      "Average money people likely to spend who are attending 3rd time :  21.904761904761905\n",
      "Average money people likely to spend who are attending 1st time :  21.57894736842105\n",
      "Insight : No major difference between the two groups. Both are equally likely to spend\n"
     ]
    },
    {
     "data": {
      "image/png": "[encoded data removed]",
      "text/plain": [
       "<Figure size 360x360 with 1 Axes>"
      ]
     },
     "metadata": {
      "needs_background": "light"
     },
     "output_type": "display_data"
    }
   ],
   "source": [
    "spend = []\n",
    "temp = []\n",
    "temp.append(attending_3rd_time['Money_spent_in_OSP'].mean())\n",
    "temp.append(attending_1st_time['Money_spent_in_OSP'].mean())\n",
    "spend.append(temp)\n",
    "name = ['Attending_3rd_time','Attending_1st_time']\n",
    "data = pd.DataFrame(spend, columns = name)\n",
    "print(\"Average money people likely to spend who are attending 3rd time : \", attending_3rd_time['Money_spent_in_OSP'].mean())\n",
    "print(\"Average money people likely to spend who are attending 1st time : \", attending_1st_time['Money_spent_in_OSP'].mean())\n",
    "sns.catplot(kind=\"bar\", data=data)\n",
    "print(\"Insight : No major difference between the two groups. Both are equally likely to spend\")"
   ]
  },
  {
   "cell_type": "code",
   "execution_count": null,
   "metadata": {},
   "outputs": [],
   "source": []
  },
  {
   "cell_type": "code",
   "execution_count": 27,
   "metadata": {},
   "outputs": [],
   "source": [
    "\n",
    "\n",
    "# print((attended_3_times['Race'].value_counts()))\n",
    "# print((attended_2_times['Race'].value_counts()))\n",
    "# print((attended_3_times['Attend_in_future'].value_counts()))\n",
    "# print((attended_2_times['Attend_in_future'].value_counts()))\n",
    "# print((attended_3_times['Money_spent_in_OSP'].mean()))\n",
    "# print((attended_2_times['Money_spent_in_OSP'].mean()))\n",
    "# print((attended_3_times['BikePGH_organizes_OSPGH'].value_counts()))\n",
    "# print((attended_2_times['BikePGH_organizes_OSPGH'].value_counts()))\n",
    "# print((attended_3_times['Reasons_for_biking'].value_counts()))\n",
    "# print((attended_2_times['Reasons_for_biking'].value_counts()))"
   ]
  },
  {
   "cell_type": "code",
   "execution_count": 28,
   "metadata": {},
   "outputs": [],
   "source": [
    "# Filtering out the people who have attended\n",
    "# ['Best_about_BikePGH', 'Attended_Before', 'How_you_heard',\n",
    "#        'Primary_activities', 'Time_you_will_spend', 'Walking_tendency',\n",
    "#        'Biking_tendency', 'Likelihood_walking_exercise',\n",
    "#        'Likelihood_biking_exercise', 'Do_you_walk', 'Do_you_bike',\n",
    "#        'Likelihood_walking_transportation', 'Likelihood_biking_transportation',\n",
    "#        'Reasons_for_biking', 'BikePGH_organizes_OSPGH', 'Children_0-3',\n",
    "#        'Children_4-8', 'Children_9-13', 'Children_14-17', 'Money_spent_in_OSP',\n",
    "#        'Attend_in_future', 'Age', 'Race', 'Gender', 'ZipCode', 'Income',\n",
    "#        'City', 'State', 'Latitude', 'Longitude']"
   ]
  },
  {
   "cell_type": "code",
   "execution_count": null,
   "metadata": {},
   "outputs": [],
   "source": []
  }
 ],
 "metadata": {
  "kernelspec": {
   "display_name": "Python 3",
   "language": "python",
   "name": "python3"
  },
  "language_info": {
   "codemirror_mode": {
    "name": "ipython",
    "version": 3
   },
   "file_extension": ".py",
   "mimetype": "text/x-python",
   "name": "python",
   "nbconvert_exporter": "python",
   "pygments_lexer": "ipython3",
   "version": "3.5.2"
  }
 },
 "nbformat": 4,
 "nbformat_minor": 2
}
